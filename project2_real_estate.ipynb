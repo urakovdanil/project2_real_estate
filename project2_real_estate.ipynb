{
 "cells": [
  {
   "cell_type": "markdown",
   "metadata": {},
   "source": [
    "# Исследование объявлений о продаже квартир\n",
    "\n",
    "Исследование рынка недвижимости Санкт-Петербурга и Ленинградской Области. \n",
    "  \n",
    "Цель: определение рыночной стоимости объектов жилой недвижимости в регионе и ключевых факторов, влияющих на стоимость жилья.\n",
    "  \n",
    "Источник: архив сервиса Яндекс.Недвижимость за 2018 год.\n",
    "  \n",
    "Данные: указанные пользователем и полученные автоматические получены автоматически на основе картографических данных (расстояние до центра, аэропорта, ближайшего парка и водоёма)"
   ]
  },
  {
   "cell_type": "markdown",
   "metadata": {},
   "source": [
    "## План выполнения проекта\n",
    "1. Предобработка данных: \n",
    "  1. Изучение общей информации о данных и формирование промежуточных выводов о природе возникновения пропусков. \n",
    "  2. Выделение колонок, в которых обогащение данных необходимо\n",
    "  3. Определение колонок, в которых необходимо изменение формата данных\n",
    "2. Обогащение данных в первую очередь в определенных выше колонках, а также там, где это возможно\n",
    "3. Исследование на предмет наличия выбросов во всех колонках с количественными данными\n",
    "4. Приведение данных к единому перечню типов\n",
    "5. Проведение дополнительных расчетов \n",
    "  1. цена квадратного метра\n",
    "  2. день, месяц и год публикации объявления\n",
    "  3. тип этажа (первый, последний, другой)\n",
    "  4. отношение жилой площади к общей площади\n",
    "  5. отношение площади кухни к общей площади\n",
    "6. Ответы на поставленные в проекте вопросы"
   ]
  },
  {
   "cell_type": "markdown",
   "metadata": {},
   "source": [
    "## Шаг 1. Откройте файл с данными и изучите общую информацию. "
   ]
  },
  {
   "cell_type": "markdown",
   "metadata": {},
   "source": [
    "### Общая информация о данных"
   ]
  },
  {
   "cell_type": "code",
   "execution_count": 1,
   "metadata": {},
   "outputs": [
    {
     "name": "stdout",
     "output_type": "stream",
     "text": [
      "<class 'pandas.core.frame.DataFrame'>\n",
      "RangeIndex: 23699 entries, 0 to 23698\n",
      "Data columns (total 22 columns):\n",
      "total_images            23699 non-null int64\n",
      "last_price              23699 non-null float64\n",
      "total_area              23699 non-null float64\n",
      "first_day_exposition    23699 non-null object\n",
      "rooms                   23699 non-null int64\n",
      "ceiling_height          14504 non-null float64\n",
      "floors_total            23613 non-null float64\n",
      "living_area             21796 non-null float64\n",
      "floor                   23699 non-null int64\n",
      "is_apartment            2775 non-null object\n",
      "studio                  23699 non-null bool\n",
      "open_plan               23699 non-null bool\n",
      "kitchen_area            21421 non-null float64\n",
      "balcony                 12180 non-null float64\n",
      "locality_name           23650 non-null object\n",
      "airports_nearest        18157 non-null float64\n",
      "cityCenters_nearest     18180 non-null float64\n",
      "parks_around3000        18181 non-null float64\n",
      "parks_nearest           8079 non-null float64\n",
      "ponds_around3000        18181 non-null float64\n",
      "ponds_nearest           9110 non-null float64\n",
      "days_exposition         20518 non-null float64\n",
      "dtypes: bool(2), float64(14), int64(3), object(3)\n",
      "memory usage: 3.7+ MB\n"
     ]
    }
   ],
   "source": [
    "import pandas as pd\n",
    "import matplotlib.pyplot as plt\n",
    "import numpy as np\n",
    "import warnings\n",
    "\n",
    "\n",
    "warnings.filterwarnings('ignore')\n",
    "\n",
    "try:\n",
    "\n",
    "    df_raw = pd.read_csv('C:/Users/urako/praktikum/DA/Projects/Course2_real_estate/real_estate_data.csv', sep='\\t')\n",
    "\n",
    "except:\n",
    "    \n",
    "    df_raw = pd.read_csv('/datasets/real_estate_data.csv', sep='\\t')\n",
    "\n",
    "df_raw_rows = df_raw.shape[0]\n",
    "df_raw.info()"
   ]
  },
  {
   "cell_type": "markdown",
   "metadata": {},
   "source": [
    "### Первые пять строк таблицы"
   ]
  },
  {
   "cell_type": "code",
   "execution_count": 2,
   "metadata": {},
   "outputs": [
    {
     "data": {
      "text/html": [
       "<div>\n",
       "<style scoped>\n",
       "    .dataframe tbody tr th:only-of-type {\n",
       "        vertical-align: middle;\n",
       "    }\n",
       "\n",
       "    .dataframe tbody tr th {\n",
       "        vertical-align: top;\n",
       "    }\n",
       "\n",
       "    .dataframe thead th {\n",
       "        text-align: right;\n",
       "    }\n",
       "</style>\n",
       "<table border=\"1\" class=\"dataframe\">\n",
       "  <thead>\n",
       "    <tr style=\"text-align: right;\">\n",
       "      <th></th>\n",
       "      <th>total_images</th>\n",
       "      <th>last_price</th>\n",
       "      <th>total_area</th>\n",
       "      <th>first_day_exposition</th>\n",
       "      <th>rooms</th>\n",
       "      <th>ceiling_height</th>\n",
       "      <th>floors_total</th>\n",
       "      <th>living_area</th>\n",
       "      <th>floor</th>\n",
       "      <th>is_apartment</th>\n",
       "      <th>...</th>\n",
       "      <th>kitchen_area</th>\n",
       "      <th>balcony</th>\n",
       "      <th>locality_name</th>\n",
       "      <th>airports_nearest</th>\n",
       "      <th>cityCenters_nearest</th>\n",
       "      <th>parks_around3000</th>\n",
       "      <th>parks_nearest</th>\n",
       "      <th>ponds_around3000</th>\n",
       "      <th>ponds_nearest</th>\n",
       "      <th>days_exposition</th>\n",
       "    </tr>\n",
       "  </thead>\n",
       "  <tbody>\n",
       "    <tr>\n",
       "      <td>0</td>\n",
       "      <td>20</td>\n",
       "      <td>13000000.0</td>\n",
       "      <td>108.0</td>\n",
       "      <td>2019-03-07T00:00:00</td>\n",
       "      <td>3</td>\n",
       "      <td>2.70</td>\n",
       "      <td>16.0</td>\n",
       "      <td>51.0</td>\n",
       "      <td>8</td>\n",
       "      <td>NaN</td>\n",
       "      <td>...</td>\n",
       "      <td>25.0</td>\n",
       "      <td>NaN</td>\n",
       "      <td>Санкт-Петербург</td>\n",
       "      <td>18863.0</td>\n",
       "      <td>16028.0</td>\n",
       "      <td>1.0</td>\n",
       "      <td>482.0</td>\n",
       "      <td>2.0</td>\n",
       "      <td>755.0</td>\n",
       "      <td>NaN</td>\n",
       "    </tr>\n",
       "    <tr>\n",
       "      <td>1</td>\n",
       "      <td>7</td>\n",
       "      <td>3350000.0</td>\n",
       "      <td>40.4</td>\n",
       "      <td>2018-12-04T00:00:00</td>\n",
       "      <td>1</td>\n",
       "      <td>NaN</td>\n",
       "      <td>11.0</td>\n",
       "      <td>18.6</td>\n",
       "      <td>1</td>\n",
       "      <td>NaN</td>\n",
       "      <td>...</td>\n",
       "      <td>11.0</td>\n",
       "      <td>2.0</td>\n",
       "      <td>посёлок Шушары</td>\n",
       "      <td>12817.0</td>\n",
       "      <td>18603.0</td>\n",
       "      <td>0.0</td>\n",
       "      <td>NaN</td>\n",
       "      <td>0.0</td>\n",
       "      <td>NaN</td>\n",
       "      <td>81.0</td>\n",
       "    </tr>\n",
       "    <tr>\n",
       "      <td>2</td>\n",
       "      <td>10</td>\n",
       "      <td>5196000.0</td>\n",
       "      <td>56.0</td>\n",
       "      <td>2015-08-20T00:00:00</td>\n",
       "      <td>2</td>\n",
       "      <td>NaN</td>\n",
       "      <td>5.0</td>\n",
       "      <td>34.3</td>\n",
       "      <td>4</td>\n",
       "      <td>NaN</td>\n",
       "      <td>...</td>\n",
       "      <td>8.3</td>\n",
       "      <td>0.0</td>\n",
       "      <td>Санкт-Петербург</td>\n",
       "      <td>21741.0</td>\n",
       "      <td>13933.0</td>\n",
       "      <td>1.0</td>\n",
       "      <td>90.0</td>\n",
       "      <td>2.0</td>\n",
       "      <td>574.0</td>\n",
       "      <td>558.0</td>\n",
       "    </tr>\n",
       "    <tr>\n",
       "      <td>3</td>\n",
       "      <td>0</td>\n",
       "      <td>64900000.0</td>\n",
       "      <td>159.0</td>\n",
       "      <td>2015-07-24T00:00:00</td>\n",
       "      <td>3</td>\n",
       "      <td>NaN</td>\n",
       "      <td>14.0</td>\n",
       "      <td>NaN</td>\n",
       "      <td>9</td>\n",
       "      <td>NaN</td>\n",
       "      <td>...</td>\n",
       "      <td>NaN</td>\n",
       "      <td>0.0</td>\n",
       "      <td>Санкт-Петербург</td>\n",
       "      <td>28098.0</td>\n",
       "      <td>6800.0</td>\n",
       "      <td>2.0</td>\n",
       "      <td>84.0</td>\n",
       "      <td>3.0</td>\n",
       "      <td>234.0</td>\n",
       "      <td>424.0</td>\n",
       "    </tr>\n",
       "    <tr>\n",
       "      <td>4</td>\n",
       "      <td>2</td>\n",
       "      <td>10000000.0</td>\n",
       "      <td>100.0</td>\n",
       "      <td>2018-06-19T00:00:00</td>\n",
       "      <td>2</td>\n",
       "      <td>3.03</td>\n",
       "      <td>14.0</td>\n",
       "      <td>32.0</td>\n",
       "      <td>13</td>\n",
       "      <td>NaN</td>\n",
       "      <td>...</td>\n",
       "      <td>41.0</td>\n",
       "      <td>NaN</td>\n",
       "      <td>Санкт-Петербург</td>\n",
       "      <td>31856.0</td>\n",
       "      <td>8098.0</td>\n",
       "      <td>2.0</td>\n",
       "      <td>112.0</td>\n",
       "      <td>1.0</td>\n",
       "      <td>48.0</td>\n",
       "      <td>121.0</td>\n",
       "    </tr>\n",
       "  </tbody>\n",
       "</table>\n",
       "<p>5 rows × 22 columns</p>\n",
       "</div>"
      ],
      "text/plain": [
       "   total_images  last_price  total_area first_day_exposition  rooms  \\\n",
       "0            20  13000000.0       108.0  2019-03-07T00:00:00      3   \n",
       "1             7   3350000.0        40.4  2018-12-04T00:00:00      1   \n",
       "2            10   5196000.0        56.0  2015-08-20T00:00:00      2   \n",
       "3             0  64900000.0       159.0  2015-07-24T00:00:00      3   \n",
       "4             2  10000000.0       100.0  2018-06-19T00:00:00      2   \n",
       "\n",
       "   ceiling_height  floors_total  living_area  floor is_apartment  ...  \\\n",
       "0            2.70          16.0         51.0      8          NaN  ...   \n",
       "1             NaN          11.0         18.6      1          NaN  ...   \n",
       "2             NaN           5.0         34.3      4          NaN  ...   \n",
       "3             NaN          14.0          NaN      9          NaN  ...   \n",
       "4            3.03          14.0         32.0     13          NaN  ...   \n",
       "\n",
       "   kitchen_area  balcony    locality_name  airports_nearest  \\\n",
       "0          25.0      NaN  Санкт-Петербург           18863.0   \n",
       "1          11.0      2.0   посёлок Шушары           12817.0   \n",
       "2           8.3      0.0  Санкт-Петербург           21741.0   \n",
       "3           NaN      0.0  Санкт-Петербург           28098.0   \n",
       "4          41.0      NaN  Санкт-Петербург           31856.0   \n",
       "\n",
       "  cityCenters_nearest  parks_around3000  parks_nearest  ponds_around3000  \\\n",
       "0             16028.0               1.0          482.0               2.0   \n",
       "1             18603.0               0.0            NaN               0.0   \n",
       "2             13933.0               1.0           90.0               2.0   \n",
       "3              6800.0               2.0           84.0               3.0   \n",
       "4              8098.0               2.0          112.0               1.0   \n",
       "\n",
       "   ponds_nearest  days_exposition  \n",
       "0          755.0              NaN  \n",
       "1            NaN             81.0  \n",
       "2          574.0            558.0  \n",
       "3          234.0            424.0  \n",
       "4           48.0            121.0  \n",
       "\n",
       "[5 rows x 22 columns]"
      ]
     },
     "execution_count": 2,
     "metadata": {},
     "output_type": "execute_result"
    }
   ],
   "source": [
    "df_raw.head(5)"
   ]
  },
  {
   "cell_type": "markdown",
   "metadata": {},
   "source": [
    "### Вывод"
   ]
  },
  {
   "cell_type": "markdown",
   "metadata": {},
   "source": [
    "#### Пропуски:\n",
    "1. _ceiling_height_: На основании количества пропусков (39% случаев), сложно однозначно указать на причину возникновения -   оно связано либо с тем, что пользователь не указал эти данные при публикации объявления, либо с системной ошибкой, либо по обеим причинам сразу;  \n",
    "2. _floors_total_: возникновение вероятнее всего связано с пропусками при заполнении объявления (пропусков слишком мало для явной системной ошибки);  \n",
    "3. _is_apartment_: наибольшее количество пропусков допущено именно в этой колонке. Вероятно, не все пользователи знают, что понимать под \"апартаментами\", и просто игнорируют это поле (возможно, стоит добавить пояснение в интерфейс формы для подачи объявлений);  \n",
    "4. _kitchen_area_: возникновение вероятнее всего связано с пропусками при заполнении объявления (пропусков слишком мало для явной системной ошибки);  \n",
    "5. _balcony_: пропуски могут означать отсутствие балконов в квартире; \n",
    "6. _locality_name_: согласно ТЗ, данная колонка заполняется автоматически. Вероятно, некорректно указанный адрес привел к сбою работы алгоритмов;\n",
    "7. _airports_nearest_: вероятнее всего, пропуски допущены из-за слишком большого расстояния до аэропорта;\n",
    "8. _cityCenters_nearest_: пропуски точно связаны со сбоем в алгоритмах (вероятнее всего система не знает, где у данного населенного пункта центр);\n",
    "9. _parks_around3000_: вероятно, пропуск говорит об отсутствии парков в радиусе 3 км;\n",
    "10. _parks_nearest_: вероятно, пропуск говорит об отсутствии парков в населенном пункте. Проверить можно следующим образом: если в качестве локации указан крупный населенный пункт, но в колонке при этом пропуск, значит, дело в системной ошибке \n",
    "11. _ponds_around3000_: пропуски могут говорить об отсутствии прудов в радиусе 3 км; \n",
    "12. _ponds_nearest_: вероятно, пропуск говорит об отсутствии прудов в населенном пункте. Проверить можно следующим образом: если в качестве локации указан крупный населенный пункт, но в колонке при этом пропуск, значит, дело в системной ошибке;  \n",
    "13. _days_exposition_: вероятно, пропуски возникли в силу того, что публикация еще активна.  \n",
    "\n",
    "####  Строго необходимые данные\n",
    "Данные, непосредственно используемые при ответе на поставленные в ТЗ вопросы: пропуски в соответствующих колонках __обязательно должны быть устранены__\n",
    " 1. last_price            23699 non-null  float64\n",
    " 2. first_day_exposition  23699 non-null  object\n",
    " 3. rooms                 23699 non-null  int64  \n",
    " 4. ceiling_height        14504 non-null  float64\n",
    " 5. floors_total          23613 non-null  float64\n",
    " 6. living_area           21796 non-null  float64\n",
    " 7. floor                 23699 non-null  int64  \n",
    " 8. kitchen_area          21421 non-null  float64\n",
    " 9. locality_name         23650 non-null  object\n",
    " 10. days_exposition       20518 non-null  float64\n",
    "  \n",
    "  \n",
    "#### Выбросы: \n",
    "  - На предмет наличия выбросов необходимо проверить все колонки с числовыми данными.  \n",
    "  \n",
    "#### Формат числовых значений: \n",
    "  - Необходимо привести все числовые значения к типу int64 (за редким исключением, об этом - ниже): это ускорит расчеты и упростит чтение таблицы.  \n",
    "  - С той же целью имеет смысл перевести цены из рублей в тысячи рублей. Все объявления, в которых цена указана с точностью до сотен или десятков рублей, можно сохранить с округлением цены. \n",
    "  \n",
    "#### Дубликаты\n",
    "  - После заполнения пропусков необходимо выполнить поиск полных и скрытых дубликатов"
   ]
  },
  {
   "cell_type": "markdown",
   "metadata": {},
   "source": [
    "## Шаг 2. Предобработка данных"
   ]
  },
  {
   "cell_type": "markdown",
   "metadata": {},
   "source": [
    "### Обработка пропусков"
   ]
  },
  {
   "cell_type": "markdown",
   "metadata": {},
   "source": [
    "#### Колонка _ceiling_height_"
   ]
  },
  {
   "cell_type": "markdown",
   "metadata": {},
   "source": [
    "Обогащение данных на первом этапе проводится по следующему алгоритму:  \n",
    "1. Данные в колонках, по которым группируются данные и вычисляются средние, проверяются на предмет наличия выбросов\n",
    "1. Данные группируются по населенным пунктам и этажности домов\n",
    "2. Для каждой группы вычисляются медианные значения высот потолков\n",
    "3. Пропуски заполняются в соответствии с принадлежностью дома к определенной группе"
   ]
  },
  {
   "cell_type": "markdown",
   "metadata": {},
   "source": [
    "Сводная информация о данных в столбце:"
   ]
  },
  {
   "cell_type": "code",
   "execution_count": 3,
   "metadata": {},
   "outputs": [
    {
     "data": {
      "text/plain": [
       "count    14504.000000\n",
       "mean         2.771499\n",
       "std          1.261056\n",
       "min          1.000000\n",
       "25%          2.520000\n",
       "50%          2.650000\n",
       "75%          2.800000\n",
       "max        100.000000\n",
       "Name: ceiling_height, dtype: float64"
      ]
     },
     "execution_count": 3,
     "metadata": {},
     "output_type": "execute_result"
    }
   ],
   "source": [
    "df_raw['ceiling_height'].describe()"
   ]
  },
  {
   "cell_type": "code",
   "execution_count": 4,
   "metadata": {},
   "outputs": [
    {
     "data": {
      "image/png": "[encoded data removed]",
      "text/plain": [
       "<Figure size 432x288 with 1 Axes>"
      ]
     },
     "metadata": {
      "needs_background": "light"
     },
     "output_type": "display_data"
    }
   ],
   "source": [
    "df_raw.boxplot(column='ceiling_height')\n",
    "plt.show()"
   ]
  },
  {
   "cell_type": "markdown",
   "metadata": {},
   "source": [
    "Согласно полученым сведениям, от нормы выбиваются и минимальные, и максимальные значения: в жилых домах потолки высотой в 100 метров не встречаются в принципе, а потолки высотой в метр запрещены законом.  \n",
    "Согласно диаграмме размаха, аномально больших значений не так много.  \n",
    "Оценим распределение величин свыше 4 метров"
   ]
  },
  {
   "cell_type": "code",
   "execution_count": 5,
   "metadata": {},
   "outputs": [
    {
     "data": {
      "image/png": "[encoded data removed]",
      "text/plain": [
       "<Figure size 1080x288 with 1 Axes>"
      ]
     },
     "metadata": {
      "needs_background": "light"
     },
     "output_type": "display_data"
    }
   ],
   "source": [
    "df_raw['ceiling_height'].hist(figsize=(15, 4), range=(4, 100), grid=True, bins=100-4)\n",
    "plt.show()"
   ]
  },
  {
   "cell_type": "code",
   "execution_count": 6,
   "metadata": {},
   "outputs": [
    {
     "name": "stdout",
     "output_type": "stream",
     "text": [
      "Количество объявлений о квартирах с высотой потолков свыше 4 метров: 75\n"
     ]
    }
   ],
   "source": [
    "more_than_six = df_raw.query('ceiling_height > 4')['ceiling_height'].count()\n",
    "print(f'Количество объявлений о квартирах с высотой потолков свыше 4 метров: {more_than_six}')"
   ]
  },
  {
   "cell_type": "markdown",
   "metadata": {},
   "source": [
    "Количество подобных объявлений значительно меньше общего объема данных, значит, их можно удалить.  \n",
    "Предел в 6 метров был выбран исходя из специфики петербуржской архитектуры, где на продажу могут выставлять жилые помещения в старых домах, знаменитых высокими потолками. "
   ]
  },
  {
   "cell_type": "code",
   "execution_count": 7,
   "metadata": {},
   "outputs": [
    {
     "name": "stdout",
     "output_type": "stream",
     "text": [
      "<class 'pandas.core.frame.DataFrame'>\n",
      "RangeIndex: 23585 entries, 0 to 23584\n",
      "Data columns (total 22 columns):\n",
      "total_images            23585 non-null int64\n",
      "last_price              23585 non-null float64\n",
      "total_area              23585 non-null float64\n",
      "first_day_exposition    23585 non-null object\n",
      "rooms                   23585 non-null int64\n",
      "ceiling_height          14390 non-null float64\n",
      "floors_total            23499 non-null float64\n",
      "living_area             21690 non-null float64\n",
      "floor                   23585 non-null int64\n",
      "is_apartment            2747 non-null object\n",
      "studio                  23585 non-null bool\n",
      "open_plan               23585 non-null bool\n",
      "kitchen_area            21322 non-null float64\n",
      "balcony                 12126 non-null float64\n",
      "locality_name           23537 non-null object\n",
      "airports_nearest        18064 non-null float64\n",
      "cityCenters_nearest     18084 non-null float64\n",
      "parks_around3000        18085 non-null float64\n",
      "parks_nearest           8016 non-null float64\n",
      "ponds_around3000        18085 non-null float64\n",
      "ponds_nearest           9043 non-null float64\n",
      "days_exposition         20431 non-null float64\n",
      "dtypes: bool(2), float64(14), int64(3), object(3)\n",
      "memory usage: 3.6+ MB\n"
     ]
    }
   ],
   "source": [
    "df_raw = df_raw.drop(df_raw.loc[df_raw.loc[:, 'ceiling_height'] >= 4].index).reset_index(drop=True)\n",
    "df_raw.info()"
   ]
  },
  {
   "cell_type": "markdown",
   "metadata": {},
   "source": [
    "Распределение данных о высоте потолков после удаления выбросов \"сверху\": "
   ]
  },
  {
   "cell_type": "code",
   "execution_count": 8,
   "metadata": {},
   "outputs": [
    {
     "data": {
      "image/png": "[encoded data removed]",
      "text/plain": [
       "<Figure size 1080x288 with 1 Axes>"
      ]
     },
     "metadata": {
      "needs_background": "light"
     },
     "output_type": "display_data"
    }
   ],
   "source": [
    "df_raw['ceiling_height'].hist(range=(0, 4), bins=40, figsize=(15, 4))\n",
    "plt.show()"
   ]
  },
  {
   "cell_type": "markdown",
   "metadata": {},
   "source": [
    "Видно, что абсолютное большинство объявлений содержат данные о высоте потолков в диапазоне от 2 до 3 метров.  \n",
    "Перестроим диаграмму размаха: "
   ]
  },
  {
   "cell_type": "code",
   "execution_count": 9,
   "metadata": {},
   "outputs": [
    {
     "data": {
      "image/png": "[encoded data removed]",
      "text/plain": [
       "<Figure size 432x288 with 1 Axes>"
      ]
     },
     "metadata": {
      "needs_background": "light"
     },
     "output_type": "display_data"
    }
   ],
   "source": [
    "df_raw.boxplot(column='ceiling_height')\n",
    "plt.show()"
   ]
  },
  {
   "cell_type": "markdown",
   "metadata": {},
   "source": [
    "Видно, что присутствуют объявления о квартирах с высотой потолков ниже 2.5 метров. Оценим их количество. "
   ]
  },
  {
   "cell_type": "code",
   "execution_count": 10,
   "metadata": {},
   "outputs": [
    {
     "name": "stdout",
     "output_type": "stream",
     "text": [
      "Количество объявлений с высотой потолков ниже 2.5 метров: 73\n"
     ]
    }
   ],
   "source": [
    "less_than_two = df_raw.query('ceiling_height < 2.5')['ceiling_height'].count()\n",
    "print(f'Количество объявлений с высотой потолков ниже 2.5 метров: {less_than_two}')"
   ]
  },
  {
   "cell_type": "markdown",
   "metadata": {},
   "source": [
    "Количество таких объявлений позволяет просто удалить их, признав выбросами. "
   ]
  },
  {
   "cell_type": "code",
   "execution_count": 11,
   "metadata": {},
   "outputs": [
    {
     "name": "stdout",
     "output_type": "stream",
     "text": [
      "<class 'pandas.core.frame.DataFrame'>\n",
      "RangeIndex: 23512 entries, 0 to 23511\n",
      "Data columns (total 22 columns):\n",
      "total_images            23512 non-null int64\n",
      "last_price              23512 non-null float64\n",
      "total_area              23512 non-null float64\n",
      "first_day_exposition    23512 non-null object\n",
      "rooms                   23512 non-null int64\n",
      "ceiling_height          14317 non-null float64\n",
      "floors_total            23426 non-null float64\n",
      "living_area             21623 non-null float64\n",
      "floor                   23512 non-null int64\n",
      "is_apartment            2735 non-null object\n",
      "studio                  23512 non-null bool\n",
      "open_plan               23512 non-null bool\n",
      "kitchen_area            21256 non-null float64\n",
      "balcony                 12083 non-null float64\n",
      "locality_name           23464 non-null object\n",
      "airports_nearest        18022 non-null float64\n",
      "cityCenters_nearest     18042 non-null float64\n",
      "parks_around3000        18043 non-null float64\n",
      "parks_nearest           7990 non-null float64\n",
      "ponds_around3000        18043 non-null float64\n",
      "ponds_nearest           9021 non-null float64\n",
      "days_exposition         20368 non-null float64\n",
      "dtypes: bool(2), float64(14), int64(3), object(3)\n",
      "memory usage: 3.6+ MB\n"
     ]
    }
   ],
   "source": [
    "df_raw = df_raw.drop(df_raw.loc[df_raw.loc[:, 'ceiling_height'] < 2.5].index).reset_index(drop=True)\n",
    "df_raw.info()"
   ]
  },
  {
   "cell_type": "markdown",
   "metadata": {},
   "source": [
    "Оценим данные об этажности домов."
   ]
  },
  {
   "cell_type": "code",
   "execution_count": 12,
   "metadata": {},
   "outputs": [
    {
     "data": {
      "text/plain": [
       "count    23426.000000\n",
       "mean        10.704132\n",
       "std          6.598717\n",
       "min          1.000000\n",
       "25%          5.000000\n",
       "50%          9.000000\n",
       "75%         16.000000\n",
       "max         60.000000\n",
       "Name: floors_total, dtype: float64"
      ]
     },
     "execution_count": 12,
     "metadata": {},
     "output_type": "execute_result"
    }
   ],
   "source": [
    "df_raw['floors_total'].describe()"
   ]
  },
  {
   "cell_type": "code",
   "execution_count": 13,
   "metadata": {},
   "outputs": [
    {
     "data": {
      "image/png": "[encoded data removed]",
      "text/plain": [
       "<Figure size 432x288 with 1 Axes>"
      ]
     },
     "metadata": {
      "needs_background": "light"
     },
     "output_type": "display_data"
    }
   ],
   "source": [
    "df_raw.boxplot('floors_total')\n",
    "plt.show()"
   ]
  },
  {
   "cell_type": "markdown",
   "metadata": {},
   "source": [
    "Проверим, где расположены дома выше 30 этажей. Если, они расположены не в крупных городах, признаем эти данные выбросами и удалим. "
   ]
  },
  {
   "cell_type": "code",
   "execution_count": 14,
   "metadata": {},
   "outputs": [
    {
     "name": "stdout",
     "output_type": "stream",
     "text": [
      "Все дома в выборке выше 30 этажей расположены в городах Санкт-Петербург, Кронштадт\n"
     ]
    }
   ],
   "source": [
    "hiegher_30_cicties = df_raw.loc[df_raw.loc[:, 'floors_total'] > 30]['locality_name'].unique()\n",
    "print('Все дома в выборке выше 30 этажей расположены в городах', ', '.join(hiegher_30_cicties))"
   ]
  },
  {
   "cell_type": "markdown",
   "metadata": {},
   "source": [
    "И Санкт-Петербург, и Кронштадт можно признать крупными городами (население 5.400.000 и 44.461 человек на 2020 г. соответственно), в которых встречаются дома выше 30 этажей.  \n",
    "Будем считать, что внесение данных о расположении продаваемого жилья вносятся таким образом, что один и тот же населенный пункт не может быть записан под разными именами, это позволяет нам перейти непосредственно к группировке.  \n",
    "Как было сказано выше, на первом этапе заполнения данные группируются по населенным пунктам, затем по этажности домов. Пропуски заполняются медианными значениями для каждой из выделенных групп. "
   ]
  },
  {
   "cell_type": "code",
   "execution_count": 15,
   "metadata": {},
   "outputs": [
    {
     "name": "stdout",
     "output_type": "stream",
     "text": [
      "Количество пропусков в колонке \"ceiling_height\" до заполнения: 9195\n",
      "Количество пропусков в колонке \"ceiling_height\" после заполнения: 510\n",
      "Количество сократилось на 94.5%\n"
     ]
    }
   ],
   "source": [
    "def ceiling_height_fillna(df):\n",
    "    \"\"\"\n",
    "    Функция заполняет пропуски в колонке \"ceiling_height\". \n",
    "    Объявления группируются по городам и этажности домов, для каждой группы вычисляется медианное значение, \n",
    "    которым и заполняются пропуски.\n",
    "    Функция принимает на вход исследуемый датасет, возвращает кортеж из: датасета без пропусков, \n",
    "                                                                         количества пропусков до заполнения\n",
    "                                                                         количества пропусков после заполнения\n",
    "                                                                         процент, на который сократилось количество пропусков\n",
    "    \n",
    "    df: исследуемый датасет\n",
    "    ceiling_height_na_before: количество пропусков в колонке \"ceiling_height\" до обогащения\n",
    "    df_no_na: исходный датасет без пропусков\n",
    "    df_grouped: датасет без пропусков, сгруппированный по городам и этажности\n",
    "    df_filled_na: исходный датасет, в котором пропуски заполнены вычисленными медианными значениями\n",
    "    ceiling_height_na_after: количество пропусков в колонке \"ceiling_height\" после обогащения\n",
    "    ceiling_height_na_percentage: процент, на который сократилось количество пропусков в колонке \"ceiling_height\"\n",
    "    \"\"\"\n",
    "    \n",
    "    ceiling_height_na_before = df['ceiling_height'].isna().sum()\n",
    "    df_no_na = df.drop(df.loc[df.loc[:, 'locality_name'].isna()].index)\n",
    "    df_no_na = df_no_na.drop(df_no_na.loc[df_no_na.loc[:, 'floors_total'].isna()].index)\n",
    "    df_grouped = (df_no_na.groupby(['locality_name', 'floors_total'])\n",
    "                          .agg({'ceiling_height': 'median'})\n",
    "                          .rename(columns={'ceiling_height': 'ceiling_height_median'}))\n",
    "    df_filled_na = df.merge(df_grouped, on=['locality_name', 'floors_total'], how='left')\n",
    "    df_filled_na.loc[df_filled_na.loc[:, 'ceiling_height'].isna(), 'ceiling_height'] = df_filled_na.loc[df_filled_na.loc[:, 'ceiling_height'].isna(), 'ceiling_height_median']\n",
    "    ceiling_height_na_after = df_filled_na['ceiling_height'].isna().sum()\n",
    "    ceiling_height_na_percentage = (ceiling_height_na_before - ceiling_height_na_after)/ceiling_height_na_before\n",
    "    return df_filled_na, ceiling_height_na_before, ceiling_height_na_after, ceiling_height_na_percentage\n",
    "    \n",
    "    \n",
    "\n",
    "ceiling_height_before_filling = df_raw['ceiling_height']\n",
    "df_raw, ceiling_height_na_before, ceiling_height_na_after, ceiling_height_na_percentage = ceiling_height_fillna(df_raw)\n",
    "print(f'Количество пропусков в колонке \"ceiling_height\" до заполнения: {ceiling_height_na_before}')\n",
    "print(f'Количество пропусков в колонке \"ceiling_height\" после заполнения: {ceiling_height_na_after}')\n",
    "print('Количество сократилось на {:.1%}'.format(ceiling_height_na_percentage))"
   ]
  },
  {
   "cell_type": "markdown",
   "metadata": {},
   "source": [
    "После первого этапа обогащения осталось 5.5% от изначального количества пропусков. Это связано с тем, что в исходной таблице в этих строчках данные были пропущены и в колонке _locality_name_, и в колонке _floors_total_ .  \n",
    "Оставшиеся пропуски будут заполнены путем группировки только по этажности по аналогичному примененному выше принципу. "
   ]
  },
  {
   "cell_type": "code",
   "execution_count": 16,
   "metadata": {},
   "outputs": [
    {
     "name": "stdout",
     "output_type": "stream",
     "text": [
      "Количество пропусков в колонке \"ceiling_height\" до заполнения: 510\n",
      "Количество пропусков в колонке \"ceiling_height\" после заполнения: 78\n",
      "Количество сократилось на 84.7%\n"
     ]
    }
   ],
   "source": [
    "def ceiling_height_fillna_rest(df):\n",
    "    \"\"\"\n",
    "    Функция заполняет пропуски в колонке \"ceiling_height\", оставшиеся после первого этапа обогащения. \n",
    "    Объявления группируются по этажности домов, для каждой группы вычисляется медианное значение, \n",
    "    которым и заполняются пропуски.\n",
    "    Функция принимает на вход исследуемый датасет, возвращает кортеж из: датасета без пропусков, \n",
    "                                                                         количества пропусков до заполнения\n",
    "                                                                         количества пропусков после заполнения\n",
    "                                                                         процент, на который сократилось количество пропусков\n",
    "    \n",
    "    df: исследуемый датасет\n",
    "    ceiling_height_na_before: количество пропусков в колонке \"ceiling_height\" до обогащения\n",
    "    df_no_na: исходный датасет без пропусков\n",
    "    df_grouped: датасет без пропусков, сгруппированный по городам и этажности\n",
    "    df_filled_na: исходный датасет, в котором пропуски заполнены вычисленными медианными значениями\n",
    "    ceiling_height_na_after: количество пропусков в колонке \"ceiling_height\" после обогащения\n",
    "    ceiling_height_na_percentage: процент, на который сократилось количество пропусков в колонке \"ceiling_height\"\n",
    "    \"\"\"\n",
    "    \n",
    "    ceiling_height_na_before = df['ceiling_height'].isna().sum()\n",
    "    df_no_na = df.drop(df.loc[df.loc[:, 'locality_name'].isna()].index)\n",
    "    df_no_na = df_no_na.drop(df_no_na.loc[df_no_na.loc[:, 'floors_total'].isna()].index)\n",
    "    df_grouped = (df_no_na.groupby('floors_total')\n",
    "                          .agg({'ceiling_height': 'median'})\n",
    "                          .rename(columns={'ceiling_height': 'ceiling_height_median_floors'}))\n",
    "    df_filled_na = df.merge(df_grouped, on=['floors_total'], how='left')\n",
    "    df_filled_na.loc[df_filled_na.loc[:, 'ceiling_height'].isna(), 'ceiling_height'] = df_filled_na.loc[df_filled_na.loc[:, 'ceiling_height'].isna(), 'ceiling_height_median_floors']\n",
    "    ceiling_height_na_after = df_filled_na['ceiling_height'].isna().sum()\n",
    "    ceiling_height_na_percentage = (ceiling_height_na_before - ceiling_height_na_after)/ceiling_height_na_before\n",
    "    return df_filled_na, ceiling_height_na_before, ceiling_height_na_after, ceiling_height_na_percentage\n",
    "    \n",
    "    \n",
    "df_raw, ceiling_height_na_before, ceiling_height_na_after, ceiling_height_na_percentage = ceiling_height_fillna_rest(df_raw)\n",
    "print(f'Количество пропусков в колонке \"ceiling_height\" до заполнения: {ceiling_height_na_before}')\n",
    "print(f'Количество пропусков в колонке \"ceiling_height\" после заполнения: {ceiling_height_na_after}')\n",
    "print('Количество сократилось на {:.1%}'.format(ceiling_height_na_percentage))"
   ]
  },
  {
   "cell_type": "code",
   "execution_count": 17,
   "metadata": {},
   "outputs": [
    {
     "name": "stdout",
     "output_type": "stream",
     "text": [
      "Населенные пункты, в которых остались объявления с пропусками в колонке \"ceiling_height\": Санкт-Петербург, Кудрово, посёлок Щеглово, посёлок Бугры, посёлок Мурино, городской посёлок Новоселье, Красное Село, поселок Мурино, поселок городского типа Токсово, деревня Новое Девяткино, посёлок Стрельна\n"
     ]
    }
   ],
   "source": [
    "cities_with_no_ceiling = (', '.join(df_raw.loc[(df_raw.loc[:, 'ceiling_height'].isna())\n",
    "                                             & ~(df_raw.loc[:, 'locality_name'].isna())]['locality_name'].unique()))\n",
    "print(f'Населенные пункты, в которых остались объявления с пропусками в колонке \"ceiling_height\": {cities_with_no_ceiling}')"
   ]
  },
  {
   "cell_type": "markdown",
   "metadata": {},
   "source": [
    "Оставшиеся 78 пропусков могут быть удалены, так как присутствуют в объявлениях, поданых из мелких населенных пунктов, которые с низкой вероятностью попадут в выборку из 10 крупнейших источников объявлений, а численность объявлений из Санкт-Петербурга совершенно точно не сократилась бы значительным образом, даже если бы все 78 объявлений были поданы оттуда. "
   ]
  },
  {
   "cell_type": "code",
   "execution_count": 18,
   "metadata": {},
   "outputs": [
    {
     "name": "stdout",
     "output_type": "stream",
     "text": [
      "<class 'pandas.core.frame.DataFrame'>\n",
      "RangeIndex: 23434 entries, 0 to 23433\n",
      "Data columns (total 24 columns):\n",
      "total_images                    23434 non-null int64\n",
      "last_price                      23434 non-null float64\n",
      "total_area                      23434 non-null float64\n",
      "first_day_exposition            23434 non-null object\n",
      "rooms                           23434 non-null int64\n",
      "ceiling_height                  23434 non-null float64\n",
      "floors_total                    23425 non-null float64\n",
      "living_area                     21575 non-null float64\n",
      "floor                           23434 non-null int64\n",
      "is_apartment                    2734 non-null object\n",
      "studio                          23434 non-null bool\n",
      "open_plan                       23434 non-null bool\n",
      "kitchen_area                    21221 non-null float64\n",
      "balcony                         12037 non-null float64\n",
      "locality_name                   23387 non-null object\n",
      "airports_nearest                17953 non-null float64\n",
      "cityCenters_nearest             17973 non-null float64\n",
      "parks_around3000                17974 non-null float64\n",
      "parks_nearest                   7958 non-null float64\n",
      "ponds_around3000                17974 non-null float64\n",
      "ponds_nearest                   8977 non-null float64\n",
      "days_exposition                 20296 non-null float64\n",
      "ceiling_height_median           22980 non-null float64\n",
      "ceiling_height_median_floors    23425 non-null float64\n",
      "dtypes: bool(2), float64(16), int64(3), object(3)\n",
      "memory usage: 4.0+ MB\n"
     ]
    }
   ],
   "source": [
    "df_raw = df_raw.drop(df_raw.loc[df_raw.loc[:, 'ceiling_height'].isna()].index).reset_index(drop=True)\n",
    "ceiling_height_after_filling = df_raw['ceiling_height']\n",
    "df_raw.info()"
   ]
  },
  {
   "cell_type": "code",
   "execution_count": 19,
   "metadata": {},
   "outputs": [
    {
     "data": {
      "image/png": "[encoded data removed]",
      "text/plain": [
       "<Figure size 1080x288 with 1 Axes>"
      ]
     },
     "metadata": {
      "needs_background": "light"
     },
     "output_type": "display_data"
    }
   ],
   "source": [
    "ax = ceiling_height_after_filling.plot(\n",
    "    kind='hist',\n",
    "    histtype='step',\n",
    "    range=(0, 5.5),\n",
    "    bins=11,\n",
    "    linewidth=5,\n",
    "    alpha=0.7,\n",
    "    label='ceiling_height_raw',\n",
    "    legend=True\n",
    ")\n",
    "ceiling_height_before_filling.plot(\n",
    "    kind='hist',\n",
    "    histtype='step',\n",
    "    range=(0, 5.5),\n",
    "    bins=11,\n",
    "    linewidth=5,\n",
    "    alpha=0.7,\n",
    "    ax=ax,\n",
    "    label='ceiling_height_filtered',\n",
    "    grid=True,\n",
    "    legend=True,\n",
    "    figsize=(15, 4)\n",
    ")\n",
    "plt.show()"
   ]
  },
  {
   "cell_type": "markdown",
   "metadata": {},
   "source": [
    "#### Колонка _floors_total_"
   ]
  },
  {
   "cell_type": "markdown",
   "metadata": {},
   "source": [
    "Изучим строки с пропусками в колонке _floors_total_:"
   ]
  },
  {
   "cell_type": "code",
   "execution_count": 20,
   "metadata": {},
   "outputs": [
    {
     "data": {
      "text/html": [
       "<div>\n",
       "<style scoped>\n",
       "    .dataframe tbody tr th:only-of-type {\n",
       "        vertical-align: middle;\n",
       "    }\n",
       "\n",
       "    .dataframe tbody tr th {\n",
       "        vertical-align: top;\n",
       "    }\n",
       "\n",
       "    .dataframe thead th {\n",
       "        text-align: right;\n",
       "    }\n",
       "</style>\n",
       "<table border=\"1\" class=\"dataframe\">\n",
       "  <thead>\n",
       "    <tr style=\"text-align: right;\">\n",
       "      <th></th>\n",
       "      <th>total_images</th>\n",
       "      <th>last_price</th>\n",
       "      <th>total_area</th>\n",
       "      <th>first_day_exposition</th>\n",
       "      <th>rooms</th>\n",
       "      <th>ceiling_height</th>\n",
       "      <th>floors_total</th>\n",
       "      <th>living_area</th>\n",
       "      <th>floor</th>\n",
       "      <th>is_apartment</th>\n",
       "      <th>...</th>\n",
       "      <th>locality_name</th>\n",
       "      <th>airports_nearest</th>\n",
       "      <th>cityCenters_nearest</th>\n",
       "      <th>parks_around3000</th>\n",
       "      <th>parks_nearest</th>\n",
       "      <th>ponds_around3000</th>\n",
       "      <th>ponds_nearest</th>\n",
       "      <th>days_exposition</th>\n",
       "      <th>ceiling_height_median</th>\n",
       "      <th>ceiling_height_median_floors</th>\n",
       "    </tr>\n",
       "  </thead>\n",
       "  <tbody>\n",
       "    <tr>\n",
       "      <td>8375</td>\n",
       "      <td>19</td>\n",
       "      <td>13500000.0</td>\n",
       "      <td>77.8</td>\n",
       "      <td>2019-04-17T00:00:00</td>\n",
       "      <td>2</td>\n",
       "      <td>2.80</td>\n",
       "      <td>NaN</td>\n",
       "      <td>39.41</td>\n",
       "      <td>21</td>\n",
       "      <td>NaN</td>\n",
       "      <td>...</td>\n",
       "      <td>Санкт-Петербург</td>\n",
       "      <td>12838.0</td>\n",
       "      <td>11477.0</td>\n",
       "      <td>1.0</td>\n",
       "      <td>593.0</td>\n",
       "      <td>1.0</td>\n",
       "      <td>130.0</td>\n",
       "      <td>NaN</td>\n",
       "      <td>NaN</td>\n",
       "      <td>NaN</td>\n",
       "    </tr>\n",
       "    <tr>\n",
       "      <td>9942</td>\n",
       "      <td>9</td>\n",
       "      <td>3350000.0</td>\n",
       "      <td>25.0</td>\n",
       "      <td>2018-09-10T00:00:00</td>\n",
       "      <td>1</td>\n",
       "      <td>2.65</td>\n",
       "      <td>NaN</td>\n",
       "      <td>17.00</td>\n",
       "      <td>21</td>\n",
       "      <td>NaN</td>\n",
       "      <td>...</td>\n",
       "      <td>посёлок Шушары</td>\n",
       "      <td>NaN</td>\n",
       "      <td>NaN</td>\n",
       "      <td>NaN</td>\n",
       "      <td>NaN</td>\n",
       "      <td>NaN</td>\n",
       "      <td>NaN</td>\n",
       "      <td>23.0</td>\n",
       "      <td>NaN</td>\n",
       "      <td>NaN</td>\n",
       "    </tr>\n",
       "    <tr>\n",
       "      <td>10443</td>\n",
       "      <td>12</td>\n",
       "      <td>14900000.0</td>\n",
       "      <td>100.0</td>\n",
       "      <td>2018-10-02T00:00:00</td>\n",
       "      <td>3</td>\n",
       "      <td>2.80</td>\n",
       "      <td>NaN</td>\n",
       "      <td>51.00</td>\n",
       "      <td>4</td>\n",
       "      <td>NaN</td>\n",
       "      <td>...</td>\n",
       "      <td>Санкт-Петербург</td>\n",
       "      <td>30766.0</td>\n",
       "      <td>8059.0</td>\n",
       "      <td>0.0</td>\n",
       "      <td>NaN</td>\n",
       "      <td>1.0</td>\n",
       "      <td>213.0</td>\n",
       "      <td>140.0</td>\n",
       "      <td>NaN</td>\n",
       "      <td>NaN</td>\n",
       "    </tr>\n",
       "    <tr>\n",
       "      <td>14095</td>\n",
       "      <td>13</td>\n",
       "      <td>14000000.0</td>\n",
       "      <td>94.0</td>\n",
       "      <td>2019-01-23T00:00:00</td>\n",
       "      <td>6</td>\n",
       "      <td>2.65</td>\n",
       "      <td>NaN</td>\n",
       "      <td>51.00</td>\n",
       "      <td>23</td>\n",
       "      <td>NaN</td>\n",
       "      <td>...</td>\n",
       "      <td>Санкт-Петербург</td>\n",
       "      <td>51333.0</td>\n",
       "      <td>13056.0</td>\n",
       "      <td>0.0</td>\n",
       "      <td>NaN</td>\n",
       "      <td>0.0</td>\n",
       "      <td>NaN</td>\n",
       "      <td>NaN</td>\n",
       "      <td>NaN</td>\n",
       "      <td>NaN</td>\n",
       "    </tr>\n",
       "    <tr>\n",
       "      <td>16475</td>\n",
       "      <td>0</td>\n",
       "      <td>15950000.0</td>\n",
       "      <td>108.0</td>\n",
       "      <td>2017-10-24T00:00:00</td>\n",
       "      <td>3</td>\n",
       "      <td>2.80</td>\n",
       "      <td>NaN</td>\n",
       "      <td>NaN</td>\n",
       "      <td>3</td>\n",
       "      <td>NaN</td>\n",
       "      <td>...</td>\n",
       "      <td>Санкт-Петербург</td>\n",
       "      <td>26402.0</td>\n",
       "      <td>5249.0</td>\n",
       "      <td>0.0</td>\n",
       "      <td>NaN</td>\n",
       "      <td>2.0</td>\n",
       "      <td>444.0</td>\n",
       "      <td>91.0</td>\n",
       "      <td>NaN</td>\n",
       "      <td>NaN</td>\n",
       "    </tr>\n",
       "    <tr>\n",
       "      <td>20023</td>\n",
       "      <td>5</td>\n",
       "      <td>6060000.0</td>\n",
       "      <td>60.6</td>\n",
       "      <td>2015-10-29T00:00:00</td>\n",
       "      <td>2</td>\n",
       "      <td>2.80</td>\n",
       "      <td>NaN</td>\n",
       "      <td>NaN</td>\n",
       "      <td>2</td>\n",
       "      <td>NaN</td>\n",
       "      <td>...</td>\n",
       "      <td>Санкт-Петербург</td>\n",
       "      <td>35231.0</td>\n",
       "      <td>13301.0</td>\n",
       "      <td>0.0</td>\n",
       "      <td>NaN</td>\n",
       "      <td>1.0</td>\n",
       "      <td>830.0</td>\n",
       "      <td>1257.0</td>\n",
       "      <td>NaN</td>\n",
       "      <td>NaN</td>\n",
       "    </tr>\n",
       "    <tr>\n",
       "      <td>21410</td>\n",
       "      <td>4</td>\n",
       "      <td>7143060.0</td>\n",
       "      <td>44.7</td>\n",
       "      <td>2019-01-11T00:00:00</td>\n",
       "      <td>1</td>\n",
       "      <td>3.00</td>\n",
       "      <td>NaN</td>\n",
       "      <td>13.79</td>\n",
       "      <td>19</td>\n",
       "      <td>NaN</td>\n",
       "      <td>...</td>\n",
       "      <td>Санкт-Петербург</td>\n",
       "      <td>9222.0</td>\n",
       "      <td>11340.0</td>\n",
       "      <td>0.0</td>\n",
       "      <td>NaN</td>\n",
       "      <td>0.0</td>\n",
       "      <td>NaN</td>\n",
       "      <td>NaN</td>\n",
       "      <td>NaN</td>\n",
       "      <td>NaN</td>\n",
       "    </tr>\n",
       "    <tr>\n",
       "      <td>22289</td>\n",
       "      <td>5</td>\n",
       "      <td>8500000.0</td>\n",
       "      <td>63.5</td>\n",
       "      <td>2017-05-24T00:00:00</td>\n",
       "      <td>2</td>\n",
       "      <td>2.80</td>\n",
       "      <td>NaN</td>\n",
       "      <td>NaN</td>\n",
       "      <td>3</td>\n",
       "      <td>NaN</td>\n",
       "      <td>...</td>\n",
       "      <td>Санкт-Петербург</td>\n",
       "      <td>51340.0</td>\n",
       "      <td>15363.0</td>\n",
       "      <td>0.0</td>\n",
       "      <td>NaN</td>\n",
       "      <td>1.0</td>\n",
       "      <td>853.0</td>\n",
       "      <td>512.0</td>\n",
       "      <td>NaN</td>\n",
       "      <td>NaN</td>\n",
       "    </tr>\n",
       "    <tr>\n",
       "      <td>23393</td>\n",
       "      <td>6</td>\n",
       "      <td>3063600.0</td>\n",
       "      <td>43.8</td>\n",
       "      <td>2016-11-28T00:00:00</td>\n",
       "      <td>1</td>\n",
       "      <td>2.70</td>\n",
       "      <td>NaN</td>\n",
       "      <td>14.00</td>\n",
       "      <td>8</td>\n",
       "      <td>NaN</td>\n",
       "      <td>...</td>\n",
       "      <td>Санкт-Петербург</td>\n",
       "      <td>8426.0</td>\n",
       "      <td>12082.0</td>\n",
       "      <td>2.0</td>\n",
       "      <td>24.0</td>\n",
       "      <td>1.0</td>\n",
       "      <td>271.0</td>\n",
       "      <td>246.0</td>\n",
       "      <td>NaN</td>\n",
       "      <td>NaN</td>\n",
       "    </tr>\n",
       "  </tbody>\n",
       "</table>\n",
       "<p>9 rows × 24 columns</p>\n",
       "</div>"
      ],
      "text/plain": [
       "       total_images  last_price  total_area first_day_exposition  rooms  \\\n",
       "8375             19  13500000.0        77.8  2019-04-17T00:00:00      2   \n",
       "9942              9   3350000.0        25.0  2018-09-10T00:00:00      1   \n",
       "10443            12  14900000.0       100.0  2018-10-02T00:00:00      3   \n",
       "14095            13  14000000.0        94.0  2019-01-23T00:00:00      6   \n",
       "16475             0  15950000.0       108.0  2017-10-24T00:00:00      3   \n",
       "20023             5   6060000.0        60.6  2015-10-29T00:00:00      2   \n",
       "21410             4   7143060.0        44.7  2019-01-11T00:00:00      1   \n",
       "22289             5   8500000.0        63.5  2017-05-24T00:00:00      2   \n",
       "23393             6   3063600.0        43.8  2016-11-28T00:00:00      1   \n",
       "\n",
       "       ceiling_height  floors_total  living_area  floor is_apartment  ...  \\\n",
       "8375             2.80           NaN        39.41     21          NaN  ...   \n",
       "9942             2.65           NaN        17.00     21          NaN  ...   \n",
       "10443            2.80           NaN        51.00      4          NaN  ...   \n",
       "14095            2.65           NaN        51.00     23          NaN  ...   \n",
       "16475            2.80           NaN          NaN      3          NaN  ...   \n",
       "20023            2.80           NaN          NaN      2          NaN  ...   \n",
       "21410            3.00           NaN        13.79     19          NaN  ...   \n",
       "22289            2.80           NaN          NaN      3          NaN  ...   \n",
       "23393            2.70           NaN        14.00      8          NaN  ...   \n",
       "\n",
       "         locality_name  airports_nearest  cityCenters_nearest  \\\n",
       "8375   Санкт-Петербург           12838.0              11477.0   \n",
       "9942    посёлок Шушары               NaN                  NaN   \n",
       "10443  Санкт-Петербург           30766.0               8059.0   \n",
       "14095  Санкт-Петербург           51333.0              13056.0   \n",
       "16475  Санкт-Петербург           26402.0               5249.0   \n",
       "20023  Санкт-Петербург           35231.0              13301.0   \n",
       "21410  Санкт-Петербург            9222.0              11340.0   \n",
       "22289  Санкт-Петербург           51340.0              15363.0   \n",
       "23393  Санкт-Петербург            8426.0              12082.0   \n",
       "\n",
       "       parks_around3000 parks_nearest  ponds_around3000  ponds_nearest  \\\n",
       "8375                1.0         593.0               1.0          130.0   \n",
       "9942                NaN           NaN               NaN            NaN   \n",
       "10443               0.0           NaN               1.0          213.0   \n",
       "14095               0.0           NaN               0.0            NaN   \n",
       "16475               0.0           NaN               2.0          444.0   \n",
       "20023               0.0           NaN               1.0          830.0   \n",
       "21410               0.0           NaN               0.0            NaN   \n",
       "22289               0.0           NaN               1.0          853.0   \n",
       "23393               2.0          24.0               1.0          271.0   \n",
       "\n",
       "       days_exposition  ceiling_height_median  ceiling_height_median_floors  \n",
       "8375               NaN                    NaN                           NaN  \n",
       "9942              23.0                    NaN                           NaN  \n",
       "10443            140.0                    NaN                           NaN  \n",
       "14095              NaN                    NaN                           NaN  \n",
       "16475             91.0                    NaN                           NaN  \n",
       "20023           1257.0                    NaN                           NaN  \n",
       "21410              NaN                    NaN                           NaN  \n",
       "22289            512.0                    NaN                           NaN  \n",
       "23393            246.0                    NaN                           NaN  \n",
       "\n",
       "[9 rows x 24 columns]"
      ]
     },
     "execution_count": 20,
     "metadata": {},
     "output_type": "execute_result"
    }
   ],
   "source": [
    "df_raw.loc[df_raw.loc[:, 'floors_total'].isna()].head(10)"
   ]
  },
  {
   "cell_type": "markdown",
   "metadata": {},
   "source": [
    "Во всей таблице пропуски в данной колонке присутствуют всего в 9 строках, 8 из которых - объявления поданые из Санкт-Петербурга. Более того, нет строк, в которых в поле _floor_ был бы указан первый этаж.  \n",
    "Все пропуски будут удалены, так как статистические характеристики данных об объявлениях из Санкт-Петербурга совершенно точно не пострадают. "
   ]
  },
  {
   "cell_type": "code",
   "execution_count": 21,
   "metadata": {},
   "outputs": [
    {
     "name": "stdout",
     "output_type": "stream",
     "text": [
      "<class 'pandas.core.frame.DataFrame'>\n",
      "RangeIndex: 23425 entries, 0 to 23424\n",
      "Data columns (total 24 columns):\n",
      "total_images                    23425 non-null int64\n",
      "last_price                      23425 non-null float64\n",
      "total_area                      23425 non-null float64\n",
      "first_day_exposition            23425 non-null object\n",
      "rooms                           23425 non-null int64\n",
      "ceiling_height                  23425 non-null float64\n",
      "floors_total                    23425 non-null float64\n",
      "living_area                     21569 non-null float64\n",
      "floor                           23425 non-null int64\n",
      "is_apartment                    2734 non-null object\n",
      "studio                          23425 non-null bool\n",
      "open_plan                       23425 non-null bool\n",
      "kitchen_area                    21216 non-null float64\n",
      "balcony                         12035 non-null float64\n",
      "locality_name                   23378 non-null object\n",
      "airports_nearest                17945 non-null float64\n",
      "cityCenters_nearest             17965 non-null float64\n",
      "parks_around3000                17966 non-null float64\n",
      "parks_nearest                   7956 non-null float64\n",
      "ponds_around3000                17966 non-null float64\n",
      "ponds_nearest                   8971 non-null float64\n",
      "days_exposition                 20290 non-null float64\n",
      "ceiling_height_median           22980 non-null float64\n",
      "ceiling_height_median_floors    23425 non-null float64\n",
      "dtypes: bool(2), float64(16), int64(3), object(3)\n",
      "memory usage: 4.0+ MB\n"
     ]
    }
   ],
   "source": [
    "df_raw = df_raw.drop(df_raw.loc[df_raw.loc[:, 'floors_total'].isna()].index).reset_index(drop=True)\n",
    "df_raw.info()"
   ]
  },
  {
   "cell_type": "markdown",
   "metadata": {},
   "source": [
    "#### Колонка _living_area_."
   ]
  },
  {
   "cell_type": "code",
   "execution_count": 22,
   "metadata": {},
   "outputs": [
    {
     "name": "stdout",
     "output_type": "stream",
     "text": [
      "Количество строк с пропусками в колонке \"living_area\": 1856\n",
      "Процент пропусков в текущем объеме данных: 7.9%\n"
     ]
    }
   ],
   "source": [
    "living_area_na = df_raw.loc[df_raw.loc[:, 'living_area'].isna()]['total_images'].count()\n",
    "living_area_na_percentage = living_area_na / df_raw.shape[0]\n",
    "print(f'Количество строк с пропусками в колонке \"living_area\": {living_area_na}')\n",
    "print('Процент пропусков в текущем объеме данных: {:.1%}'.format(living_area_na_percentage))"
   ]
  },
  {
   "cell_type": "markdown",
   "metadata": {},
   "source": [
    "Процент достаточно высок, имеет смысл провести обогащение.  \n",
    "Изучим первые пять строк таблицы и сводную информацию о таблице."
   ]
  },
  {
   "cell_type": "code",
   "execution_count": 23,
   "metadata": {},
   "outputs": [
    {
     "data": {
      "text/html": [
       "<div>\n",
       "<style scoped>\n",
       "    .dataframe tbody tr th:only-of-type {\n",
       "        vertical-align: middle;\n",
       "    }\n",
       "\n",
       "    .dataframe tbody tr th {\n",
       "        vertical-align: top;\n",
       "    }\n",
       "\n",
       "    .dataframe thead th {\n",
       "        text-align: right;\n",
       "    }\n",
       "</style>\n",
       "<table border=\"1\" class=\"dataframe\">\n",
       "  <thead>\n",
       "    <tr style=\"text-align: right;\">\n",
       "      <th></th>\n",
       "      <th>total_images</th>\n",
       "      <th>last_price</th>\n",
       "      <th>total_area</th>\n",
       "      <th>first_day_exposition</th>\n",
       "      <th>rooms</th>\n",
       "      <th>ceiling_height</th>\n",
       "      <th>floors_total</th>\n",
       "      <th>living_area</th>\n",
       "      <th>floor</th>\n",
       "      <th>is_apartment</th>\n",
       "      <th>...</th>\n",
       "      <th>locality_name</th>\n",
       "      <th>airports_nearest</th>\n",
       "      <th>cityCenters_nearest</th>\n",
       "      <th>parks_around3000</th>\n",
       "      <th>parks_nearest</th>\n",
       "      <th>ponds_around3000</th>\n",
       "      <th>ponds_nearest</th>\n",
       "      <th>days_exposition</th>\n",
       "      <th>ceiling_height_median</th>\n",
       "      <th>ceiling_height_median_floors</th>\n",
       "    </tr>\n",
       "  </thead>\n",
       "  <tbody>\n",
       "    <tr>\n",
       "      <td>3</td>\n",
       "      <td>0</td>\n",
       "      <td>64900000.0</td>\n",
       "      <td>159.0</td>\n",
       "      <td>2015-07-24T00:00:00</td>\n",
       "      <td>3</td>\n",
       "      <td>2.60</td>\n",
       "      <td>14.0</td>\n",
       "      <td>NaN</td>\n",
       "      <td>9</td>\n",
       "      <td>NaN</td>\n",
       "      <td>...</td>\n",
       "      <td>Санкт-Петербург</td>\n",
       "      <td>28098.0</td>\n",
       "      <td>6800.0</td>\n",
       "      <td>2.0</td>\n",
       "      <td>84.0</td>\n",
       "      <td>3.0</td>\n",
       "      <td>234.0</td>\n",
       "      <td>424.0</td>\n",
       "      <td>2.60</td>\n",
       "      <td>2.60</td>\n",
       "    </tr>\n",
       "    <tr>\n",
       "      <td>7</td>\n",
       "      <td>5</td>\n",
       "      <td>7915000.0</td>\n",
       "      <td>71.6</td>\n",
       "      <td>2019-04-18T00:00:00</td>\n",
       "      <td>2</td>\n",
       "      <td>2.75</td>\n",
       "      <td>24.0</td>\n",
       "      <td>NaN</td>\n",
       "      <td>22</td>\n",
       "      <td>NaN</td>\n",
       "      <td>...</td>\n",
       "      <td>Санкт-Петербург</td>\n",
       "      <td>23982.0</td>\n",
       "      <td>11634.0</td>\n",
       "      <td>0.0</td>\n",
       "      <td>NaN</td>\n",
       "      <td>0.0</td>\n",
       "      <td>NaN</td>\n",
       "      <td>NaN</td>\n",
       "      <td>2.75</td>\n",
       "      <td>2.75</td>\n",
       "    </tr>\n",
       "    <tr>\n",
       "      <td>30</td>\n",
       "      <td>12</td>\n",
       "      <td>2200000.0</td>\n",
       "      <td>32.8</td>\n",
       "      <td>2018-02-19T00:00:00</td>\n",
       "      <td>1</td>\n",
       "      <td>2.55</td>\n",
       "      <td>9.0</td>\n",
       "      <td>NaN</td>\n",
       "      <td>2</td>\n",
       "      <td>NaN</td>\n",
       "      <td>...</td>\n",
       "      <td>Коммунар</td>\n",
       "      <td>NaN</td>\n",
       "      <td>NaN</td>\n",
       "      <td>NaN</td>\n",
       "      <td>NaN</td>\n",
       "      <td>NaN</td>\n",
       "      <td>NaN</td>\n",
       "      <td>63.0</td>\n",
       "      <td>2.55</td>\n",
       "      <td>2.55</td>\n",
       "    </tr>\n",
       "    <tr>\n",
       "      <td>37</td>\n",
       "      <td>10</td>\n",
       "      <td>1990000.0</td>\n",
       "      <td>45.8</td>\n",
       "      <td>2017-10-28T00:00:00</td>\n",
       "      <td>2</td>\n",
       "      <td>2.50</td>\n",
       "      <td>5.0</td>\n",
       "      <td>NaN</td>\n",
       "      <td>1</td>\n",
       "      <td>NaN</td>\n",
       "      <td>...</td>\n",
       "      <td>поселок городского типа Красный Бор</td>\n",
       "      <td>NaN</td>\n",
       "      <td>NaN</td>\n",
       "      <td>NaN</td>\n",
       "      <td>NaN</td>\n",
       "      <td>NaN</td>\n",
       "      <td>NaN</td>\n",
       "      <td>196.0</td>\n",
       "      <td>2.50</td>\n",
       "      <td>2.57</td>\n",
       "    </tr>\n",
       "    <tr>\n",
       "      <td>44</td>\n",
       "      <td>13</td>\n",
       "      <td>5350000.0</td>\n",
       "      <td>40.0</td>\n",
       "      <td>2018-11-18T00:00:00</td>\n",
       "      <td>1</td>\n",
       "      <td>2.76</td>\n",
       "      <td>22.0</td>\n",
       "      <td>NaN</td>\n",
       "      <td>3</td>\n",
       "      <td>NaN</td>\n",
       "      <td>...</td>\n",
       "      <td>Санкт-Петербург</td>\n",
       "      <td>30471.0</td>\n",
       "      <td>11603.0</td>\n",
       "      <td>1.0</td>\n",
       "      <td>620.0</td>\n",
       "      <td>1.0</td>\n",
       "      <td>1152.0</td>\n",
       "      <td>NaN</td>\n",
       "      <td>2.76</td>\n",
       "      <td>2.76</td>\n",
       "    </tr>\n",
       "  </tbody>\n",
       "</table>\n",
       "<p>5 rows × 24 columns</p>\n",
       "</div>"
      ],
      "text/plain": [
       "    total_images  last_price  total_area first_day_exposition  rooms  \\\n",
       "3              0  64900000.0       159.0  2015-07-24T00:00:00      3   \n",
       "7              5   7915000.0        71.6  2019-04-18T00:00:00      2   \n",
       "30            12   2200000.0        32.8  2018-02-19T00:00:00      1   \n",
       "37            10   1990000.0        45.8  2017-10-28T00:00:00      2   \n",
       "44            13   5350000.0        40.0  2018-11-18T00:00:00      1   \n",
       "\n",
       "    ceiling_height  floors_total  living_area  floor is_apartment  ...  \\\n",
       "3             2.60          14.0          NaN      9          NaN  ...   \n",
       "7             2.75          24.0          NaN     22          NaN  ...   \n",
       "30            2.55           9.0          NaN      2          NaN  ...   \n",
       "37            2.50           5.0          NaN      1          NaN  ...   \n",
       "44            2.76          22.0          NaN      3          NaN  ...   \n",
       "\n",
       "                          locality_name  airports_nearest  \\\n",
       "3                       Санкт-Петербург           28098.0   \n",
       "7                       Санкт-Петербург           23982.0   \n",
       "30                             Коммунар               NaN   \n",
       "37  поселок городского типа Красный Бор               NaN   \n",
       "44                      Санкт-Петербург           30471.0   \n",
       "\n",
       "    cityCenters_nearest  parks_around3000 parks_nearest  ponds_around3000  \\\n",
       "3                6800.0               2.0          84.0               3.0   \n",
       "7               11634.0               0.0           NaN               0.0   \n",
       "30                  NaN               NaN           NaN               NaN   \n",
       "37                  NaN               NaN           NaN               NaN   \n",
       "44              11603.0               1.0         620.0               1.0   \n",
       "\n",
       "    ponds_nearest  days_exposition  ceiling_height_median  \\\n",
       "3           234.0            424.0                   2.60   \n",
       "7             NaN              NaN                   2.75   \n",
       "30            NaN             63.0                   2.55   \n",
       "37            NaN            196.0                   2.50   \n",
       "44         1152.0              NaN                   2.76   \n",
       "\n",
       "    ceiling_height_median_floors  \n",
       "3                           2.60  \n",
       "7                           2.75  \n",
       "30                          2.55  \n",
       "37                          2.57  \n",
       "44                          2.76  \n",
       "\n",
       "[5 rows x 24 columns]"
      ]
     },
     "execution_count": 23,
     "metadata": {},
     "output_type": "execute_result"
    }
   ],
   "source": [
    "df_raw.loc[df_raw.loc[:, 'living_area'].isna()].head(5)"
   ]
  },
  {
   "cell_type": "code",
   "execution_count": 24,
   "metadata": {},
   "outputs": [
    {
     "name": "stdout",
     "output_type": "stream",
     "text": [
      "<class 'pandas.core.frame.DataFrame'>\n",
      "Int64Index: 1856 entries, 3 to 23423\n",
      "Data columns (total 24 columns):\n",
      "total_images                    1856 non-null int64\n",
      "last_price                      1856 non-null float64\n",
      "total_area                      1856 non-null float64\n",
      "first_day_exposition            1856 non-null object\n",
      "rooms                           1856 non-null int64\n",
      "ceiling_height                  1856 non-null float64\n",
      "floors_total                    1856 non-null float64\n",
      "living_area                     0 non-null float64\n",
      "floor                           1856 non-null int64\n",
      "is_apartment                    118 non-null object\n",
      "studio                          1856 non-null bool\n",
      "open_plan                       1856 non-null bool\n",
      "kitchen_area                    437 non-null float64\n",
      "balcony                         476 non-null float64\n",
      "locality_name                   1851 non-null object\n",
      "airports_nearest                1244 non-null float64\n",
      "cityCenters_nearest             1246 non-null float64\n",
      "parks_around3000                1246 non-null float64\n",
      "parks_nearest                   558 non-null float64\n",
      "ponds_around3000                1246 non-null float64\n",
      "ponds_nearest                   673 non-null float64\n",
      "days_exposition                 1662 non-null float64\n",
      "ceiling_height_median           1774 non-null float64\n",
      "ceiling_height_median_floors    1856 non-null float64\n",
      "dtypes: bool(2), float64(16), int64(3), object(3)\n",
      "memory usage: 337.1+ KB\n"
     ]
    }
   ],
   "source": [
    "df_raw.loc[df_raw.loc[:, 'living_area'].isna()].info()"
   ]
  },
  {
   "cell_type": "code",
   "execution_count": 25,
   "metadata": {},
   "outputs": [
    {
     "data": {
      "image/png": "[encoded data removed]",
      "text/plain": [
       "<Figure size 432x288 with 1 Axes>"
      ]
     },
     "metadata": {
      "needs_background": "light"
     },
     "output_type": "display_data"
    }
   ],
   "source": [
    "df_raw.boxplot('living_area')\n",
    "plt.show()"
   ]
  },
  {
   "cell_type": "markdown",
   "metadata": {},
   "source": [
    "Обнаружено большое количество объявлений с заявленой площадью выше 150 метров. Оценим количество подобных объявлений и взаимное распределение цен, и площадей. В случае, если будет обнаружено логичное соответствие \"выше площадь - выше цена\", до данные не будут признаны выбросами.  \n",
    "Ниже - диаграмма рассеяния, где цена указана в сотнях миллионов рублей, площадь - в квадратных метрах. "
   ]
  },
  {
   "cell_type": "code",
   "execution_count": 26,
   "metadata": {},
   "outputs": [
    {
     "data": {
      "image/png": "[encoded data removed]",
      "text/plain": [
       "<Figure size 576x576 with 1 Axes>"
      ]
     },
     "metadata": {
      "needs_background": "light"
     },
     "output_type": "display_data"
    }
   ],
   "source": [
    "df_raw.query('living_area > 150').plot(x='living_area', y='last_price', kind='scatter', figsize=(8, 8), grid=True)\n",
    "plt.show()"
   ]
  },
  {
   "cell_type": "markdown",
   "metadata": {},
   "source": [
    "Распределение выглядит предсказуемо: абсолютное большинство точек - жилье площадью до 200 квадратных метров и стоимостью до 10 млн. рублей.  \n",
    "Недвижимость экстримально большой площади не стоит выше 15 млн рублей. Скорее всего это - частные дома (если такие объявления присутствуют в выборке) или двухэтажные квартиры в старых домах.  \n",
    "Однако, присутствует несколько точек, \"стоимость\" которых превышает 200 млн. рублей, а площадь не является экстримально высокой.  \n",
    "Проанализируем этот срез. "
   ]
  },
  {
   "cell_type": "code",
   "execution_count": 27,
   "metadata": {},
   "outputs": [
    {
     "data": {
      "text/html": [
       "<div>\n",
       "<style scoped>\n",
       "    .dataframe tbody tr th:only-of-type {\n",
       "        vertical-align: middle;\n",
       "    }\n",
       "\n",
       "    .dataframe tbody tr th {\n",
       "        vertical-align: top;\n",
       "    }\n",
       "\n",
       "    .dataframe thead th {\n",
       "        text-align: right;\n",
       "    }\n",
       "</style>\n",
       "<table border=\"1\" class=\"dataframe\">\n",
       "  <thead>\n",
       "    <tr style=\"text-align: right;\">\n",
       "      <th></th>\n",
       "      <th>total_images</th>\n",
       "      <th>last_price</th>\n",
       "      <th>total_area</th>\n",
       "      <th>first_day_exposition</th>\n",
       "      <th>rooms</th>\n",
       "      <th>ceiling_height</th>\n",
       "      <th>floors_total</th>\n",
       "      <th>living_area</th>\n",
       "      <th>floor</th>\n",
       "      <th>is_apartment</th>\n",
       "      <th>...</th>\n",
       "      <th>locality_name</th>\n",
       "      <th>airports_nearest</th>\n",
       "      <th>cityCenters_nearest</th>\n",
       "      <th>parks_around3000</th>\n",
       "      <th>parks_nearest</th>\n",
       "      <th>ponds_around3000</th>\n",
       "      <th>ponds_nearest</th>\n",
       "      <th>days_exposition</th>\n",
       "      <th>ceiling_height_median</th>\n",
       "      <th>ceiling_height_median_floors</th>\n",
       "    </tr>\n",
       "  </thead>\n",
       "  <tbody>\n",
       "    <tr>\n",
       "      <td>1415</td>\n",
       "      <td>19</td>\n",
       "      <td>330000000.0</td>\n",
       "      <td>190.0</td>\n",
       "      <td>2018-04-04T00:00:00</td>\n",
       "      <td>3</td>\n",
       "      <td>3.50</td>\n",
       "      <td>7.0</td>\n",
       "      <td>95.0</td>\n",
       "      <td>5</td>\n",
       "      <td>NaN</td>\n",
       "      <td>...</td>\n",
       "      <td>Санкт-Петербург</td>\n",
       "      <td>23011.0</td>\n",
       "      <td>1197.0</td>\n",
       "      <td>3.0</td>\n",
       "      <td>519.0</td>\n",
       "      <td>3.0</td>\n",
       "      <td>285.0</td>\n",
       "      <td>233.0</td>\n",
       "      <td>3.000</td>\n",
       "      <td>3.000</td>\n",
       "    </tr>\n",
       "    <tr>\n",
       "      <td>5820</td>\n",
       "      <td>3</td>\n",
       "      <td>230000000.0</td>\n",
       "      <td>500.0</td>\n",
       "      <td>2017-05-31T00:00:00</td>\n",
       "      <td>6</td>\n",
       "      <td>3.00</td>\n",
       "      <td>7.0</td>\n",
       "      <td>NaN</td>\n",
       "      <td>7</td>\n",
       "      <td>NaN</td>\n",
       "      <td>...</td>\n",
       "      <td>Санкт-Петербург</td>\n",
       "      <td>32440.0</td>\n",
       "      <td>5297.0</td>\n",
       "      <td>0.0</td>\n",
       "      <td>NaN</td>\n",
       "      <td>2.0</td>\n",
       "      <td>198.0</td>\n",
       "      <td>50.0</td>\n",
       "      <td>3.000</td>\n",
       "      <td>3.000</td>\n",
       "    </tr>\n",
       "    <tr>\n",
       "      <td>12811</td>\n",
       "      <td>19</td>\n",
       "      <td>763000000.0</td>\n",
       "      <td>400.0</td>\n",
       "      <td>2017-09-30T00:00:00</td>\n",
       "      <td>7</td>\n",
       "      <td>2.60</td>\n",
       "      <td>10.0</td>\n",
       "      <td>250.0</td>\n",
       "      <td>10</td>\n",
       "      <td>NaN</td>\n",
       "      <td>...</td>\n",
       "      <td>Санкт-Петербург</td>\n",
       "      <td>25108.0</td>\n",
       "      <td>3956.0</td>\n",
       "      <td>1.0</td>\n",
       "      <td>530.0</td>\n",
       "      <td>3.0</td>\n",
       "      <td>756.0</td>\n",
       "      <td>33.0</td>\n",
       "      <td>2.600</td>\n",
       "      <td>2.600</td>\n",
       "    </tr>\n",
       "    <tr>\n",
       "      <td>13582</td>\n",
       "      <td>7</td>\n",
       "      <td>240000000.0</td>\n",
       "      <td>410.0</td>\n",
       "      <td>2017-04-01T00:00:00</td>\n",
       "      <td>6</td>\n",
       "      <td>3.40</td>\n",
       "      <td>7.0</td>\n",
       "      <td>218.0</td>\n",
       "      <td>7</td>\n",
       "      <td>NaN</td>\n",
       "      <td>...</td>\n",
       "      <td>Санкт-Петербург</td>\n",
       "      <td>32440.0</td>\n",
       "      <td>5297.0</td>\n",
       "      <td>0.0</td>\n",
       "      <td>NaN</td>\n",
       "      <td>2.0</td>\n",
       "      <td>198.0</td>\n",
       "      <td>199.0</td>\n",
       "      <td>3.000</td>\n",
       "      <td>3.000</td>\n",
       "    </tr>\n",
       "    <tr>\n",
       "      <td>14526</td>\n",
       "      <td>15</td>\n",
       "      <td>401300000.0</td>\n",
       "      <td>401.0</td>\n",
       "      <td>2016-02-20T00:00:00</td>\n",
       "      <td>5</td>\n",
       "      <td>2.55</td>\n",
       "      <td>9.0</td>\n",
       "      <td>204.0</td>\n",
       "      <td>9</td>\n",
       "      <td>False</td>\n",
       "      <td>...</td>\n",
       "      <td>Санкт-Петербург</td>\n",
       "      <td>21912.0</td>\n",
       "      <td>2389.0</td>\n",
       "      <td>1.0</td>\n",
       "      <td>545.0</td>\n",
       "      <td>1.0</td>\n",
       "      <td>478.0</td>\n",
       "      <td>393.0</td>\n",
       "      <td>2.550</td>\n",
       "      <td>2.550</td>\n",
       "    </tr>\n",
       "    <tr>\n",
       "      <td>15462</td>\n",
       "      <td>20</td>\n",
       "      <td>300000000.0</td>\n",
       "      <td>618.0</td>\n",
       "      <td>2017-12-18T00:00:00</td>\n",
       "      <td>7</td>\n",
       "      <td>3.40</td>\n",
       "      <td>7.0</td>\n",
       "      <td>258.0</td>\n",
       "      <td>5</td>\n",
       "      <td>NaN</td>\n",
       "      <td>...</td>\n",
       "      <td>Санкт-Петербург</td>\n",
       "      <td>32440.0</td>\n",
       "      <td>5297.0</td>\n",
       "      <td>0.0</td>\n",
       "      <td>NaN</td>\n",
       "      <td>2.0</td>\n",
       "      <td>198.0</td>\n",
       "      <td>111.0</td>\n",
       "      <td>3.000</td>\n",
       "      <td>3.000</td>\n",
       "    </tr>\n",
       "    <tr>\n",
       "      <td>16267</td>\n",
       "      <td>17</td>\n",
       "      <td>245000000.0</td>\n",
       "      <td>285.7</td>\n",
       "      <td>2017-04-10T00:00:00</td>\n",
       "      <td>6</td>\n",
       "      <td>3.35</td>\n",
       "      <td>7.0</td>\n",
       "      <td>182.8</td>\n",
       "      <td>4</td>\n",
       "      <td>NaN</td>\n",
       "      <td>...</td>\n",
       "      <td>Санкт-Петербург</td>\n",
       "      <td>33143.0</td>\n",
       "      <td>6235.0</td>\n",
       "      <td>3.0</td>\n",
       "      <td>400.0</td>\n",
       "      <td>3.0</td>\n",
       "      <td>140.0</td>\n",
       "      <td>249.0</td>\n",
       "      <td>3.000</td>\n",
       "      <td>3.000</td>\n",
       "    </tr>\n",
       "    <tr>\n",
       "      <td>19313</td>\n",
       "      <td>8</td>\n",
       "      <td>420000000.0</td>\n",
       "      <td>900.0</td>\n",
       "      <td>2017-12-06T00:00:00</td>\n",
       "      <td>12</td>\n",
       "      <td>2.80</td>\n",
       "      <td>25.0</td>\n",
       "      <td>409.7</td>\n",
       "      <td>25</td>\n",
       "      <td>NaN</td>\n",
       "      <td>...</td>\n",
       "      <td>Санкт-Петербург</td>\n",
       "      <td>30706.0</td>\n",
       "      <td>7877.0</td>\n",
       "      <td>0.0</td>\n",
       "      <td>NaN</td>\n",
       "      <td>2.0</td>\n",
       "      <td>318.0</td>\n",
       "      <td>106.0</td>\n",
       "      <td>2.750</td>\n",
       "      <td>2.750</td>\n",
       "    </tr>\n",
       "    <tr>\n",
       "      <td>22566</td>\n",
       "      <td>18</td>\n",
       "      <td>289238400.0</td>\n",
       "      <td>187.5</td>\n",
       "      <td>2019-03-19T00:00:00</td>\n",
       "      <td>2</td>\n",
       "      <td>3.37</td>\n",
       "      <td>6.0</td>\n",
       "      <td>63.7</td>\n",
       "      <td>6</td>\n",
       "      <td>NaN</td>\n",
       "      <td>...</td>\n",
       "      <td>Санкт-Петербург</td>\n",
       "      <td>22494.0</td>\n",
       "      <td>1073.0</td>\n",
       "      <td>3.0</td>\n",
       "      <td>386.0</td>\n",
       "      <td>3.0</td>\n",
       "      <td>188.0</td>\n",
       "      <td>NaN</td>\n",
       "      <td>3.125</td>\n",
       "      <td>3.125</td>\n",
       "    </tr>\n",
       "  </tbody>\n",
       "</table>\n",
       "<p>9 rows × 24 columns</p>\n",
       "</div>"
      ],
      "text/plain": [
       "       total_images   last_price  total_area first_day_exposition  rooms  \\\n",
       "1415             19  330000000.0       190.0  2018-04-04T00:00:00      3   \n",
       "5820              3  230000000.0       500.0  2017-05-31T00:00:00      6   \n",
       "12811            19  763000000.0       400.0  2017-09-30T00:00:00      7   \n",
       "13582             7  240000000.0       410.0  2017-04-01T00:00:00      6   \n",
       "14526            15  401300000.0       401.0  2016-02-20T00:00:00      5   \n",
       "15462            20  300000000.0       618.0  2017-12-18T00:00:00      7   \n",
       "16267            17  245000000.0       285.7  2017-04-10T00:00:00      6   \n",
       "19313             8  420000000.0       900.0  2017-12-06T00:00:00     12   \n",
       "22566            18  289238400.0       187.5  2019-03-19T00:00:00      2   \n",
       "\n",
       "       ceiling_height  floors_total  living_area  floor is_apartment  ...  \\\n",
       "1415             3.50           7.0         95.0      5          NaN  ...   \n",
       "5820             3.00           7.0          NaN      7          NaN  ...   \n",
       "12811            2.60          10.0        250.0     10          NaN  ...   \n",
       "13582            3.40           7.0        218.0      7          NaN  ...   \n",
       "14526            2.55           9.0        204.0      9        False  ...   \n",
       "15462            3.40           7.0        258.0      5          NaN  ...   \n",
       "16267            3.35           7.0        182.8      4          NaN  ...   \n",
       "19313            2.80          25.0        409.7     25          NaN  ...   \n",
       "22566            3.37           6.0         63.7      6          NaN  ...   \n",
       "\n",
       "         locality_name  airports_nearest  cityCenters_nearest  \\\n",
       "1415   Санкт-Петербург           23011.0               1197.0   \n",
       "5820   Санкт-Петербург           32440.0               5297.0   \n",
       "12811  Санкт-Петербург           25108.0               3956.0   \n",
       "13582  Санкт-Петербург           32440.0               5297.0   \n",
       "14526  Санкт-Петербург           21912.0               2389.0   \n",
       "15462  Санкт-Петербург           32440.0               5297.0   \n",
       "16267  Санкт-Петербург           33143.0               6235.0   \n",
       "19313  Санкт-Петербург           30706.0               7877.0   \n",
       "22566  Санкт-Петербург           22494.0               1073.0   \n",
       "\n",
       "       parks_around3000 parks_nearest  ponds_around3000  ponds_nearest  \\\n",
       "1415                3.0         519.0               3.0          285.0   \n",
       "5820                0.0           NaN               2.0          198.0   \n",
       "12811               1.0         530.0               3.0          756.0   \n",
       "13582               0.0           NaN               2.0          198.0   \n",
       "14526               1.0         545.0               1.0          478.0   \n",
       "15462               0.0           NaN               2.0          198.0   \n",
       "16267               3.0         400.0               3.0          140.0   \n",
       "19313               0.0           NaN               2.0          318.0   \n",
       "22566               3.0         386.0               3.0          188.0   \n",
       "\n",
       "       days_exposition  ceiling_height_median  ceiling_height_median_floors  \n",
       "1415             233.0                  3.000                         3.000  \n",
       "5820              50.0                  3.000                         3.000  \n",
       "12811             33.0                  2.600                         2.600  \n",
       "13582            199.0                  3.000                         3.000  \n",
       "14526            393.0                  2.550                         2.550  \n",
       "15462            111.0                  3.000                         3.000  \n",
       "16267            249.0                  3.000                         3.000  \n",
       "19313            106.0                  2.750                         2.750  \n",
       "22566              NaN                  3.125                         3.125  \n",
       "\n",
       "[9 rows x 24 columns]"
      ]
     },
     "execution_count": 27,
     "metadata": {},
     "output_type": "execute_result"
    }
   ],
   "source": [
    "df_raw.query('last_price > 200000000')"
   ]
  },
  {
   "cell_type": "markdown",
   "metadata": {},
   "source": [
    "Все квартиры стоимостью выше 200 млн рублей расположены в Санкт-Петербурге. Причем практически всегда высокая стоимость соответствует сочетанию большой площади и близости к центру. Исключение - последняя строка среза. Высокая стоимость которой обусловлена исключительно близостью к центру.  \n",
    "Данные не являются выбросами, можно приступать к обогащению. "
   ]
  },
  {
   "cell_type": "markdown",
   "metadata": {},
   "source": [
    "Обогащение будет проведено по следующему принципу: \n",
    "1. Данные группируются по городам, затем по этажности, затем по числу комнат\n",
    "2. Для каждой группы вычисляются медианные значения жилой площади\n",
    "3. Пропуски заполняются вычисленными медианными значениями (следует ожидать сохранения минимум 5-и пропусков в строчках, где присутствует пропуск данных о населенном пункте) "
   ]
  },
  {
   "cell_type": "code",
   "execution_count": 28,
   "metadata": {},
   "outputs": [],
   "source": [
    "living_area_before_filling = df_raw['living_area']"
   ]
  },
  {
   "cell_type": "code",
   "execution_count": 29,
   "metadata": {},
   "outputs": [
    {
     "name": "stdout",
     "output_type": "stream",
     "text": [
      "Количество пропусков до заполнения: 1856\n",
      "Количество пропусков после заполнения: 151\n",
      "Количество пропусков в колонке \"living_area\" сократилось на 91.9%\n"
     ]
    }
   ],
   "source": [
    "def living_area_fillna(df):\n",
    "    \"\"\"\n",
    "    Функция заполняет пропуски в колонке \"living_area\". \n",
    "    Данные группируются по городам, этажности, количеству комнат; для каждой группы вычисляются медианные\n",
    "    значения жилой площади, которыми и заполняются пропуски. \n",
    "    Функция принимает на вход исследуемый датасет, возвращает кортеж из: датасета без пропусков, \n",
    "                                                                         количества пропусков до заполнения\n",
    "                                                                         количества пропусков после заполнения\n",
    "                                                                         процент, на который сократилось количество пропусков\n",
    "    \n",
    "    df: обогащаемый датасет\n",
    "    living_area_na_before: количество пропусков в колонке \"living_area\" до обогащения\n",
    "    df_no_na: обогащаемый датасет без пропусков\n",
    "    df_grouped: обогащаемый датасет, сгруппированный по населенным пунктам, этажности домов, количеству комнат, \n",
    "                в котором для каждой группы вычеслено медианное значение жилой площади\n",
    "    df_filled_na: исследуемый датасет, в котором все пропуски заполнены полученными медианными значениями\n",
    "    living_area_na_after: количество пропусков в колонке \"living_area\" после обогащения\n",
    "    living_area_na_percentage: процент, на который сократилось количество пропусков\n",
    "    \"\"\"\n",
    "    \n",
    "    living_area_na_before = df['living_area'].isna().sum()\n",
    "    df_no_na = df.drop(df.loc[df.loc[:, 'locality_name'].isna()].isna().index)\n",
    "    df_no_na = df_no_na.drop(df_no_na.loc[df_no_na.loc[:, 'living_area'].isna()].isna().index)\n",
    "    df_grouped = (df_no_na.groupby(['locality_name', 'floors_total', 'rooms'])\n",
    "                          .agg({'living_area': 'median'})\n",
    "                          .rename(columns={'living_area': 'living_area_median'}))\n",
    "    df_filled_na = df.merge(df_grouped, how='left', on=['locality_name', 'floors_total', 'rooms'])\n",
    "    df_filled_na.loc[df_filled_na.loc[:, 'living_area'].isna(), 'living_area'] = (\n",
    "    df_filled_na.loc[df_filled_na.loc[:, 'living_area'].isna(), 'living_area_median'])\n",
    "    living_area_na_after = df_filled_na['living_area'].isna().sum()\n",
    "    living_area_na_percentage = (living_area_na_before - living_area_na_after) / living_area_na_before\n",
    "    \n",
    "    return df_filled_na, living_area_na_before, living_area_na_after, living_area_na_percentage\n",
    "\n",
    "\n",
    "df_raw, living_area_na_before, living_area_na_after, living_area_na_percentage = living_area_fillna(df_raw)\n",
    "print(f'Количество пропусков до заполнения: {living_area_na_before}')\n",
    "print(f'Количество пропусков после заполнения: {living_area_na_after}')\n",
    "print('Количество пропусков в колонке \"living_area\" сократилось на {:.1%}'.format(living_area_na_percentage))"
   ]
  },
  {
   "cell_type": "markdown",
   "metadata": {},
   "source": [
    "Оставшиеся 152 пропуска - результат наличия в данных групп, у каждого члена которых пропущены данные о площади.  \n",
    "Оставшиеся пропуски будут заполнены медианами для групп, составленых без учета местоположения:  \n",
    "1. Данные группируются по этажности и количеству комнат\n",
    "2. Пропуски заполняются медианными значениями для каждой из групп"
   ]
  },
  {
   "cell_type": "code",
   "execution_count": 30,
   "metadata": {},
   "outputs": [
    {
     "name": "stdout",
     "output_type": "stream",
     "text": [
      "Количество пропусков до заполнения: 151\n",
      "Количество пропусков после заполнения: 3\n",
      "Количество пропусков в колонке \"living_area\" сократилось на 98.0%\n"
     ]
    }
   ],
   "source": [
    "def living_area_fillna_rest(df):\n",
    "    \"\"\"\n",
    "    Функция заполняет оставшиеся пропуски в колонке \"living_area\". \n",
    "    Данные группируются только по этажности, количеству комнат; для каждой группы вычисляются медианные\n",
    "    значения жилой площади, которыми и заполняются пропуски. \n",
    "    Функция принимает на вход исследуемый датасет, возвращает кортеж из: датасета без пропусков, \n",
    "                                                                         количества пропусков до заполнения\n",
    "                                                                         количества пропусков после заполнения\n",
    "                                                                         процент, на который сократилось количество пропусков\n",
    "    \n",
    "    df: обогащаемый датасет\n",
    "    living_area_na_before: количество пропусков в колонке \"living_area\" до обогащения\n",
    "    df_no_na: обогащаемый датасет без пропусков\n",
    "    df_grouped: обогащаемый датасет, сгруппированный только по этажности домов, количеству комнат, \n",
    "                в котором для каждой группы вычеслено медианное значение жилой площади\n",
    "    df_filled_na: исследуемый датасет, в котором все пропуски заполнены полученными медианными значениями\n",
    "    living_area_na_after: количество пропусков в колонке \"living_area\" после обогащения\n",
    "    living_area_na_percentage: процент, на который сократилось количество пропусков\n",
    "    \"\"\"\n",
    "    \n",
    "    living_area_na_before = df['living_area'].isna().sum()\n",
    "    df_no_na = df.drop(df.loc[df.loc[:, 'locality_name'].isna()].isna().index)\n",
    "    df_no_na = df_no_na.drop(df_no_na.loc[df_no_na.loc[:, 'living_area'].isna()].isna().index)\n",
    "    df_grouped = (df_no_na.groupby(['floors_total', 'rooms'])\n",
    "                          .agg({'living_area': 'median'})\n",
    "                          .rename(columns={'living_area': 'living_area_median_no_city'}))\n",
    "    df_filled_na = df.merge(df_grouped, how='left', on=['floors_total', 'rooms'])\n",
    "    df_filled_na.loc[df_filled_na.loc[:, 'living_area'].isna(), 'living_area'] = (\n",
    "    df_filled_na.loc[df_filled_na.loc[:, 'living_area'].isna(), 'living_area_median_no_city'])\n",
    "    living_area_na_after = df_filled_na['living_area'].isna().sum()\n",
    "    living_area_na_percentage = (living_area_na_before - living_area_na_after) / living_area_na_before\n",
    "    \n",
    "    return df_filled_na, living_area_na_before, living_area_na_after, living_area_na_percentage\n",
    "\n",
    "\n",
    "df_raw, living_area_na_before, living_area_na_after, living_area_na_percentage = living_area_fillna_rest(df_raw)\n",
    "print(f'Количество пропусков до заполнения: {living_area_na_before}')\n",
    "print(f'Количество пропусков после заполнения: {living_area_na_after}')\n",
    "print('Количество пропусков в колонке \"living_area\" сократилось на {:.1%}'.format(living_area_na_percentage))"
   ]
  },
  {
   "cell_type": "code",
   "execution_count": 31,
   "metadata": {},
   "outputs": [
    {
     "name": "stdout",
     "output_type": "stream",
     "text": [
      "<class 'pandas.core.frame.DataFrame'>\n",
      "RangeIndex: 23422 entries, 0 to 23421\n",
      "Data columns (total 26 columns):\n",
      "total_images                    23422 non-null int64\n",
      "last_price                      23422 non-null float64\n",
      "total_area                      23422 non-null float64\n",
      "first_day_exposition            23422 non-null object\n",
      "rooms                           23422 non-null int64\n",
      "ceiling_height                  23422 non-null float64\n",
      "floors_total                    23422 non-null float64\n",
      "living_area                     23422 non-null float64\n",
      "floor                           23422 non-null int64\n",
      "is_apartment                    2734 non-null object\n",
      "studio                          23422 non-null bool\n",
      "open_plan                       23422 non-null bool\n",
      "kitchen_area                    21216 non-null float64\n",
      "balcony                         12034 non-null float64\n",
      "locality_name                   23375 non-null object\n",
      "airports_nearest                17943 non-null float64\n",
      "cityCenters_nearest             17963 non-null float64\n",
      "parks_around3000                17964 non-null float64\n",
      "parks_nearest                   7954 non-null float64\n",
      "ponds_around3000                17964 non-null float64\n",
      "ponds_nearest                   8971 non-null float64\n",
      "days_exposition                 20289 non-null float64\n",
      "ceiling_height_median           22977 non-null float64\n",
      "ceiling_height_median_floors    23422 non-null float64\n",
      "living_area_median              23232 non-null float64\n",
      "living_area_median_no_city      23422 non-null float64\n",
      "dtypes: bool(2), float64(18), int64(3), object(3)\n",
      "memory usage: 4.3+ MB\n"
     ]
    }
   ],
   "source": [
    "df_raw = df_raw.drop(df_raw.loc[df_raw.loc[:, 'living_area'].isna()].index).reset_index(drop=True)\n",
    "living_area_after_filling = df_raw['living_area']\n",
    "df_raw.info()"
   ]
  },
  {
   "cell_type": "code",
   "execution_count": 32,
   "metadata": {},
   "outputs": [
    {
     "data": {
      "image/png": "[encoded data removed]",
      "text/plain": [
       "<Figure size 1080x288 with 1 Axes>"
      ]
     },
     "metadata": {
      "needs_background": "light"
     },
     "output_type": "display_data"
    }
   ],
   "source": [
    "ax = living_area_after_filling.plot(\n",
    "    kind='hist',\n",
    "    histtype='step',\n",
    "    bins=11,\n",
    "    linewidth=5,\n",
    "    alpha=0.7,\n",
    "    label='living_area_raw',\n",
    "    legend=True\n",
    ")\n",
    "living_area_before_filling.plot(\n",
    "    kind='hist',\n",
    "    histtype='step',\n",
    "    bins=11,\n",
    "    linewidth=5,\n",
    "    alpha=0.7,\n",
    "    ax=ax,\n",
    "    label='living_area_filtered',\n",
    "    grid=True,\n",
    "    legend=True,\n",
    "    figsize=(15, 4)\n",
    ")\n",
    "plt.show()"
   ]
  },
  {
   "cell_type": "markdown",
   "metadata": {},
   "source": [
    "Гистограммы подобны друг другу, значит, обогащение не привело к значительному искажению распределения данных. "
   ]
  },
  {
   "cell_type": "markdown",
   "metadata": {},
   "source": [
    "#### Колонка _kitchen_area_."
   ]
  },
  {
   "cell_type": "markdown",
   "metadata": {},
   "source": [
    "Изучим распределение данных в колонке _kitchen_area_."
   ]
  },
  {
   "cell_type": "code",
   "execution_count": 33,
   "metadata": {},
   "outputs": [
    {
     "data": {
      "image/png": "[encoded data removed]",
      "text/plain": [
       "<Figure size 432x288 with 1 Axes>"
      ]
     },
     "metadata": {
      "needs_background": "light"
     },
     "output_type": "display_data"
    }
   ],
   "source": [
    "df_raw.boxplot('kitchen_area')\n",
    "plt.show()"
   ]
  },
  {
   "cell_type": "markdown",
   "metadata": {},
   "source": [
    "Большое количество данных выходит за верхний \"ус\".  \n",
    "Изучим взаимное распределение данных о жилой площади и о площади кухни. "
   ]
  },
  {
   "cell_type": "code",
   "execution_count": 34,
   "metadata": {},
   "outputs": [
    {
     "data": {
      "image/png": "[encoded data removed]",
      "text/plain": [
       "<Figure size 1080x720 with 1 Axes>"
      ]
     },
     "metadata": {
      "needs_background": "light"
     },
     "output_type": "display_data"
    }
   ],
   "source": [
    "df_raw.plot(kind='scatter', x='living_area', y='kitchen_area', grid=True, figsize=(15, 10))\n",
    "plt.show()"
   ]
  },
  {
   "cell_type": "markdown",
   "metadata": {},
   "source": [
    "Из диаграммы рассеяния видно, что в абсолютном большинстве случаев площадь кухни меньше жилой, либо равна ей, однако, присутствуют объявления, в которых площадь кухни превышает жилую. Оценим объем этой выборки. "
   ]
  },
  {
   "cell_type": "code",
   "execution_count": 35,
   "metadata": {},
   "outputs": [
    {
     "name": "stdout",
     "output_type": "stream",
     "text": [
      "<class 'pandas.core.frame.DataFrame'>\n",
      "Int64Index: 367 entries, 4 to 23299\n",
      "Data columns (total 26 columns):\n",
      "total_images                    367 non-null int64\n",
      "last_price                      367 non-null float64\n",
      "total_area                      367 non-null float64\n",
      "first_day_exposition            367 non-null object\n",
      "rooms                           367 non-null int64\n",
      "ceiling_height                  367 non-null float64\n",
      "floors_total                    367 non-null float64\n",
      "living_area                     367 non-null float64\n",
      "floor                           367 non-null int64\n",
      "is_apartment                    32 non-null object\n",
      "studio                          367 non-null bool\n",
      "open_plan                       367 non-null bool\n",
      "kitchen_area                    367 non-null float64\n",
      "balcony                         179 non-null float64\n",
      "locality_name                   366 non-null object\n",
      "airports_nearest                296 non-null float64\n",
      "cityCenters_nearest             296 non-null float64\n",
      "parks_around3000                296 non-null float64\n",
      "parks_nearest                   142 non-null float64\n",
      "ponds_around3000                296 non-null float64\n",
      "ponds_nearest                   180 non-null float64\n",
      "days_exposition                 311 non-null float64\n",
      "ceiling_height_median           360 non-null float64\n",
      "ceiling_height_median_floors    367 non-null float64\n",
      "living_area_median              366 non-null float64\n",
      "living_area_median_no_city      367 non-null float64\n",
      "dtypes: bool(2), float64(18), int64(3), object(3)\n",
      "memory usage: 72.4+ KB\n"
     ]
    }
   ],
   "source": [
    "df_raw.query('kitchen_area > living_area').info()"
   ]
  },
  {
   "cell_type": "markdown",
   "metadata": {},
   "source": [
    "Найдено 368 таких случаев.  \n",
    "Не станем удалять эти данные, но будем иметь их в виду. "
   ]
  },
  {
   "cell_type": "markdown",
   "metadata": {},
   "source": [
    "Обогащение данных будет произведено по следующему принципу: \n",
    "1. Для каждого объявления будет определена группа, к которой он принадлежит исходя из своей площади\n",
    "2. Объявления группируются по местоположению, затем по этажности, затем по группе площади\n",
    "3. Для каждой группы вычисляются медианные значения площади кухни\n",
    "4. На место пропусков помещаются вычисленные раньше медианные значения"
   ]
  },
  {
   "cell_type": "code",
   "execution_count": 36,
   "metadata": {},
   "outputs": [
    {
     "name": "stdout",
     "output_type": "stream",
     "text": [
      "Количество пропусков в колонке \"kitchen_area\" до обогащения: 2206\n",
      "Количество пропусков в колонке \"kitchen_area\" после обогащения: 143\n",
      "Количество пропусков сократилось на 93.5%\n"
     ]
    }
   ],
   "source": [
    "def kitchen_area_fillna(df):\n",
    "    \"\"\"\n",
    "    Функция заполняет пропуски в колонке \"kitchen_area\". \n",
    "    Для каждого объявления при помощи функции для строки определяется его \"группа жилой площади\". \n",
    "    Данные группируются по населенным пунктам, этажности домов, группам жилой площади. \n",
    "    Для полученных групп вычисляется медианные значения площади, которыми в дальнейшем заполняются пропуски. \n",
    "    Функция принимает на вход исследуемый датасет, возвращает кортеж из: датасета без пропусков, \n",
    "                                                                         количества пропусков до заполнения\n",
    "                                                                         количества пропусков после заполнения\n",
    "                                                                         процент, на который сократилось количество пропусков\n",
    "    \n",
    "    df: обогащаемый датасет\n",
    "    kitchen_area_na_before: количество пропусков до обогащения\n",
    "    df_no_na: датасет с удаленными пропусками в колонке \"kitchen_area\"\n",
    "    df_grouped: датасет без пропусков, сгруппированный по населенным пунктам, этажности и группе жилой площади\n",
    "    df_filled_na: обогащенный датасет\n",
    "    kitchen_area_na_after: количество пропусков после обогащения\n",
    "    kitchen_area_na_percentage: процент, на который сократилось количество пропусков\n",
    "    \"\"\"\n",
    "    \n",
    "    def living_area_group(row):\n",
    "        \"\"\"\n",
    "        Функция присваивает строке датасета группу площади, исходя из данных, указанных в колонке \"living_area\". \n",
    "        Введено 15 групп площадей: менее 20, более 150, диапазон между этими отметками разбит на группы с шагом \n",
    "        в 10 метров (20 - 30 м, 30 - 40 м и т.д.)\n",
    "        \n",
    "        Функция принимает на вход ИСКЛЮЧИТЕЛЬНО ДАТАСЕТЫ БЕЗ ПРОПУСКОВ В КОЛОНКЕ \"living_area\", \n",
    "        возвращает строку с именем назначенной группы.\n",
    "        \"\"\"\n",
    "        \n",
    "        if row['living_area'] < 20:\n",
    "            return 20\n",
    "        elif 20 <= row['living_area'] < 30:\n",
    "            return 30\n",
    "        elif 30 <= row['living_area'] < 40:\n",
    "            return 40\n",
    "        elif 40 <= row['living_area'] < 50:\n",
    "            return 50\n",
    "        elif 50 <= row['living_area'] < 60:\n",
    "            return 60\n",
    "        elif 60 <= row['living_area'] < 70:\n",
    "            return 70\n",
    "        elif 70 <= row['living_area'] < 80:\n",
    "            return 80\n",
    "        elif 80 <= row['living_area'] < 90:\n",
    "            return 90\n",
    "        elif 90 <= row['living_area'] < 100:\n",
    "            return 100\n",
    "        elif 100 <= row['living_area'] < 110:\n",
    "            return 110\n",
    "        elif 110 <= row['living_area'] < 120:\n",
    "            return 120\n",
    "        elif 120 <= row['living_area'] < 130:\n",
    "            return 130\n",
    "        elif 130 <= row['living_area'] < 140:\n",
    "            return 140\n",
    "        elif 140 <= row['living_area'] < 150:\n",
    "            return 150\n",
    "        else: \n",
    "            return 'более 150'\n",
    "        \n",
    "    kitchen_area_na_before = df['kitchen_area'].isna().sum()\n",
    "    df['living_area_group'] = df.apply(living_area_group, axis=1)\n",
    "    df_no_na = df.drop(df.loc[df.loc[:, 'locality_name'].isna()].index)\n",
    "    df_no_na = df_no_na.drop(df_no_na.loc[df_no_na.loc[:, 'kitchen_area'].isna()].index)\n",
    "    df_grouped = df_no_na.groupby(['locality_name', 'floors_total', 'living_area_group']).agg({'kitchen_area': 'median'}).rename(columns={'kitchen_area': 'kitchen_area_median'})\n",
    "    df_filled_na = df.merge(df_grouped, how='left', on=['locality_name', 'floors_total', 'living_area_group'])\n",
    "    df_filled_na.loc[df_filled_na.loc[:, 'kitchen_area'].isna(), 'kitchen_area'] = (\n",
    "    df_filled_na.loc[df_filled_na.loc[:, 'kitchen_area'].isna(), 'kitchen_area_median'])\n",
    "    kitchen_area_na_after = df_filled_na['kitchen_area'].isna().sum()\n",
    "    kitchen_area_na_percentage = (kitchen_area_na_before - kitchen_area_na_after) / kitchen_area_na_before\n",
    "    \n",
    "    return df_filled_na, kitchen_area_na_before, kitchen_area_na_after, kitchen_area_na_percentage\n",
    "\n",
    "\n",
    "df_raw, kitchen_area_na_before, kitchen_area_na_after, kitchen_area_na_percentage = kitchen_area_fillna(df_raw)\n",
    "print(f'Количество пропусков в колонке \"kitchen_area\" до обогащения: {kitchen_area_na_before}')\n",
    "print(f'Количество пропусков в колонке \"kitchen_area\" после обогащения: {kitchen_area_na_after}')\n",
    "print('Количество пропусков сократилось на {:.1%}'.format(kitchen_area_na_percentage))"
   ]
  },
  {
   "cell_type": "markdown",
   "metadata": {},
   "source": [
    "Осталось 143 строки с пропусками. Выведем поля, использовавшиеся для группировки для первых пяти таких случаев. "
   ]
  },
  {
   "cell_type": "code",
   "execution_count": 37,
   "metadata": {},
   "outputs": [
    {
     "data": {
      "text/html": [
       "<div>\n",
       "<style scoped>\n",
       "    .dataframe tbody tr th:only-of-type {\n",
       "        vertical-align: middle;\n",
       "    }\n",
       "\n",
       "    .dataframe tbody tr th {\n",
       "        vertical-align: top;\n",
       "    }\n",
       "\n",
       "    .dataframe thead th {\n",
       "        text-align: right;\n",
       "    }\n",
       "</style>\n",
       "<table border=\"1\" class=\"dataframe\">\n",
       "  <thead>\n",
       "    <tr style=\"text-align: right;\">\n",
       "      <th></th>\n",
       "      <th>locality_name</th>\n",
       "      <th>floors_total</th>\n",
       "      <th>living_area_group</th>\n",
       "      <th>kitchen_area_median</th>\n",
       "    </tr>\n",
       "  </thead>\n",
       "  <tbody>\n",
       "    <tr>\n",
       "      <td>37</td>\n",
       "      <td>поселок городского типа Красный Бор</td>\n",
       "      <td>5.0</td>\n",
       "      <td>40</td>\n",
       "      <td>NaN</td>\n",
       "    </tr>\n",
       "    <tr>\n",
       "      <td>163</td>\n",
       "      <td>поселок городского типа Ефимовский</td>\n",
       "      <td>3.0</td>\n",
       "      <td>40</td>\n",
       "      <td>NaN</td>\n",
       "    </tr>\n",
       "    <tr>\n",
       "      <td>165</td>\n",
       "      <td>посёлок Плодовое</td>\n",
       "      <td>3.0</td>\n",
       "      <td>40</td>\n",
       "      <td>NaN</td>\n",
       "    </tr>\n",
       "    <tr>\n",
       "      <td>691</td>\n",
       "      <td>Пикалёво</td>\n",
       "      <td>9.0</td>\n",
       "      <td>50</td>\n",
       "      <td>NaN</td>\n",
       "    </tr>\n",
       "    <tr>\n",
       "      <td>903</td>\n",
       "      <td>деревня Кипень</td>\n",
       "      <td>3.0</td>\n",
       "      <td>30</td>\n",
       "      <td>NaN</td>\n",
       "    </tr>\n",
       "  </tbody>\n",
       "</table>\n",
       "</div>"
      ],
      "text/plain": [
       "                           locality_name  floors_total living_area_group  \\\n",
       "37   поселок городского типа Красный Бор           5.0                40   \n",
       "163   поселок городского типа Ефимовский           3.0                40   \n",
       "165                     посёлок Плодовое           3.0                40   \n",
       "691                             Пикалёво           9.0                50   \n",
       "903                       деревня Кипень           3.0                30   \n",
       "\n",
       "     kitchen_area_median  \n",
       "37                   NaN  \n",
       "163                  NaN  \n",
       "165                  NaN  \n",
       "691                  NaN  \n",
       "903                  NaN  "
      ]
     },
     "execution_count": 37,
     "metadata": {},
     "output_type": "execute_result"
    }
   ],
   "source": [
    "df_raw.loc[df_raw.loc[:, 'kitchen_area'].isna(), ['locality_name', 'floors_total', 'living_area_group', 'kitchen_area_median']].head()"
   ]
  },
  {
   "cell_type": "markdown",
   "metadata": {},
   "source": [
    "Предположительно, эти пропуски не были заполнены, так как группа, для которой расчитывалась медиана, была представлена несколькими записями (или единственной записью), которые содержали пропуски.  \n",
    "Проверим это утверждение: выведем все записи, совпадающие по параметрам группировки с 37 строкой. "
   ]
  },
  {
   "cell_type": "code",
   "execution_count": 38,
   "metadata": {},
   "outputs": [
    {
     "data": {
      "text/html": [
       "<div>\n",
       "<style scoped>\n",
       "    .dataframe tbody tr th:only-of-type {\n",
       "        vertical-align: middle;\n",
       "    }\n",
       "\n",
       "    .dataframe tbody tr th {\n",
       "        vertical-align: top;\n",
       "    }\n",
       "\n",
       "    .dataframe thead th {\n",
       "        text-align: right;\n",
       "    }\n",
       "</style>\n",
       "<table border=\"1\" class=\"dataframe\">\n",
       "  <thead>\n",
       "    <tr style=\"text-align: right;\">\n",
       "      <th></th>\n",
       "      <th>total_images</th>\n",
       "      <th>last_price</th>\n",
       "      <th>total_area</th>\n",
       "      <th>first_day_exposition</th>\n",
       "      <th>rooms</th>\n",
       "      <th>ceiling_height</th>\n",
       "      <th>floors_total</th>\n",
       "      <th>living_area</th>\n",
       "      <th>floor</th>\n",
       "      <th>is_apartment</th>\n",
       "      <th>...</th>\n",
       "      <th>parks_nearest</th>\n",
       "      <th>ponds_around3000</th>\n",
       "      <th>ponds_nearest</th>\n",
       "      <th>days_exposition</th>\n",
       "      <th>ceiling_height_median</th>\n",
       "      <th>ceiling_height_median_floors</th>\n",
       "      <th>living_area_median</th>\n",
       "      <th>living_area_median_no_city</th>\n",
       "      <th>living_area_group</th>\n",
       "      <th>kitchen_area_median</th>\n",
       "    </tr>\n",
       "  </thead>\n",
       "  <tbody>\n",
       "  </tbody>\n",
       "</table>\n",
       "<p>0 rows × 28 columns</p>\n",
       "</div>"
      ],
      "text/plain": [
       "Empty DataFrame\n",
       "Columns: [total_images, last_price, total_area, first_day_exposition, rooms, ceiling_height, floors_total, living_area, floor, is_apartment, studio, open_plan, kitchen_area, balcony, locality_name, airports_nearest, cityCenters_nearest, parks_around3000, parks_nearest, ponds_around3000, ponds_nearest, days_exposition, ceiling_height_median, ceiling_height_median_floors, living_area_median, living_area_median_no_city, living_area_group, kitchen_area_median]\n",
       "Index: []\n",
       "\n",
       "[0 rows x 28 columns]"
      ]
     },
     "execution_count": 38,
     "metadata": {},
     "output_type": "execute_result"
    }
   ],
   "source": [
    "df_raw.query('locality_name == \"поселок городского типа Красный Бор\" and floors_total == 5 and living_area_group == \"от 30 до 40\"')"
   ]
  },
  {
   "cell_type": "markdown",
   "metadata": {},
   "source": [
    "Предположение подтвердилось.  \n",
    "Оставшиеся 143 строки будут заполнены аналогичным образом, но группы будут сформированы без учета месторасположения недвижимости. "
   ]
  },
  {
   "cell_type": "code",
   "execution_count": 39,
   "metadata": {},
   "outputs": [
    {
     "name": "stdout",
     "output_type": "stream",
     "text": [
      "Количество пропусков в колонке \"kitchen_area\" до обогащения: 143\n",
      "Количество пропусков в колонке \"kitchen_area\" после обогащения: 1\n",
      "Количество пропусков сократилось на 99.3%\n"
     ]
    }
   ],
   "source": [
    "def kitchen_area_fillna_rest(df):\n",
    "    \"\"\"\n",
    "    Функция заполняет оставшиеся после первого этапа обогащения пропуски в колонке \"kitchen_area\".\n",
    "    Данные группируются только по этажности домов и группам жилой площади. \n",
    "    Для полученных групп вычисляется медианные значения площади, которыми в дальнейшем заполняются пропуски. \n",
    "    Функция принимает на вход обогащаемый датасет, возвращает кортеж из: датасета без пропусков, \n",
    "                                                                         количества пропусков до заполнения\n",
    "                                                                         количества пропусков после заполнения\n",
    "                                                                         процент, на который сократилось количество пропусков\n",
    "    \n",
    "    df: обогащаемый датасет\n",
    "    kitchen_area_na_before: количество пропусков до обогащения\n",
    "    df_no_na: датасет с удаленными пропусками в колонке \"kitchen_area\"\n",
    "    df_grouped: датасет без пропусков, сгруппированный по этажности и группе жилой площади\n",
    "    df_filled_na: обогащенный датасет\n",
    "    kitchen_area_na_after: количество пропусков после обогащения\n",
    "    kitchen_area_na_percentage: процент, на который сократилось количество пропусков\n",
    "    \"\"\"\n",
    "    \n",
    "    kitchen_area_na_before = df['kitchen_area'].isna().sum()\n",
    "    df_no_na = df.drop(df.loc[df.loc[:, 'locality_name'].isna()].index)\n",
    "    df_no_na = df_no_na.drop(df_no_na.loc[df_no_na.loc[:, 'kitchen_area'].isna()].index)\n",
    "    df_grouped = df_no_na.groupby(['floors_total', 'living_area_group']).agg({'kitchen_area': 'median'}).rename(columns={'kitchen_area': 'kitchen_area_median'})\n",
    "    df_filled_na = df.merge(df_grouped, how='left', on=['floors_total', 'living_area_group'])\n",
    "    df_filled_na.loc[df_filled_na.loc[:, 'kitchen_area'].isna(), 'kitchen_area'] = (\n",
    "    df_filled_na.loc[df_filled_na.loc[:, 'kitchen_area'].isna(), 'kitchen_area_median'])\n",
    "    kitchen_area_na_after = df_filled_na['kitchen_area'].isna().sum()\n",
    "    kitchen_area_na_percentage = (kitchen_area_na_before - kitchen_area_na_after) / kitchen_area_na_before\n",
    "    \n",
    "    return df_filled_na, kitchen_area_na_before, kitchen_area_na_after, kitchen_area_na_percentage\n",
    "\n",
    "\n",
    "df_raw.drop('kitchen_area_median', axis=1, inplace=True)\n",
    "df_raw, kitchen_area_na_before, kitchen_area_na_after, kitchen_area_na_percentage = kitchen_area_fillna_rest(df_raw)\n",
    "print(f'Количество пропусков в колонке \"kitchen_area\" до обогащения: {kitchen_area_na_before}')\n",
    "print(f'Количество пропусков в колонке \"kitchen_area\" после обогащения: {kitchen_area_na_after}')\n",
    "print('Количество пропусков сократилось на {:.1%}'.format(kitchen_area_na_percentage))"
   ]
  },
  {
   "cell_type": "code",
   "execution_count": 40,
   "metadata": {},
   "outputs": [
    {
     "data": {
      "text/html": [
       "<div>\n",
       "<style scoped>\n",
       "    .dataframe tbody tr th:only-of-type {\n",
       "        vertical-align: middle;\n",
       "    }\n",
       "\n",
       "    .dataframe tbody tr th {\n",
       "        vertical-align: top;\n",
       "    }\n",
       "\n",
       "    .dataframe thead th {\n",
       "        text-align: right;\n",
       "    }\n",
       "</style>\n",
       "<table border=\"1\" class=\"dataframe\">\n",
       "  <thead>\n",
       "    <tr style=\"text-align: right;\">\n",
       "      <th></th>\n",
       "      <th>total_images</th>\n",
       "      <th>last_price</th>\n",
       "      <th>total_area</th>\n",
       "      <th>first_day_exposition</th>\n",
       "      <th>rooms</th>\n",
       "      <th>ceiling_height</th>\n",
       "      <th>floors_total</th>\n",
       "      <th>living_area</th>\n",
       "      <th>floor</th>\n",
       "      <th>is_apartment</th>\n",
       "      <th>...</th>\n",
       "      <th>parks_nearest</th>\n",
       "      <th>ponds_around3000</th>\n",
       "      <th>ponds_nearest</th>\n",
       "      <th>days_exposition</th>\n",
       "      <th>ceiling_height_median</th>\n",
       "      <th>ceiling_height_median_floors</th>\n",
       "      <th>living_area_median</th>\n",
       "      <th>living_area_median_no_city</th>\n",
       "      <th>living_area_group</th>\n",
       "      <th>kitchen_area_median</th>\n",
       "    </tr>\n",
       "  </thead>\n",
       "  <tbody>\n",
       "    <tr>\n",
       "      <td>1674</td>\n",
       "      <td>11</td>\n",
       "      <td>3550000.0</td>\n",
       "      <td>28.0</td>\n",
       "      <td>2018-02-08T00:00:00</td>\n",
       "      <td>1</td>\n",
       "      <td>2.65</td>\n",
       "      <td>34.0</td>\n",
       "      <td>18.0</td>\n",
       "      <td>23</td>\n",
       "      <td>NaN</td>\n",
       "      <td>...</td>\n",
       "      <td>NaN</td>\n",
       "      <td>3.0</td>\n",
       "      <td>80.0</td>\n",
       "      <td>410.0</td>\n",
       "      <td>2.65</td>\n",
       "      <td>2.65</td>\n",
       "      <td>18.0</td>\n",
       "      <td>18.0</td>\n",
       "      <td>20</td>\n",
       "      <td>NaN</td>\n",
       "    </tr>\n",
       "  </tbody>\n",
       "</table>\n",
       "<p>1 rows × 28 columns</p>\n",
       "</div>"
      ],
      "text/plain": [
       "      total_images  last_price  total_area first_day_exposition  rooms  \\\n",
       "1674            11   3550000.0        28.0  2018-02-08T00:00:00      1   \n",
       "\n",
       "      ceiling_height  floors_total  living_area  floor is_apartment  ...  \\\n",
       "1674            2.65          34.0         18.0     23          NaN  ...   \n",
       "\n",
       "      parks_nearest  ponds_around3000  ponds_nearest  days_exposition  \\\n",
       "1674            NaN               3.0           80.0            410.0   \n",
       "\n",
       "     ceiling_height_median  ceiling_height_median_floors  living_area_median  \\\n",
       "1674                  2.65                          2.65                18.0   \n",
       "\n",
       "      living_area_median_no_city  living_area_group  kitchen_area_median  \n",
       "1674                        18.0                 20                  NaN  \n",
       "\n",
       "[1 rows x 28 columns]"
      ]
     },
     "execution_count": 40,
     "metadata": {},
     "output_type": "execute_result"
    }
   ],
   "source": [
    "df_raw.loc[df_raw.loc[:, 'kitchen_area'].isna()]"
   ]
  },
  {
   "cell_type": "markdown",
   "metadata": {},
   "source": [
    "Оставшийся \"уникальный\" случай удаляется. "
   ]
  },
  {
   "cell_type": "code",
   "execution_count": 41,
   "metadata": {},
   "outputs": [],
   "source": [
    "df_raw = df_raw.drop(df_raw.loc[df_raw.loc[:, 'kitchen_area'].isna()].index).reset_index(drop=True)"
   ]
  },
  {
   "cell_type": "markdown",
   "metadata": {},
   "source": [
    "После полного заполнения данных о площадях недвижимости, проведем фильтрацию, чтобы исключить возможные случаи, когда жилая площадь в сумме с площадью кухни превышает общую площадь."
   ]
  },
  {
   "cell_type": "code",
   "execution_count": 42,
   "metadata": {},
   "outputs": [],
   "source": [
    "df_raw = df_raw.query('kitchen_area + living_area < total_area')"
   ]
  },
  {
   "cell_type": "markdown",
   "metadata": {},
   "source": [
    "#### Колонка _locality_name_. "
   ]
  },
  {
   "cell_type": "code",
   "execution_count": 43,
   "metadata": {},
   "outputs": [
    {
     "name": "stdout",
     "output_type": "stream",
     "text": [
      "Количество объявлений без местоположения недвижимости:  45\n"
     ]
    }
   ],
   "source": [
    "print('Количество объявлений без местоположения недвижимости: ', df_raw['locality_name'].isna().sum())"
   ]
  },
  {
   "cell_type": "markdown",
   "metadata": {},
   "source": [
    "Все пропуски в колонке _locality_name_ будут удалены. "
   ]
  },
  {
   "cell_type": "code",
   "execution_count": 44,
   "metadata": {},
   "outputs": [],
   "source": [
    "df_raw = df_raw.drop(df_raw.loc[df_raw.loc[:, 'locality_name'].isna()].index).reset_index(drop=True)"
   ]
  },
  {
   "cell_type": "markdown",
   "metadata": {},
   "source": [
    "#### Колонка _days_exposition_. "
   ]
  },
  {
   "cell_type": "code",
   "execution_count": 45,
   "metadata": {},
   "outputs": [
    {
     "name": "stdout",
     "output_type": "stream",
     "text": [
      "Процент пропусков в колонке \"days_exposition\" на данный момент: 13.5%\n"
     ]
    }
   ],
   "source": [
    "days_explosition_na = df_raw['days_exposition'].isna().sum()\n",
    "total_rows_for_now = df_raw.shape[0]\n",
    "print('Процент пропусков в колонке \"days_exposition\" на данный момент: {:.1%}'.format(days_explosition_na / total_rows_for_now))"
   ]
  },
  {
   "cell_type": "markdown",
   "metadata": {},
   "source": [
    "Пропуски из этой колонки неозможно заполнить адекватными предположительными величинами, но и удалять их нецелесообразно в силу их относительно большого процента в выборке.  \n",
    "Данные не будут изменяться; наличие пропусков будет учтено в дальнейшем. "
   ]
  },
  {
   "cell_type": "markdown",
   "metadata": {},
   "source": [
    "#### Колонка _balcony_."
   ]
  },
  {
   "cell_type": "markdown",
   "metadata": {},
   "source": [
    "Пропуски в колонке о количестве балконов будут заменены на нули из принципа: если количество балконов не было указано, значит, их нет. "
   ]
  },
  {
   "cell_type": "code",
   "execution_count": 46,
   "metadata": {},
   "outputs": [
    {
     "name": "stdout",
     "output_type": "stream",
     "text": [
      "<class 'pandas.core.frame.DataFrame'>\n",
      "RangeIndex: 22861 entries, 0 to 22860\n",
      "Data columns (total 28 columns):\n",
      "total_images                    22861 non-null int64\n",
      "last_price                      22861 non-null float64\n",
      "total_area                      22861 non-null float64\n",
      "first_day_exposition            22861 non-null object\n",
      "rooms                           22861 non-null int64\n",
      "ceiling_height                  22861 non-null float64\n",
      "floors_total                    22861 non-null float64\n",
      "living_area                     22861 non-null float64\n",
      "floor                           22861 non-null int64\n",
      "is_apartment                    2660 non-null object\n",
      "studio                          22861 non-null bool\n",
      "open_plan                       22861 non-null bool\n",
      "kitchen_area                    22861 non-null float64\n",
      "balcony                         22861 non-null float64\n",
      "locality_name                   22861 non-null object\n",
      "airports_nearest                17588 non-null float64\n",
      "cityCenters_nearest             17608 non-null float64\n",
      "parks_around3000                17609 non-null float64\n",
      "parks_nearest                   7828 non-null float64\n",
      "ponds_around3000                17609 non-null float64\n",
      "ponds_nearest                   8783 non-null float64\n",
      "days_exposition                 19772 non-null float64\n",
      "ceiling_height_median           22477 non-null float64\n",
      "ceiling_height_median_floors    22861 non-null float64\n",
      "living_area_median              22731 non-null float64\n",
      "living_area_median_no_city      22861 non-null float64\n",
      "living_area_group               22861 non-null object\n",
      "kitchen_area_median             22861 non-null float64\n",
      "dtypes: bool(2), float64(19), int64(3), object(4)\n",
      "memory usage: 4.6+ MB\n"
     ]
    }
   ],
   "source": [
    "df_raw.fillna(value={'balcony': 0}, inplace=True)\n",
    "df_raw.info()"
   ]
  },
  {
   "cell_type": "markdown",
   "metadata": {},
   "source": [
    "#### Колонка _is_apartment_."
   ]
  },
  {
   "cell_type": "markdown",
   "metadata": {},
   "source": [
    "Пропуски в этой колонке будут заполнены значениями False из принципа: если ничего не было указано, значит данная недвижимость не является апартаментами. "
   ]
  },
  {
   "cell_type": "code",
   "execution_count": 47,
   "metadata": {},
   "outputs": [
    {
     "name": "stdout",
     "output_type": "stream",
     "text": [
      "<class 'pandas.core.frame.DataFrame'>\n",
      "RangeIndex: 22861 entries, 0 to 22860\n",
      "Data columns (total 28 columns):\n",
      "total_images                    22861 non-null int64\n",
      "last_price                      22861 non-null float64\n",
      "total_area                      22861 non-null float64\n",
      "first_day_exposition            22861 non-null object\n",
      "rooms                           22861 non-null int64\n",
      "ceiling_height                  22861 non-null float64\n",
      "floors_total                    22861 non-null float64\n",
      "living_area                     22861 non-null float64\n",
      "floor                           22861 non-null int64\n",
      "is_apartment                    22861 non-null bool\n",
      "studio                          22861 non-null bool\n",
      "open_plan                       22861 non-null bool\n",
      "kitchen_area                    22861 non-null float64\n",
      "balcony                         22861 non-null float64\n",
      "locality_name                   22861 non-null object\n",
      "airports_nearest                17588 non-null float64\n",
      "cityCenters_nearest             17608 non-null float64\n",
      "parks_around3000                17609 non-null float64\n",
      "parks_nearest                   7828 non-null float64\n",
      "ponds_around3000                17609 non-null float64\n",
      "ponds_nearest                   8783 non-null float64\n",
      "days_exposition                 19772 non-null float64\n",
      "ceiling_height_median           22477 non-null float64\n",
      "ceiling_height_median_floors    22861 non-null float64\n",
      "living_area_median              22731 non-null float64\n",
      "living_area_median_no_city      22861 non-null float64\n",
      "living_area_group               22861 non-null object\n",
      "kitchen_area_median             22861 non-null float64\n",
      "dtypes: bool(3), float64(19), int64(3), object(3)\n",
      "memory usage: 4.4+ MB\n"
     ]
    }
   ],
   "source": [
    "df_raw.loc[df_raw.loc[:, 'is_apartment'].isna(), 'is_apartment'] = False\n",
    "df_raw.info()"
   ]
  },
  {
   "cell_type": "markdown",
   "metadata": {},
   "source": [
    "#### Колонки с количественными автоматически-собранными данными"
   ]
  },
  {
   "cell_type": "markdown",
   "metadata": {},
   "source": [
    "Обогащение данных в этих колонках невозможно в силу отсутствия признаков, которые бы явно определяли группы, на которые можно разбить данные для вычисления медианных или средних значений этих параметров. \n",
    "__Пропуски будут заполнены значениями -1__, это позволит легко получать срезы без пропусков, при этом позволит в любой момент отразить их количество."
   ]
  },
  {
   "cell_type": "code",
   "execution_count": 48,
   "metadata": {},
   "outputs": [
    {
     "name": "stdout",
     "output_type": "stream",
     "text": [
      "<class 'pandas.core.frame.DataFrame'>\n",
      "RangeIndex: 22861 entries, 0 to 22860\n",
      "Data columns (total 28 columns):\n",
      "total_images                    22861 non-null int64\n",
      "last_price                      22861 non-null float64\n",
      "total_area                      22861 non-null float64\n",
      "first_day_exposition            22861 non-null object\n",
      "rooms                           22861 non-null int64\n",
      "ceiling_height                  22861 non-null float64\n",
      "floors_total                    22861 non-null float64\n",
      "living_area                     22861 non-null float64\n",
      "floor                           22861 non-null int64\n",
      "is_apartment                    22861 non-null bool\n",
      "studio                          22861 non-null bool\n",
      "open_plan                       22861 non-null bool\n",
      "kitchen_area                    22861 non-null float64\n",
      "balcony                         22861 non-null float64\n",
      "locality_name                   22861 non-null object\n",
      "airports_nearest                22861 non-null float64\n",
      "cityCenters_nearest             22861 non-null float64\n",
      "parks_around3000                22861 non-null float64\n",
      "parks_nearest                   22861 non-null float64\n",
      "ponds_around3000                22861 non-null float64\n",
      "ponds_nearest                   22861 non-null float64\n",
      "days_exposition                 22861 non-null float64\n",
      "ceiling_height_median           22477 non-null float64\n",
      "ceiling_height_median_floors    22861 non-null float64\n",
      "living_area_median              22731 non-null float64\n",
      "living_area_median_no_city      22861 non-null float64\n",
      "living_area_group               22861 non-null object\n",
      "kitchen_area_median             22861 non-null float64\n",
      "dtypes: bool(3), float64(19), int64(3), object(3)\n",
      "memory usage: 4.4+ MB\n"
     ]
    }
   ],
   "source": [
    "df_raw.loc[df_raw.loc[:, 'airports_nearest'].isna(), 'airports_nearest'] = -1\n",
    "df_raw.loc[df_raw.loc[:, 'cityCenters_nearest'].isna(), 'cityCenters_nearest'] = -1\n",
    "df_raw.loc[df_raw.loc[:, 'parks_around3000'].isna(), 'parks_around3000'] = -1\n",
    "df_raw.loc[df_raw.loc[:, 'parks_nearest'].isna(), 'parks_nearest'] = -1\n",
    "df_raw.loc[df_raw.loc[:, 'ponds_around3000'].isna(), 'ponds_around3000'] = -1\n",
    "df_raw.loc[df_raw.loc[:, 'ponds_nearest'].isna(), 'ponds_nearest'] = -1\n",
    "df_raw.loc[df_raw.loc[:, 'days_exposition'].isna(), 'days_exposition'] = -1\n",
    "df_raw.info()"
   ]
  },
  {
   "cell_type": "markdown",
   "metadata": {},
   "source": [
    "#### Промежуточный вывод"
   ]
  },
  {
   "cell_type": "markdown",
   "metadata": {},
   "source": [
    "На данном этапе __пропуски были заполнены в колонках__: \n",
    "1. ceiling_height: в два этапа с группировкой по населенным пунктам и этажности\n",
    "2. floors_total: в два этапа с группировкой по населенным пунктам, этажности и количеству комнат\n",
    "3. living_area: в два этапа с группировкой по населенным пунктам, этажности и количеству комнат\n",
    "4. kitchen_area: в два этапа с группировкой по населенным пунктам, этажности и присвоенной группе жилой площади\n",
    "5. is_apartment: пропуски заполнены значениями _False_\n",
    "6. balcony: пропуски были заполнены значениями _0_\n",
    "7. Автоматически-собранные данные: все пропуски заполнены значениями _-1_\n",
    "\n",
    "__Пропуски были удалены в колонках__ без попыток обогащения: \n",
    "1. locality_name"
   ]
  },
  {
   "cell_type": "markdown",
   "metadata": {},
   "source": [
    "### Выбросы\n",
    "\n",
    "На данном этапе на предмет наличия выбросов не были проверены колонки:\n",
    "1. floor\n",
    "2. total_area\n",
    "3. last_price\n",
    "4. balcony\n",
    "5. rooms"
   ]
  },
  {
   "cell_type": "markdown",
   "metadata": {},
   "source": [
    "#### Колонка _floor_"
   ]
  },
  {
   "cell_type": "markdown",
   "metadata": {},
   "source": [
    "Колонка _floors_total_ уже была проверена на наличие выбросов.  \n",
    "Выбросами в колонке _floor_ будут признаны случаи, когда этаж, на котором расположена квартира превышает максимальное количество этажей. "
   ]
  },
  {
   "cell_type": "code",
   "execution_count": 49,
   "metadata": {
    "scrolled": true
   },
   "outputs": [
    {
     "name": "stdout",
     "output_type": "stream",
     "text": [
      "Количество выбросов в колонке \"floor\": 0\n"
     ]
    }
   ],
   "source": [
    "floor_outlier = len(df_raw.loc[df_raw.loc[:, 'floors_total'] < df_raw.loc[:, 'floor']])\n",
    "print(f'Количество выбросов в колонке \"floor\": {floor_outlier}')"
   ]
  },
  {
   "cell_type": "markdown",
   "metadata": {},
   "source": [
    "#### Колонка _total_area_."
   ]
  },
  {
   "cell_type": "markdown",
   "metadata": {},
   "source": [
    "Построим график размаха для данных в колонке \"total_area\""
   ]
  },
  {
   "cell_type": "code",
   "execution_count": 50,
   "metadata": {},
   "outputs": [
    {
     "data": {
      "image/png": "[encoded data removed]",
      "text/plain": [
       "<Figure size 432x288 with 1 Axes>"
      ]
     },
     "metadata": {
      "needs_background": "light"
     },
     "output_type": "display_data"
    }
   ],
   "source": [
    "df_raw.boxplot('total_area')\n",
    "plt.show()"
   ]
  },
  {
   "cell_type": "markdown",
   "metadata": {},
   "source": [
    "Третья квартиль расположена в районе 150 метров, однако абсолютное большинство данных расположено в пределах 600 кв. метров.  \n",
    "Все объявления, в которых указанная площадь превышает 600 метров будут удалены (граница взята \"с запасом\")"
   ]
  },
  {
   "cell_type": "code",
   "execution_count": 51,
   "metadata": {},
   "outputs": [
    {
     "name": "stdout",
     "output_type": "stream",
     "text": [
      "Количество объявлений с заявленной площадью свыше 150 метров: 551\n"
     ]
    }
   ],
   "source": [
    "area_more_than_one_fifty = len(df_raw.query('total_area >= 150'))\n",
    "print(f'Количество объявлений с заявленной площадью свыше 150 метров: {area_more_than_one_fifty}')\n",
    "df_raw = df_raw.query('total_area < 150').reset_index(drop=True)"
   ]
  },
  {
   "cell_type": "markdown",
   "metadata": {},
   "source": [
    "#### Колонка _last_price_.\n",
    "Ранее в пункте 1.3.1.3 были обнаружены единичные случаи превышения стоимости недвижимости отметки в 100 млн. руб.  \n",
    "Оценим их точное количество"
   ]
  },
  {
   "cell_type": "code",
   "execution_count": 52,
   "metadata": {},
   "outputs": [
    {
     "data": {
      "image/png": "[encoded data removed]",
      "text/plain": [
       "<Figure size 432x288 with 1 Axes>"
      ]
     },
     "metadata": {
      "needs_background": "light"
     },
     "output_type": "display_data"
    }
   ],
   "source": [
    "df_raw.boxplot('last_price')\n",
    "plt.show()"
   ]
  },
  {
   "cell_type": "code",
   "execution_count": 53,
   "metadata": {},
   "outputs": [
    {
     "data": {
      "text/plain": [
       "count    2.231000e+04\n",
       "mean     5.711525e+06\n",
       "std      4.498929e+06\n",
       "min      1.219000e+04\n",
       "25%      3.450000e+06\n",
       "50%      4.600000e+06\n",
       "75%      6.550000e+06\n",
       "max      1.240000e+08\n",
       "Name: last_price, dtype: float64"
      ]
     },
     "execution_count": 53,
     "metadata": {},
     "output_type": "execute_result"
    }
   ],
   "source": [
    "# КОД РЕВЬЮВЕРА\n",
    "\n",
    "df_raw.last_price.describe()"
   ]
  },
  {
   "cell_type": "code",
   "execution_count": 54,
   "metadata": {},
   "outputs": [
    {
     "name": "stdout",
     "output_type": "stream",
     "text": [
      "Количество объявлений с заявленой ценой свыше 100 млн. рублей: 2\n"
     ]
    }
   ],
   "source": [
    "last_price_more_100 = df_raw.query('last_price > 100000000')['total_images'].count()\n",
    "print(f'Количество объявлений с заявленой ценой свыше 100 млн. рублей: {last_price_more_100}')"
   ]
  },
  {
   "cell_type": "markdown",
   "metadata": {},
   "source": [
    "Учитывая тот факт, что большая часть выборки - бюджетный сегмент (об этом говорят статистические показатели выше), примем границы: \"снизу\" - 1 млн, \"сверху\" - 15 млн.  \n",
    "Все объявления, выходящие за эти пределы признаны выбросами и удалены: "
   ]
  },
  {
   "cell_type": "code",
   "execution_count": 55,
   "metadata": {},
   "outputs": [
    {
     "name": "stdout",
     "output_type": "stream",
     "text": [
      "Количество объявлений с заявленой ценой менее 1 млн и более 15 млн: 902\n"
     ]
    }
   ],
   "source": [
    "deleted_rows_last_price = len(df_raw.query('last_price < 1000000 or last_price > 15000000'))\n",
    "print(f'Количество объявлений с заявленой ценой менее 1 млн и более 15 млн: {deleted_rows_last_price}')\n",
    "df_raw.drop(df_raw.loc[df_raw.loc[:, 'last_price'] > 15000000].index, inplace=True)\n",
    "df_raw.drop(df_raw.loc[df_raw.loc[:, 'last_price'] < 1000000].index, inplace=True)"
   ]
  },
  {
   "cell_type": "markdown",
   "metadata": {},
   "source": [
    "#### Колонка _balcony_.\n",
    "Построим график взаимного распределения данных о числе комнат и о числе балконов. "
   ]
  },
  {
   "cell_type": "code",
   "execution_count": 56,
   "metadata": {},
   "outputs": [
    {
     "data": {
      "image/png": "[encoded data removed]",
      "text/plain": [
       "<Figure size 1080x288 with 1 Axes>"
      ]
     },
     "metadata": {
      "needs_background": "light"
     },
     "output_type": "display_data"
    },
    {
     "data": {
      "image/png": "[encoded data removed]",
      "text/plain": [
       "<Figure size 1080x288 with 1 Axes>"
      ]
     },
     "metadata": {
      "needs_background": "light"
     },
     "output_type": "display_data"
    }
   ],
   "source": [
    "df_raw.plot(kind='scatter', y='balcony', x='rooms', xlim=(0, 8), figsize=(15, 4), title='Все случаи')\n",
    "plt.show()\n",
    "df_raw.plot(kind='scatter', y='balcony', x='rooms', xlim=(0, 8), figsize=(15, 4), alpha=0.005, title='Наиболее частые случаи')\n",
    "plt.show()"
   ]
  },
  {
   "cell_type": "markdown",
   "metadata": {},
   "source": [
    "Согласно взаимному распределению, число балконов не превышает 5, в абсолютном большинстве случаев число балконов либо равно числу комнат, либо превышает его на 1-2.  \n",
    "Однако, присутствуют случаи, когда в однокомнатной квартире расположено 4 - 5 балконов. Оценим количество случаев, когда балконов больше, чем число комнат, включая кухню, более чем на 2. "
   ]
  },
  {
   "cell_type": "code",
   "execution_count": 57,
   "metadata": {},
   "outputs": [
    {
     "name": "stdout",
     "output_type": "stream",
     "text": [
      "Число подобных случаев:  24\n"
     ]
    }
   ],
   "source": [
    "print('Число подобных случаев: ', len(df_raw.query('balcony - 1 - rooms > 2')))"
   ]
  },
  {
   "cell_type": "markdown",
   "metadata": {},
   "source": [
    "Подобные значения редки и явно выбиваются из общей массы, потому их можно признать выбросами и удалить."
   ]
  },
  {
   "cell_type": "code",
   "execution_count": 58,
   "metadata": {},
   "outputs": [],
   "source": [
    "df_raw.drop(df_raw.loc[df_raw.loc[:, 'balcony'] - df_raw.loc[:, 'rooms'] - 1 > 2].index, inplace=True)"
   ]
  },
  {
   "cell_type": "markdown",
   "metadata": {},
   "source": [
    "#### Колонка _rooms_."
   ]
  },
  {
   "cell_type": "markdown",
   "metadata": {},
   "source": [
    "Построим диаграмму размаха для данных в колонке с числом комнат."
   ]
  },
  {
   "cell_type": "code",
   "execution_count": 59,
   "metadata": {
    "scrolled": true
   },
   "outputs": [
    {
     "data": {
      "image/png": "[encoded data removed]",
      "text/plain": [
       "<Figure size 432x288 with 1 Axes>"
      ]
     },
     "metadata": {
      "needs_background": "light"
     },
     "output_type": "display_data"
    }
   ],
   "source": [
    "df_raw.boxplot('rooms')\n",
    "plt.show()"
   ]
  },
  {
   "cell_type": "markdown",
   "metadata": {},
   "source": [
    "Верхний ус расположен на отметке в 6 комнат. Оценим количество объявлений, расположеных выше этой отметки. "
   ]
  },
  {
   "cell_type": "code",
   "execution_count": 60,
   "metadata": {},
   "outputs": [
    {
     "name": "stdout",
     "output_type": "stream",
     "text": [
      "Число объявлений с заявленым количеством комнат свыше 6:  3\n"
     ]
    }
   ],
   "source": [
    "print('Число объявлений с заявленым количеством комнат свыше 6: ', len(df_raw.query('rooms > 6')))"
   ]
  },
  {
   "cell_type": "markdown",
   "metadata": {},
   "source": [
    "Подобных значений немного, потому признаем их выбросами и исключим из рассмотрения. "
   ]
  },
  {
   "cell_type": "code",
   "execution_count": 61,
   "metadata": {},
   "outputs": [],
   "source": [
    "df_raw.drop(df_raw.loc[df_raw.loc[:, 'rooms'] > 6].index, inplace=True)"
   ]
  },
  {
   "cell_type": "markdown",
   "metadata": {},
   "source": [
    "#### Колонка _days_exposition_"
   ]
  },
  {
   "cell_type": "code",
   "execution_count": 62,
   "metadata": {},
   "outputs": [
    {
     "data": {
      "text/plain": [
       "count    21381.000000\n",
       "mean       154.764323\n",
       "std        210.462418\n",
       "min         -1.000000\n",
       "25%         23.000000\n",
       "50%         73.000000\n",
       "75%        196.000000\n",
       "max       1580.000000\n",
       "Name: days_exposition, dtype: float64"
      ]
     },
     "execution_count": 62,
     "metadata": {},
     "output_type": "execute_result"
    }
   ],
   "source": [
    "df_raw['days_exposition'].describe()"
   ]
  },
  {
   "cell_type": "code",
   "execution_count": 63,
   "metadata": {},
   "outputs": [
    {
     "data": {
      "image/png": "[encoded data removed]",
      "text/plain": [
       "<Figure size 432x288 with 1 Axes>"
      ]
     },
     "metadata": {
      "needs_background": "light"
     },
     "output_type": "display_data"
    }
   ],
   "source": [
    "df_raw.boxplot('days_exposition')\n",
    "plt.show()"
   ]
  },
  {
   "cell_type": "markdown",
   "metadata": {},
   "source": [
    "Верхней границей назначена отметка в 600 дней на площадке."
   ]
  },
  {
   "cell_type": "code",
   "execution_count": 64,
   "metadata": {},
   "outputs": [
    {
     "name": "stdout",
     "output_type": "stream",
     "text": [
      "Количество объявлений, продержавшихся на площадке свыше 600 дней: 1045\n"
     ]
    }
   ],
   "source": [
    "more_than_six_hundred = len(df_raw.query('days_exposition > 600'))\n",
    "print(f'Количество объявлений, продержавшихся на площадке свыше 600 дней: {more_than_six_hundred}')\n",
    "df_raw.drop(df_raw.loc[df_raw.loc[:, 'days_exposition'] > 600].index, inplace=True)"
   ]
  },
  {
   "cell_type": "markdown",
   "metadata": {},
   "source": [
    "Все объявления, провисевшие на доске более 600 дней удалены.  \n",
    "На этом этапе сокращение объема данных наибольшее. "
   ]
  },
  {
   "cell_type": "markdown",
   "metadata": {},
   "source": [
    "#### Промежуточный вывод: \n",
    "На этапе обработки выбросов были исследованы все запланированные колонки. Для каждой колонки были определены \"правдоподобные\" значения, все отличные от них значения были удалены.  \n",
    "Оценим текущее сокращение объема данных: "
   ]
  },
  {
   "cell_type": "code",
   "execution_count": 65,
   "metadata": {},
   "outputs": [
    {
     "name": "stdout",
     "output_type": "stream",
     "text": [
      "Текущий объем данных: 20336\n",
      "На данном этапе сокращение объема составляет: 14.2%\n"
     ]
    }
   ],
   "source": [
    "df_raw_rows_midterm = len(df_raw)\n",
    "df_raw_rows_midterm_percentage = round(100 * (df_raw_rows - df_raw_rows_midterm) / df_raw_rows, 1)\n",
    "print(f'Текущий объем данных: {df_raw_rows_midterm}')\n",
    "print(f'На данном этапе сокращение объема составляет: {df_raw_rows_midterm_percentage}%')"
   ]
  },
  {
   "cell_type": "markdown",
   "metadata": {},
   "source": [
    "В результате обогащения данных и обработки выбросов объем сократился на 14.2%"
   ]
  },
  {
   "cell_type": "code",
   "execution_count": 66,
   "metadata": {},
   "outputs": [
    {
     "data": {
      "text/html": [
       "<div>\n",
       "<style scoped>\n",
       "    .dataframe tbody tr th:only-of-type {\n",
       "        vertical-align: middle;\n",
       "    }\n",
       "\n",
       "    .dataframe tbody tr th {\n",
       "        vertical-align: top;\n",
       "    }\n",
       "\n",
       "    .dataframe thead th {\n",
       "        text-align: right;\n",
       "    }\n",
       "</style>\n",
       "<table border=\"1\" class=\"dataframe\">\n",
       "  <thead>\n",
       "    <tr style=\"text-align: right;\">\n",
       "      <th></th>\n",
       "      <th>total_images</th>\n",
       "      <th>last_price</th>\n",
       "      <th>total_area</th>\n",
       "      <th>rooms</th>\n",
       "      <th>ceiling_height</th>\n",
       "      <th>floors_total</th>\n",
       "      <th>living_area</th>\n",
       "      <th>floor</th>\n",
       "      <th>kitchen_area</th>\n",
       "      <th>balcony</th>\n",
       "      <th>...</th>\n",
       "      <th>parks_around3000</th>\n",
       "      <th>parks_nearest</th>\n",
       "      <th>ponds_around3000</th>\n",
       "      <th>ponds_nearest</th>\n",
       "      <th>days_exposition</th>\n",
       "      <th>ceiling_height_median</th>\n",
       "      <th>ceiling_height_median_floors</th>\n",
       "      <th>living_area_median</th>\n",
       "      <th>living_area_median_no_city</th>\n",
       "      <th>kitchen_area_median</th>\n",
       "    </tr>\n",
       "  </thead>\n",
       "  <tbody>\n",
       "    <tr>\n",
       "      <td>count</td>\n",
       "      <td>20336.000000</td>\n",
       "      <td>2.033600e+04</td>\n",
       "      <td>20336.000000</td>\n",
       "      <td>20336.000000</td>\n",
       "      <td>20336.000000</td>\n",
       "      <td>20336.000000</td>\n",
       "      <td>20336.000000</td>\n",
       "      <td>20336.000000</td>\n",
       "      <td>20336.000000</td>\n",
       "      <td>20336.000000</td>\n",
       "      <td>...</td>\n",
       "      <td>20336.000000</td>\n",
       "      <td>20336.000000</td>\n",
       "      <td>20336.000000</td>\n",
       "      <td>20336.000000</td>\n",
       "      <td>20336.000000</td>\n",
       "      <td>20014.000000</td>\n",
       "      <td>20336.000000</td>\n",
       "      <td>20233.000000</td>\n",
       "      <td>20336.000000</td>\n",
       "      <td>20336.000000</td>\n",
       "    </tr>\n",
       "    <tr>\n",
       "      <td>mean</td>\n",
       "      <td>9.869886</td>\n",
       "      <td>5.168052e+06</td>\n",
       "      <td>54.919041</td>\n",
       "      <td>1.976298</td>\n",
       "      <td>2.684473</td>\n",
       "      <td>10.807386</td>\n",
       "      <td>31.267849</td>\n",
       "      <td>5.902980</td>\n",
       "      <td>9.756267</td>\n",
       "      <td>0.597758</td>\n",
       "      <td>...</td>\n",
       "      <td>0.199695</td>\n",
       "      <td>157.504524</td>\n",
       "      <td>0.312844</td>\n",
       "      <td>195.376279</td>\n",
       "      <td>118.990313</td>\n",
       "      <td>2.665322</td>\n",
       "      <td>2.678383</td>\n",
       "      <td>31.290197</td>\n",
       "      <td>31.282083</td>\n",
       "      <td>9.115758</td>\n",
       "    </tr>\n",
       "    <tr>\n",
       "      <td>std</td>\n",
       "      <td>5.591195</td>\n",
       "      <td>2.609337e+06</td>\n",
       "      <td>20.065140</td>\n",
       "      <td>0.911543</td>\n",
       "      <td>0.195253</td>\n",
       "      <td>6.593082</td>\n",
       "      <td>14.029612</td>\n",
       "      <td>4.872768</td>\n",
       "      <td>3.995509</td>\n",
       "      <td>0.946612</td>\n",
       "      <td>...</td>\n",
       "      <td>0.945686</td>\n",
       "      <td>295.978671</td>\n",
       "      <td>1.072069</td>\n",
       "      <td>307.519202</td>\n",
       "      <td>134.811953</td>\n",
       "      <td>0.144405</td>\n",
       "      <td>0.149255</td>\n",
       "      <td>13.716418</td>\n",
       "      <td>13.626395</td>\n",
       "      <td>2.218714</td>\n",
       "    </tr>\n",
       "    <tr>\n",
       "      <td>min</td>\n",
       "      <td>0.000000</td>\n",
       "      <td>1.000000e+06</td>\n",
       "      <td>14.000000</td>\n",
       "      <td>0.000000</td>\n",
       "      <td>2.500000</td>\n",
       "      <td>1.000000</td>\n",
       "      <td>2.000000</td>\n",
       "      <td>1.000000</td>\n",
       "      <td>1.300000</td>\n",
       "      <td>0.000000</td>\n",
       "      <td>...</td>\n",
       "      <td>-1.000000</td>\n",
       "      <td>-1.000000</td>\n",
       "      <td>-1.000000</td>\n",
       "      <td>-1.000000</td>\n",
       "      <td>-1.000000</td>\n",
       "      <td>2.500000</td>\n",
       "      <td>2.550000</td>\n",
       "      <td>9.800000</td>\n",
       "      <td>10.500000</td>\n",
       "      <td>5.800000</td>\n",
       "    </tr>\n",
       "    <tr>\n",
       "      <td>25%</td>\n",
       "      <td>6.000000</td>\n",
       "      <td>3.400000e+06</td>\n",
       "      <td>40.000000</td>\n",
       "      <td>1.000000</td>\n",
       "      <td>2.550000</td>\n",
       "      <td>5.000000</td>\n",
       "      <td>18.200000</td>\n",
       "      <td>2.000000</td>\n",
       "      <td>7.000000</td>\n",
       "      <td>0.000000</td>\n",
       "      <td>...</td>\n",
       "      <td>0.000000</td>\n",
       "      <td>-1.000000</td>\n",
       "      <td>0.000000</td>\n",
       "      <td>-1.000000</td>\n",
       "      <td>21.000000</td>\n",
       "      <td>2.550000</td>\n",
       "      <td>2.570000</td>\n",
       "      <td>18.000000</td>\n",
       "      <td>18.000000</td>\n",
       "      <td>7.000000</td>\n",
       "    </tr>\n",
       "    <tr>\n",
       "      <td>50%</td>\n",
       "      <td>10.000000</td>\n",
       "      <td>4.500000e+06</td>\n",
       "      <td>50.500000</td>\n",
       "      <td>2.000000</td>\n",
       "      <td>2.650000</td>\n",
       "      <td>9.000000</td>\n",
       "      <td>29.900000</td>\n",
       "      <td>4.000000</td>\n",
       "      <td>9.000000</td>\n",
       "      <td>0.000000</td>\n",
       "      <td>...</td>\n",
       "      <td>0.000000</td>\n",
       "      <td>-1.000000</td>\n",
       "      <td>0.000000</td>\n",
       "      <td>-1.000000</td>\n",
       "      <td>66.000000</td>\n",
       "      <td>2.600000</td>\n",
       "      <td>2.600000</td>\n",
       "      <td>30.000000</td>\n",
       "      <td>30.000000</td>\n",
       "      <td>9.000000</td>\n",
       "    </tr>\n",
       "    <tr>\n",
       "      <td>75%</td>\n",
       "      <td>14.000000</td>\n",
       "      <td>6.300000e+06</td>\n",
       "      <td>65.500000</td>\n",
       "      <td>3.000000</td>\n",
       "      <td>2.750000</td>\n",
       "      <td>16.000000</td>\n",
       "      <td>40.000000</td>\n",
       "      <td>8.000000</td>\n",
       "      <td>11.000000</td>\n",
       "      <td>1.000000</td>\n",
       "      <td>...</td>\n",
       "      <td>1.000000</td>\n",
       "      <td>273.000000</td>\n",
       "      <td>1.000000</td>\n",
       "      <td>379.250000</td>\n",
       "      <td>169.000000</td>\n",
       "      <td>2.700000</td>\n",
       "      <td>2.750000</td>\n",
       "      <td>42.300000</td>\n",
       "      <td>42.300000</td>\n",
       "      <td>10.370000</td>\n",
       "    </tr>\n",
       "    <tr>\n",
       "      <td>max</td>\n",
       "      <td>50.000000</td>\n",
       "      <td>1.500000e+07</td>\n",
       "      <td>149.000000</td>\n",
       "      <td>6.000000</td>\n",
       "      <td>3.980000</td>\n",
       "      <td>60.000000</td>\n",
       "      <td>117.100000</td>\n",
       "      <td>33.000000</td>\n",
       "      <td>64.000000</td>\n",
       "      <td>5.000000</td>\n",
       "      <td>...</td>\n",
       "      <td>3.000000</td>\n",
       "      <td>3190.000000</td>\n",
       "      <td>3.000000</td>\n",
       "      <td>1344.000000</td>\n",
       "      <td>600.000000</td>\n",
       "      <td>3.500000</td>\n",
       "      <td>3.125000</td>\n",
       "      <td>155.500000</td>\n",
       "      <td>155.500000</td>\n",
       "      <td>30.000000</td>\n",
       "    </tr>\n",
       "  </tbody>\n",
       "</table>\n",
       "<p>8 rows × 22 columns</p>\n",
       "</div>"
      ],
      "text/plain": [
       "       total_images    last_price    total_area         rooms  ceiling_height  \\\n",
       "count  20336.000000  2.033600e+04  20336.000000  20336.000000    20336.000000   \n",
       "mean       9.869886  5.168052e+06     54.919041      1.976298        2.684473   \n",
       "std        5.591195  2.609337e+06     20.065140      0.911543        0.195253   \n",
       "min        0.000000  1.000000e+06     14.000000      0.000000        2.500000   \n",
       "25%        6.000000  3.400000e+06     40.000000      1.000000        2.550000   \n",
       "50%       10.000000  4.500000e+06     50.500000      2.000000        2.650000   \n",
       "75%       14.000000  6.300000e+06     65.500000      3.000000        2.750000   \n",
       "max       50.000000  1.500000e+07    149.000000      6.000000        3.980000   \n",
       "\n",
       "       floors_total   living_area         floor  kitchen_area       balcony  \\\n",
       "count  20336.000000  20336.000000  20336.000000  20336.000000  20336.000000   \n",
       "mean      10.807386     31.267849      5.902980      9.756267      0.597758   \n",
       "std        6.593082     14.029612      4.872768      3.995509      0.946612   \n",
       "min        1.000000      2.000000      1.000000      1.300000      0.000000   \n",
       "25%        5.000000     18.200000      2.000000      7.000000      0.000000   \n",
       "50%        9.000000     29.900000      4.000000      9.000000      0.000000   \n",
       "75%       16.000000     40.000000      8.000000     11.000000      1.000000   \n",
       "max       60.000000    117.100000     33.000000     64.000000      5.000000   \n",
       "\n",
       "       ...  parks_around3000  parks_nearest  ponds_around3000  ponds_nearest  \\\n",
       "count  ...      20336.000000   20336.000000      20336.000000   20336.000000   \n",
       "mean   ...          0.199695     157.504524          0.312844     195.376279   \n",
       "std    ...          0.945686     295.978671          1.072069     307.519202   \n",
       "min    ...         -1.000000      -1.000000         -1.000000      -1.000000   \n",
       "25%    ...          0.000000      -1.000000          0.000000      -1.000000   \n",
       "50%    ...          0.000000      -1.000000          0.000000      -1.000000   \n",
       "75%    ...          1.000000     273.000000          1.000000     379.250000   \n",
       "max    ...          3.000000    3190.000000          3.000000    1344.000000   \n",
       "\n",
       "       days_exposition  ceiling_height_median  ceiling_height_median_floors  \\\n",
       "count     20336.000000           20014.000000                  20336.000000   \n",
       "mean        118.990313               2.665322                      2.678383   \n",
       "std         134.811953               0.144405                      0.149255   \n",
       "min          -1.000000               2.500000                      2.550000   \n",
       "25%          21.000000               2.550000                      2.570000   \n",
       "50%          66.000000               2.600000                      2.600000   \n",
       "75%         169.000000               2.700000                      2.750000   \n",
       "max         600.000000               3.500000                      3.125000   \n",
       "\n",
       "       living_area_median  living_area_median_no_city  kitchen_area_median  \n",
       "count        20233.000000                20336.000000         20336.000000  \n",
       "mean            31.290197                   31.282083             9.115758  \n",
       "std             13.716418                   13.626395             2.218714  \n",
       "min              9.800000                   10.500000             5.800000  \n",
       "25%             18.000000                   18.000000             7.000000  \n",
       "50%             30.000000                   30.000000             9.000000  \n",
       "75%             42.300000                   42.300000            10.370000  \n",
       "max            155.500000                  155.500000            30.000000  \n",
       "\n",
       "[8 rows x 22 columns]"
      ]
     },
     "execution_count": 66,
     "metadata": {},
     "output_type": "execute_result"
    }
   ],
   "source": [
    "# КОД РЕВЬЮВЕРА\n",
    "\n",
    "# посмотрим на текущие статистики датафрейма\n",
    "\n",
    "df_raw.describe()"
   ]
  },
  {
   "cell_type": "markdown",
   "metadata": {},
   "source": [
    "### Формат числовых значений"
   ]
  },
  {
   "cell_type": "markdown",
   "metadata": {},
   "source": [
    "1.  last_price - перевод в int64. Последнюю назначеную цену перед изменением типа данных выразим в тысячах рублей для удобства чтения\n",
    "2.  first_day_exposition - перевод даты в читаемый вид в формате ГГГГ-ММ-ДД\n",
    "3.  floors_total - переведем в формат int64\n",
    "4.  balcony - переведем в формат int64\n",
    "5.  days_exposition - переведем в формат int64 \n",
    "6.  Все числовые геоданные также будут переведены в формат int64."
   ]
  },
  {
   "cell_type": "code",
   "execution_count": 67,
   "metadata": {},
   "outputs": [
    {
     "name": "stdout",
     "output_type": "stream",
     "text": [
      "<class 'pandas.core.frame.DataFrame'>\n",
      "Int64Index: 20336 entries, 0 to 22309\n",
      "Data columns (total 28 columns):\n",
      "total_images                    20336 non-null int64\n",
      "last_price                      20336 non-null int64\n",
      "total_area                      20336 non-null float64\n",
      "first_day_exposition            20336 non-null datetime64[ns]\n",
      "rooms                           20336 non-null int64\n",
      "ceiling_height                  20336 non-null float64\n",
      "floors_total                    20336 non-null int64\n",
      "living_area                     20336 non-null float64\n",
      "floor                           20336 non-null int64\n",
      "is_apartment                    20336 non-null bool\n",
      "studio                          20336 non-null bool\n",
      "open_plan                       20336 non-null bool\n",
      "kitchen_area                    20336 non-null float64\n",
      "balcony                         20336 non-null int64\n",
      "locality_name                   20336 non-null object\n",
      "airports_nearest                20336 non-null int64\n",
      "cityCenters_nearest             20336 non-null int64\n",
      "parks_around3000                20336 non-null int64\n",
      "parks_nearest                   20336 non-null int64\n",
      "ponds_around3000                20336 non-null int64\n",
      "ponds_nearest                   20336 non-null int64\n",
      "days_exposition                 20336 non-null int64\n",
      "ceiling_height_median           20014 non-null float64\n",
      "ceiling_height_median_floors    20336 non-null float64\n",
      "living_area_median              20233 non-null float64\n",
      "living_area_median_no_city      20336 non-null float64\n",
      "living_area_group               20336 non-null object\n",
      "kitchen_area_median             20336 non-null float64\n",
      "dtypes: bool(3), datetime64[ns](1), float64(9), int64(13), object(2)\n",
      "memory usage: 4.1+ MB\n"
     ]
    }
   ],
   "source": [
    "df_raw['last_price'] = df_raw['last_price'] / 1000\n",
    "df_raw['last_price'] = df_raw['last_price'].astype('int64')\n",
    "df_raw['first_day_exposition'] = pd.to_datetime(df_raw['first_day_exposition'], format='%Y-%m-%d')\n",
    "df_raw['floors_total'] = df_raw['floors_total'].astype('int64')\n",
    "df_raw['balcony'] = df_raw['balcony'].astype('int64')\n",
    "df_raw['airports_nearest'] = df_raw['airports_nearest'].astype('int64')\n",
    "df_raw['cityCenters_nearest'] = df_raw['cityCenters_nearest'].astype('int64')\n",
    "df_raw['parks_around3000'] = df_raw['parks_around3000'].astype('int64')\n",
    "df_raw['parks_nearest'] = df_raw['parks_nearest'].astype('int64')\n",
    "df_raw['ponds_around3000'] = df_raw['ponds_around3000'].astype('int64')\n",
    "df_raw['ponds_nearest'] = df_raw['ponds_nearest'].astype('int64')\n",
    "df_raw['days_exposition'] = df_raw['days_exposition'].astype('int64')\n",
    "df_raw['is_apartment'] = df_raw['is_apartment'].astype('bool')\n",
    "df_raw.info()"
   ]
  },
  {
   "cell_type": "markdown",
   "metadata": {},
   "source": [
    "#### Промежуточный вывод\n",
    "На этапе изменения типов данных большинство значений было приведено к целочисленному типу int64, что должно ускорить проведение расчетов и повысить их точность.  \n",
    "Был введен тип данных datetime64[ns] для колонки \"first_day_exposition\". "
   ]
  },
  {
   "cell_type": "markdown",
   "metadata": {},
   "source": [
    "### Дубликаты"
   ]
  },
  {
   "cell_type": "markdown",
   "metadata": {},
   "source": [
    "Примем, что в данных нет объявлений о продаже одних и тех же квартир, поданые с измененными ценами или указаными параметрами жилья.  \n",
    "Будет проведена очистка только от полных дубликатов"
   ]
  },
  {
   "cell_type": "code",
   "execution_count": 68,
   "metadata": {},
   "outputs": [
    {
     "name": "stdout",
     "output_type": "stream",
     "text": [
      "Количество строк после удаления дубликатов сократилось на 0.0%\n"
     ]
    }
   ],
   "source": [
    "rows_before_duplicate_drop = df_raw.shape[0]\n",
    "df_raw = df_raw.drop_duplicates()\n",
    "rows_after_duplicate_drop = df_raw.shape[0]\n",
    "print('Количество строк после удаления дубликатов сократилось на {:.1%}'.format((rows_before_duplicate_drop - rows_after_duplicate_drop) / rows_before_duplicate_drop))"
   ]
  },
  {
   "cell_type": "markdown",
   "metadata": {},
   "source": [
    "#### Промежуточный вывод\n",
    "Полных дубликатов в таблице не оказалось. "
   ]
  },
  {
   "cell_type": "markdown",
   "metadata": {},
   "source": [
    "### Выводы"
   ]
  },
  {
   "cell_type": "code",
   "execution_count": 69,
   "metadata": {},
   "outputs": [
    {
     "name": "stdout",
     "output_type": "stream",
     "text": [
      "Общее сокращение объема данных составило 14.2%\n"
     ]
    }
   ],
   "source": [
    "df_clean = df_raw.drop(['ceiling_height_median', 'ceiling_height_median_floors', \n",
    "                        'living_area_median', 'living_area_median_no_city',\n",
    "                        'kitchen_area_median'], axis=1)\n",
    "df_clean_rows = df_clean.shape[0]\n",
    "row_reduce_percentage = (df_raw_rows - df_clean_rows) / df_raw_rows\n",
    "print('Общее сокращение объема данных составило {:.1%}'.format(row_reduce_percentage))"
   ]
  },
  {
   "cell_type": "markdown",
   "metadata": {},
   "source": [
    "На этапе предобработки данных: \n",
    "1. __Пропуски были устранены в полном объеме__, причем в случаях, когда обогащение было невозможно, __пропуски были заменены__ на значения _-1_ или подобные, что сохранило возможность получения информации о количестве пропусков.\n",
    "2. Количественные значения были проверены на наличие __выбросов__ и выбивающихся значений, которые также были удалены\n",
    "3. В некоторых колонках с числовыми значениями были __изменены типы данных__, также колонка с информацией о дате размещения была приведена к формату _datetime64[ns]_\n",
    "4. Данные были исследованы на предмет наличия __дубликатов__. \n",
    "  \n",
    "__Итоговое сокращение объема данных составило 14.2%__"
   ]
  },
  {
   "cell_type": "markdown",
   "metadata": {},
   "source": [
    "## Шаг 3. Посчитайте и добавьте в таблицу"
   ]
  },
  {
   "cell_type": "markdown",
   "metadata": {},
   "source": [
    "### Расчет стоимости квадратного метра"
   ]
  },
  {
   "cell_type": "code",
   "execution_count": 70,
   "metadata": {},
   "outputs": [
    {
     "data": {
      "text/html": [
       "<div>\n",
       "<style scoped>\n",
       "    .dataframe tbody tr th:only-of-type {\n",
       "        vertical-align: middle;\n",
       "    }\n",
       "\n",
       "    .dataframe tbody tr th {\n",
       "        vertical-align: top;\n",
       "    }\n",
       "\n",
       "    .dataframe thead th {\n",
       "        text-align: right;\n",
       "    }\n",
       "</style>\n",
       "<table border=\"1\" class=\"dataframe\">\n",
       "  <thead>\n",
       "    <tr style=\"text-align: right;\">\n",
       "      <th></th>\n",
       "      <th>total_images</th>\n",
       "      <th>last_price</th>\n",
       "      <th>total_area</th>\n",
       "      <th>first_day_exposition</th>\n",
       "      <th>rooms</th>\n",
       "      <th>ceiling_height</th>\n",
       "      <th>floors_total</th>\n",
       "      <th>living_area</th>\n",
       "      <th>floor</th>\n",
       "      <th>is_apartment</th>\n",
       "      <th>...</th>\n",
       "      <th>locality_name</th>\n",
       "      <th>airports_nearest</th>\n",
       "      <th>cityCenters_nearest</th>\n",
       "      <th>parks_around3000</th>\n",
       "      <th>parks_nearest</th>\n",
       "      <th>ponds_around3000</th>\n",
       "      <th>ponds_nearest</th>\n",
       "      <th>days_exposition</th>\n",
       "      <th>living_area_group</th>\n",
       "      <th>square_meter_price</th>\n",
       "    </tr>\n",
       "  </thead>\n",
       "  <tbody>\n",
       "    <tr>\n",
       "      <td>0</td>\n",
       "      <td>20</td>\n",
       "      <td>13000</td>\n",
       "      <td>108.0</td>\n",
       "      <td>2019-03-07</td>\n",
       "      <td>3</td>\n",
       "      <td>2.700</td>\n",
       "      <td>16</td>\n",
       "      <td>51.0</td>\n",
       "      <td>8</td>\n",
       "      <td>False</td>\n",
       "      <td>...</td>\n",
       "      <td>Санкт-Петербург</td>\n",
       "      <td>18863</td>\n",
       "      <td>16028</td>\n",
       "      <td>1</td>\n",
       "      <td>482</td>\n",
       "      <td>2</td>\n",
       "      <td>755</td>\n",
       "      <td>-1</td>\n",
       "      <td>60</td>\n",
       "      <td>120</td>\n",
       "    </tr>\n",
       "    <tr>\n",
       "      <td>1</td>\n",
       "      <td>7</td>\n",
       "      <td>3350</td>\n",
       "      <td>40.4</td>\n",
       "      <td>2018-12-04</td>\n",
       "      <td>1</td>\n",
       "      <td>2.770</td>\n",
       "      <td>11</td>\n",
       "      <td>18.6</td>\n",
       "      <td>1</td>\n",
       "      <td>False</td>\n",
       "      <td>...</td>\n",
       "      <td>посёлок Шушары</td>\n",
       "      <td>12817</td>\n",
       "      <td>18603</td>\n",
       "      <td>0</td>\n",
       "      <td>-1</td>\n",
       "      <td>0</td>\n",
       "      <td>-1</td>\n",
       "      <td>81</td>\n",
       "      <td>20</td>\n",
       "      <td>83</td>\n",
       "    </tr>\n",
       "    <tr>\n",
       "      <td>2</td>\n",
       "      <td>10</td>\n",
       "      <td>5196</td>\n",
       "      <td>56.0</td>\n",
       "      <td>2015-08-20</td>\n",
       "      <td>2</td>\n",
       "      <td>2.600</td>\n",
       "      <td>5</td>\n",
       "      <td>34.3</td>\n",
       "      <td>4</td>\n",
       "      <td>False</td>\n",
       "      <td>...</td>\n",
       "      <td>Санкт-Петербург</td>\n",
       "      <td>21741</td>\n",
       "      <td>13933</td>\n",
       "      <td>1</td>\n",
       "      <td>90</td>\n",
       "      <td>2</td>\n",
       "      <td>574</td>\n",
       "      <td>558</td>\n",
       "      <td>40</td>\n",
       "      <td>93</td>\n",
       "    </tr>\n",
       "    <tr>\n",
       "      <td>3</td>\n",
       "      <td>2</td>\n",
       "      <td>10000</td>\n",
       "      <td>100.0</td>\n",
       "      <td>2018-06-19</td>\n",
       "      <td>2</td>\n",
       "      <td>3.030</td>\n",
       "      <td>14</td>\n",
       "      <td>32.0</td>\n",
       "      <td>13</td>\n",
       "      <td>False</td>\n",
       "      <td>...</td>\n",
       "      <td>Санкт-Петербург</td>\n",
       "      <td>31856</td>\n",
       "      <td>8098</td>\n",
       "      <td>2</td>\n",
       "      <td>112</td>\n",
       "      <td>1</td>\n",
       "      <td>48</td>\n",
       "      <td>121</td>\n",
       "      <td>40</td>\n",
       "      <td>100</td>\n",
       "    </tr>\n",
       "    <tr>\n",
       "      <td>4</td>\n",
       "      <td>10</td>\n",
       "      <td>2890</td>\n",
       "      <td>30.4</td>\n",
       "      <td>2018-09-10</td>\n",
       "      <td>1</td>\n",
       "      <td>2.625</td>\n",
       "      <td>12</td>\n",
       "      <td>14.4</td>\n",
       "      <td>5</td>\n",
       "      <td>False</td>\n",
       "      <td>...</td>\n",
       "      <td>городской посёлок Янино-1</td>\n",
       "      <td>-1</td>\n",
       "      <td>-1</td>\n",
       "      <td>-1</td>\n",
       "      <td>-1</td>\n",
       "      <td>-1</td>\n",
       "      <td>-1</td>\n",
       "      <td>55</td>\n",
       "      <td>20</td>\n",
       "      <td>95</td>\n",
       "    </tr>\n",
       "  </tbody>\n",
       "</table>\n",
       "<p>5 rows × 24 columns</p>\n",
       "</div>"
      ],
      "text/plain": [
       "   total_images  last_price  total_area first_day_exposition  rooms  \\\n",
       "0            20       13000       108.0           2019-03-07      3   \n",
       "1             7        3350        40.4           2018-12-04      1   \n",
       "2            10        5196        56.0           2015-08-20      2   \n",
       "3             2       10000       100.0           2018-06-19      2   \n",
       "4            10        2890        30.4           2018-09-10      1   \n",
       "\n",
       "   ceiling_height  floors_total  living_area  floor  is_apartment  ...  \\\n",
       "0           2.700            16         51.0      8         False  ...   \n",
       "1           2.770            11         18.6      1         False  ...   \n",
       "2           2.600             5         34.3      4         False  ...   \n",
       "3           3.030            14         32.0     13         False  ...   \n",
       "4           2.625            12         14.4      5         False  ...   \n",
       "\n",
       "               locality_name  airports_nearest  cityCenters_nearest  \\\n",
       "0            Санкт-Петербург             18863                16028   \n",
       "1             посёлок Шушары             12817                18603   \n",
       "2            Санкт-Петербург             21741                13933   \n",
       "3            Санкт-Петербург             31856                 8098   \n",
       "4  городской посёлок Янино-1                -1                   -1   \n",
       "\n",
       "   parks_around3000 parks_nearest  ponds_around3000  ponds_nearest  \\\n",
       "0                 1           482                 2            755   \n",
       "1                 0            -1                 0             -1   \n",
       "2                 1            90                 2            574   \n",
       "3                 2           112                 1             48   \n",
       "4                -1            -1                -1             -1   \n",
       "\n",
       "   days_exposition  living_area_group  square_meter_price  \n",
       "0               -1                 60                 120  \n",
       "1               81                 20                  83  \n",
       "2              558                 40                  93  \n",
       "3              121                 40                 100  \n",
       "4               55                 20                  95  \n",
       "\n",
       "[5 rows x 24 columns]"
      ]
     },
     "execution_count": 70,
     "metadata": {},
     "output_type": "execute_result"
    }
   ],
   "source": [
    "def square_meter_price(row):\n",
    "    \"\"\"\n",
    "    Функция для строки\n",
    "    Принимает на вход строку исследуемого датасета БЕЗ ПРОПУСКОВ в колонках \"last_price\" и \"total_area\". \n",
    "    \n",
    "    row: строка исследуемого датасета\n",
    "    return: округленное до целого значение цены квадратного метра в тысячах рублей\n",
    "    \"\"\"\n",
    "    return round(row['last_price'] / row['total_area'])\n",
    "\n",
    "\n",
    "df_clean['square_meter_price'] = df_clean.apply(square_meter_price, axis=1).astype('int')\n",
    "df_clean.head()"
   ]
  },
  {
   "cell_type": "markdown",
   "metadata": {},
   "source": [
    "### Определение дня недели, месяца и года публикации"
   ]
  },
  {
   "cell_type": "markdown",
   "metadata": {},
   "source": [
    "Помимо определения номеров дня недели и месяца, в датасет также добавляется колонка с названиями дней и месяцев для удобства чтения"
   ]
  },
  {
   "cell_type": "code",
   "execution_count": 71,
   "metadata": {},
   "outputs": [],
   "source": [
    "df_clean['year'] = df_clean['first_day_exposition'].dt.year\n",
    "df_clean['month'] = df_clean['first_day_exposition'].dt.month\n",
    "df_clean['month_name'] = df_clean['first_day_exposition'].dt.month_name\n",
    "df_clean['day_of_the_week'] = df_clean['first_day_exposition'].dt.weekday\n",
    "df_clean['day_of_the_week_name'] = df_clean['first_day_exposition'].dt.day_name"
   ]
  },
  {
   "cell_type": "markdown",
   "metadata": {},
   "source": [
    "### Определение типа этажа"
   ]
  },
  {
   "cell_type": "markdown",
   "metadata": {},
   "source": [
    "Выделены три типа этажей: \"первый\", \"последний\", \"другой\".  \n",
    "Непосредственно исследоваться в дальнейшем будут значения \"первый\" и \"последний\""
   ]
  },
  {
   "cell_type": "code",
   "execution_count": 72,
   "metadata": {},
   "outputs": [],
   "source": [
    "df_clean.loc[df_clean.loc[:, 'floor'] == 1, 'floor_type'] = 'первый'\n",
    "df_clean.loc[df_clean.loc[:, 'floor'] == df_clean.loc[:, 'floors_total'], 'floor_type'] = 'последний'\n",
    "df_clean.loc[(df_clean.loc[:, 'floor'] != df_clean.loc[:, 'floors_total'])\n",
    "           & (df_clean.loc[:, 'floor'] != 1), 'floor_type'] = 'другой'"
   ]
  },
  {
   "cell_type": "markdown",
   "metadata": {},
   "source": [
    "### Определение отношений площадей"
   ]
  },
  {
   "cell_type": "markdown",
   "metadata": {},
   "source": [
    "Расчитываются отношения жилой площади к общей, площади кухни к общей площади.  \n",
    "Отношения будут занесены в таблицу с точностью до третьего знака после запятой"
   ]
  },
  {
   "cell_type": "code",
   "execution_count": 73,
   "metadata": {},
   "outputs": [
    {
     "data": {
      "text/html": [
       "<div>\n",
       "<style scoped>\n",
       "    .dataframe tbody tr th:only-of-type {\n",
       "        vertical-align: middle;\n",
       "    }\n",
       "\n",
       "    .dataframe tbody tr th {\n",
       "        vertical-align: top;\n",
       "    }\n",
       "\n",
       "    .dataframe thead th {\n",
       "        text-align: right;\n",
       "    }\n",
       "</style>\n",
       "<table border=\"1\" class=\"dataframe\">\n",
       "  <thead>\n",
       "    <tr style=\"text-align: right;\">\n",
       "      <th></th>\n",
       "      <th>total_images</th>\n",
       "      <th>last_price</th>\n",
       "      <th>total_area</th>\n",
       "      <th>first_day_exposition</th>\n",
       "      <th>rooms</th>\n",
       "      <th>ceiling_height</th>\n",
       "      <th>floors_total</th>\n",
       "      <th>living_area</th>\n",
       "      <th>floor</th>\n",
       "      <th>is_apartment</th>\n",
       "      <th>...</th>\n",
       "      <th>living_area_group</th>\n",
       "      <th>square_meter_price</th>\n",
       "      <th>year</th>\n",
       "      <th>month</th>\n",
       "      <th>month_name</th>\n",
       "      <th>day_of_the_week</th>\n",
       "      <th>day_of_the_week_name</th>\n",
       "      <th>floor_type</th>\n",
       "      <th>living/total ratio</th>\n",
       "      <th>kitchen/total ratio</th>\n",
       "    </tr>\n",
       "  </thead>\n",
       "  <tbody>\n",
       "    <tr>\n",
       "      <td>0</td>\n",
       "      <td>20</td>\n",
       "      <td>13000</td>\n",
       "      <td>108.0</td>\n",
       "      <td>2019-03-07</td>\n",
       "      <td>3</td>\n",
       "      <td>2.700</td>\n",
       "      <td>16</td>\n",
       "      <td>51.0</td>\n",
       "      <td>8</td>\n",
       "      <td>False</td>\n",
       "      <td>...</td>\n",
       "      <td>60</td>\n",
       "      <td>120</td>\n",
       "      <td>2019</td>\n",
       "      <td>3</td>\n",
       "      <td>&lt;bound method PandasDelegate._add_delegate_acc...</td>\n",
       "      <td>3</td>\n",
       "      <td>&lt;bound method PandasDelegate._add_delegate_acc...</td>\n",
       "      <td>другой</td>\n",
       "      <td>0.472</td>\n",
       "      <td>0.231</td>\n",
       "    </tr>\n",
       "    <tr>\n",
       "      <td>1</td>\n",
       "      <td>7</td>\n",
       "      <td>3350</td>\n",
       "      <td>40.4</td>\n",
       "      <td>2018-12-04</td>\n",
       "      <td>1</td>\n",
       "      <td>2.770</td>\n",
       "      <td>11</td>\n",
       "      <td>18.6</td>\n",
       "      <td>1</td>\n",
       "      <td>False</td>\n",
       "      <td>...</td>\n",
       "      <td>20</td>\n",
       "      <td>83</td>\n",
       "      <td>2018</td>\n",
       "      <td>12</td>\n",
       "      <td>&lt;bound method PandasDelegate._add_delegate_acc...</td>\n",
       "      <td>1</td>\n",
       "      <td>&lt;bound method PandasDelegate._add_delegate_acc...</td>\n",
       "      <td>первый</td>\n",
       "      <td>0.460</td>\n",
       "      <td>0.272</td>\n",
       "    </tr>\n",
       "    <tr>\n",
       "      <td>2</td>\n",
       "      <td>10</td>\n",
       "      <td>5196</td>\n",
       "      <td>56.0</td>\n",
       "      <td>2015-08-20</td>\n",
       "      <td>2</td>\n",
       "      <td>2.600</td>\n",
       "      <td>5</td>\n",
       "      <td>34.3</td>\n",
       "      <td>4</td>\n",
       "      <td>False</td>\n",
       "      <td>...</td>\n",
       "      <td>40</td>\n",
       "      <td>93</td>\n",
       "      <td>2015</td>\n",
       "      <td>8</td>\n",
       "      <td>&lt;bound method PandasDelegate._add_delegate_acc...</td>\n",
       "      <td>3</td>\n",
       "      <td>&lt;bound method PandasDelegate._add_delegate_acc...</td>\n",
       "      <td>другой</td>\n",
       "      <td>0.612</td>\n",
       "      <td>0.148</td>\n",
       "    </tr>\n",
       "    <tr>\n",
       "      <td>3</td>\n",
       "      <td>2</td>\n",
       "      <td>10000</td>\n",
       "      <td>100.0</td>\n",
       "      <td>2018-06-19</td>\n",
       "      <td>2</td>\n",
       "      <td>3.030</td>\n",
       "      <td>14</td>\n",
       "      <td>32.0</td>\n",
       "      <td>13</td>\n",
       "      <td>False</td>\n",
       "      <td>...</td>\n",
       "      <td>40</td>\n",
       "      <td>100</td>\n",
       "      <td>2018</td>\n",
       "      <td>6</td>\n",
       "      <td>&lt;bound method PandasDelegate._add_delegate_acc...</td>\n",
       "      <td>1</td>\n",
       "      <td>&lt;bound method PandasDelegate._add_delegate_acc...</td>\n",
       "      <td>другой</td>\n",
       "      <td>0.320</td>\n",
       "      <td>0.410</td>\n",
       "    </tr>\n",
       "    <tr>\n",
       "      <td>4</td>\n",
       "      <td>10</td>\n",
       "      <td>2890</td>\n",
       "      <td>30.4</td>\n",
       "      <td>2018-09-10</td>\n",
       "      <td>1</td>\n",
       "      <td>2.625</td>\n",
       "      <td>12</td>\n",
       "      <td>14.4</td>\n",
       "      <td>5</td>\n",
       "      <td>False</td>\n",
       "      <td>...</td>\n",
       "      <td>20</td>\n",
       "      <td>95</td>\n",
       "      <td>2018</td>\n",
       "      <td>9</td>\n",
       "      <td>&lt;bound method PandasDelegate._add_delegate_acc...</td>\n",
       "      <td>0</td>\n",
       "      <td>&lt;bound method PandasDelegate._add_delegate_acc...</td>\n",
       "      <td>другой</td>\n",
       "      <td>0.474</td>\n",
       "      <td>0.299</td>\n",
       "    </tr>\n",
       "  </tbody>\n",
       "</table>\n",
       "<p>5 rows × 32 columns</p>\n",
       "</div>"
      ],
      "text/plain": [
       "   total_images  last_price  total_area first_day_exposition  rooms  \\\n",
       "0            20       13000       108.0           2019-03-07      3   \n",
       "1             7        3350        40.4           2018-12-04      1   \n",
       "2            10        5196        56.0           2015-08-20      2   \n",
       "3             2       10000       100.0           2018-06-19      2   \n",
       "4            10        2890        30.4           2018-09-10      1   \n",
       "\n",
       "   ceiling_height  floors_total  living_area  floor  is_apartment  ...  \\\n",
       "0           2.700            16         51.0      8         False  ...   \n",
       "1           2.770            11         18.6      1         False  ...   \n",
       "2           2.600             5         34.3      4         False  ...   \n",
       "3           3.030            14         32.0     13         False  ...   \n",
       "4           2.625            12         14.4      5         False  ...   \n",
       "\n",
       "   living_area_group  square_meter_price  year  month  \\\n",
       "0                 60                 120  2019      3   \n",
       "1                 20                  83  2018     12   \n",
       "2                 40                  93  2015      8   \n",
       "3                 40                 100  2018      6   \n",
       "4                 20                  95  2018      9   \n",
       "\n",
       "                                          month_name  day_of_the_week  \\\n",
       "0  <bound method PandasDelegate._add_delegate_acc...                3   \n",
       "1  <bound method PandasDelegate._add_delegate_acc...                1   \n",
       "2  <bound method PandasDelegate._add_delegate_acc...                3   \n",
       "3  <bound method PandasDelegate._add_delegate_acc...                1   \n",
       "4  <bound method PandasDelegate._add_delegate_acc...                0   \n",
       "\n",
       "                                day_of_the_week_name  floor_type  \\\n",
       "0  <bound method PandasDelegate._add_delegate_acc...      другой   \n",
       "1  <bound method PandasDelegate._add_delegate_acc...      первый   \n",
       "2  <bound method PandasDelegate._add_delegate_acc...      другой   \n",
       "3  <bound method PandasDelegate._add_delegate_acc...      другой   \n",
       "4  <bound method PandasDelegate._add_delegate_acc...      другой   \n",
       "\n",
       "   living/total ratio  kitchen/total ratio  \n",
       "0               0.472                0.231  \n",
       "1               0.460                0.272  \n",
       "2               0.612                0.148  \n",
       "3               0.320                0.410  \n",
       "4               0.474                0.299  \n",
       "\n",
       "[5 rows x 32 columns]"
      ]
     },
     "execution_count": 73,
     "metadata": {},
     "output_type": "execute_result"
    }
   ],
   "source": [
    "df_clean['living/total ratio'] = round(df_clean['living_area'] / df_clean['total_area'], 3)\n",
    "df_clean['kitchen/total ratio'] = round(df_clean['kitchen_area'] / df_clean['total_area'], 3)\n",
    "df_clean.head()"
   ]
  },
  {
   "cell_type": "markdown",
   "metadata": {},
   "source": [
    "## Шаг 4. Проведите исследовательский анализ данных и выполните инструкции"
   ]
  },
  {
   "cell_type": "markdown",
   "metadata": {},
   "source": [
    "Необходимо исследовать распределение данных об общей площади, цене, количеству комнат и высоте потолков, указанных датасете.\n",
    "  \n",
    "\n",
    "Выделим исследуемые колонки в отдельные переменные."
   ]
  },
  {
   "cell_type": "code",
   "execution_count": 74,
   "metadata": {},
   "outputs": [],
   "source": [
    "area = df_clean['total_area']\n",
    "last_price = df_clean['last_price']\n",
    "rooms = df_clean['rooms']\n",
    "ceiling_height = df_clean['ceiling_height']"
   ]
  },
  {
   "cell_type": "code",
   "execution_count": 75,
   "metadata": {},
   "outputs": [
    {
     "data": {
      "image/png": "[encoded data removed]",
      "text/plain": [
       "<Figure size 1080x288 with 1 Axes>"
      ]
     },
     "metadata": {
      "needs_background": "light"
     },
     "output_type": "display_data"
    }
   ],
   "source": [
    "area.plot(kind='hist', range=(0, 150),\n",
    "          bins=50, figsize=(15, 4), grid=True,\n",
    "          title='Распределение площадей менее 200 кв. м. \\n Число корзин: 100.\\n Шаг: 3 м.')\n",
    "plt.show()"
   ]
  },
  {
   "cell_type": "markdown",
   "metadata": {},
   "source": [
    "Распределение выглядят закономерно:  \n",
    "1. Абсолютное большинство недвижимости имеет общую площадь от 30 до 75 кв. м.\n",
    "2. Количество объявлений с площадью свыше 80 кв. м. монотонно убывает на всей протяженности \"хвоста\" распределения"
   ]
  },
  {
   "cell_type": "markdown",
   "metadata": {},
   "source": [
    "Построим распределения цены, указанной в объявлениях"
   ]
  },
  {
   "cell_type": "code",
   "execution_count": 76,
   "metadata": {},
   "outputs": [
    {
     "data": {
      "image/png": "[encoded data removed]",
      "text/plain": [
       "<Figure size 1080x288 with 1 Axes>"
      ]
     },
     "metadata": {
      "needs_background": "light"
     },
     "output_type": "display_data"
    }
   ],
   "source": [
    "last_price.plot(kind='hist', \n",
    "                bins=14, figsize=(15, 4), grid=True,\n",
    "                title='Распределение назначеных цен. \\n Число корзин: 14. \\n Шаг: 1 млн. руб.')\n",
    "plt.show()"
   ]
  },
  {
   "cell_type": "markdown",
   "metadata": {},
   "source": [
    "Из полученных распределений следует: \n",
    "1. Абсолютное большинство объявлений \"продают\" квартиры стоимостью от 2 до 6 млн. руб.\n",
    "2. На всей протяженности графика, начиная с пика частоты на 4 млн. руб, количество объявлений монотонно убывают с ростом \"стоимости\" объявлений. \n",
    "3. При выбранном количестве корзин распределение принимает классическую форму распределения Пуассона"
   ]
  },
  {
   "cell_type": "markdown",
   "metadata": {},
   "source": [
    "Построим распределение числа комнат по частоте встречаемости"
   ]
  },
  {
   "cell_type": "code",
   "execution_count": 77,
   "metadata": {
    "scrolled": true
   },
   "outputs": [
    {
     "data": {
      "image/png": "[encoded data removed]",
      "text/plain": [
       "<Figure size 1080x288 with 1 Axes>"
      ]
     },
     "metadata": {
      "needs_background": "light"
     },
     "output_type": "display_data"
    }
   ],
   "source": [
    "rooms.plot(kind='hist', range=(0, max(rooms)), \n",
    "          bins=6, figsize=(15, 4), grid=True, \n",
    "          title='Распределение числа комнат. \\n Число корзин: 6. \\n Шаг: 1 комната')\n",
    "plt.show()"
   ]
  },
  {
   "cell_type": "markdown",
   "metadata": {},
   "source": [
    "Из полученной гистограммы следует: \n",
    "1. Чаще всего встречаются квартиры с числом комнат от 1 до 4\n",
    "2. Реже всего - квартиры студии\n",
    "3. Промежуточное положение занимает недвижимость с числом комнат от 5 до 6"
   ]
  },
  {
   "cell_type": "markdown",
   "metadata": {},
   "source": [
    "Построим распределение объявлений по высоте потолков."
   ]
  },
  {
   "cell_type": "code",
   "execution_count": 78,
   "metadata": {},
   "outputs": [
    {
     "data": {
      "image/png": "[encoded data removed]",
      "text/plain": [
       "<Figure size 1080x288 with 1 Axes>"
      ]
     },
     "metadata": {
      "needs_background": "light"
     },
     "output_type": "display_data"
    }
   ],
   "source": [
    "ceiling_height.plot(kind='hist', range=(2.5, 4),\n",
    "                   bins = 15, figsize=(15, 4), grid=True, \n",
    "                   title='Распределение данных по высоте потолков. \\n Число корзин: 20. \\n Шаг: 10 см.')\n",
    "plt.show()"
   ]
  },
  {
   "cell_type": "markdown",
   "metadata": {},
   "source": [
    "Согласно полученному распределению, наиболее часто встречаемый случай высоты потолков - 2.5 - 2.8 метров.  \n",
    "Интересно наличие резкого спада частоты после отметки в 2.8 метра. "
   ]
  },
  {
   "cell_type": "markdown",
   "metadata": {},
   "source": [
    "#### Зависимость цены за квадрат от жилой площади и площади кухни"
   ]
  },
  {
   "cell_type": "code",
   "execution_count": 79,
   "metadata": {},
   "outputs": [
    {
     "data": {
      "image/png": "[encoded data removed]",
      "text/plain": [
       "<Figure size 1080x576 with 1 Axes>"
      ]
     },
     "metadata": {
      "needs_background": "light"
     },
     "output_type": "display_data"
    }
   ],
   "source": [
    "(df_clean.pivot_table(index='living_area_group', values='square_meter_price', aggfunc='mean')\n",
    "         .sort_values(by='living_area_group', ascending=True)\n",
    "         .plot(figsize=(15, 8), grid=True))\n",
    "plt.show()"
   ]
  },
  {
   "cell_type": "markdown",
   "metadata": {},
   "source": [
    "В представленном наборе данных между величинами жилой площади и ценой квадратного метра отсутствует какая-либо конкретная взаимосвязь: с ростом жилой площади средняя цена квадратного метра меняется скачкообразно.  \n",
    "Примечательно лишь, что варианты с жилой площадью 50-60 кв.м. по стоимости квадратного метра значительно превышают варианты с жилой площадью 100-110 кв.м. Помимо этого, при увеличении площади до отметки в 110-120 кв.м. цена квадратного метра вновь взлетает. "
   ]
  },
  {
   "cell_type": "markdown",
   "metadata": {},
   "source": [
    "Перед построением аналогичного графика для площади кухни и цены квадратного метра, разобъем данные по группам площади кухни.  \n",
    "Изучим распределение данных по площадям кухни:"
   ]
  },
  {
   "cell_type": "code",
   "execution_count": 80,
   "metadata": {},
   "outputs": [
    {
     "data": {
      "image/png": "[encoded data removed]",
      "text/plain": [
       "<Figure size 432x288 with 1 Axes>"
      ]
     },
     "metadata": {
      "needs_background": "light"
     },
     "output_type": "display_data"
    }
   ],
   "source": [
    "df_clean.boxplot('kitchen_area')\n",
    "plt.show()"
   ]
  },
  {
   "cell_type": "markdown",
   "metadata": {},
   "source": [
    "Разделим данные на 6 групп: 0-4, 5-8, 9-12, 13-16, 17-20, более 20 кв.м."
   ]
  },
  {
   "cell_type": "code",
   "execution_count": null,
   "metadata": {},
   "outputs": [],
   "source": [
    "def kitchen_area_group(row):\n",
    "    lst = [4, 8, 12, 16, 20, 60]\n",
    "    for element in lst:\n",
    "        if row['kitchen_area'] < element:\n",
    "            return element\n",
    "        else:\n",
    "            pass\n",
    "    \n",
    "    \n",
    "df_clean['kitchen_area_group'] = df_clean.apply(kitchen_area_group, axis=1)\n",
    "(df_clean.pivot_table(index='kitchen_area_group', values='square_meter_price', aggfunc='mean')\n",
    "         .sort_values(by='kitchen_area_group')\n",
    "         .plot(figsize=(15, 8), grid=True, title='Зависимость цены квадратного метра от площади кухни.\\n В точке х=60 - все значения свыше 20 кв.м.'))\n",
    "plt.show()"
   ]
  },
  {
   "cell_type": "markdown",
   "metadata": {},
   "source": [
    "В зависимости цены квадратного метра от площади кухни присутствует заметная закономерность: начиная со значения площади кухни в 5-8 кв.м. цена кватратного метра монотонно возрастает."
   ]
  },
  {
   "cell_type": "markdown",
   "metadata": {},
   "source": [
    "#### Вывод\n",
    "Согласно полученным распределеням можно сделать выводы о наиболее типичном наборе параметров недвижимости для данной выброки: \n",
    "1. Число комнат от 1 до 3\n",
    "1. Площадь от 30 до 75 кв. м.\n",
    "2. Высота потолков от 2.5 до 2.8 метров\n",
    "3. Стоимость от 2 до 6 млн. руб."
   ]
  },
  {
   "cell_type": "markdown",
   "metadata": {},
   "source": [
    "### Время продажи квартиры"
   ]
  },
  {
   "cell_type": "markdown",
   "metadata": {},
   "source": [
    "На этапе обогащения данных пропуски в колонке _days_exposition_ были заполнены значениями -1. На этапе анализа работа будет вестись со срезом:"
   ]
  },
  {
   "cell_type": "markdown",
   "metadata": {},
   "source": [
    "Будет введена колонка _months_exposition_, отражающая время продажи в месяцах для больше наглядности:"
   ]
  },
  {
   "cell_type": "code",
   "execution_count": null,
   "metadata": {},
   "outputs": [],
   "source": [
    "df_clean_time['months_exposition'] = df_clean_time['days_exposition'] / 30\n",
    "df_clean_time['days_exposition'].plot(kind='hist', figsize=(15, 4), \n",
    "                                      grid=True, bins=16,\n",
    "                                      title='Распределение продолжидельности продажи в днях. \\n Количество корзин: 16 \\n Шаг: 100 дней')\n",
    "plt.show()"
   ]
  },
  {
   "cell_type": "code",
   "execution_count": null,
   "metadata": {},
   "outputs": [],
   "source": [
    "df_clean_time['months_exposition'].plot(kind='hist', figsize=(15, 4), \n",
    "                                 grid=True, bins=20,\n",
    "                                 title='Распределение продолжидельности продажи в месяцах. \\n Количество корзин: 53 \\n Шаг: 1 месяц')\n",
    "plt.show()"
   ]
  },
  {
   "cell_type": "markdown",
   "metadata": {},
   "source": [
    "Полученные распределения явно совпадают с распределением Пуассона.  \n",
    "Изучим подробнее влияние назначенной цены на время продажи.  \n",
    "Построим график взаимного распределения величин _last_price_ и _months_exposition_"
   ]
  },
  {
   "cell_type": "code",
   "execution_count": null,
   "metadata": {},
   "outputs": [],
   "source": [
    "df_clean_time.plot(kind='scatter', y='last_price', x='months_exposition', \n",
    "                   figsize=(15, 15), grid=True, alpha=0.07)\n",
    "plt.show()"
   ]
  },
  {
   "cell_type": "markdown",
   "metadata": {},
   "source": [
    "На промежутке от 1 до 5 месяцев заметны \"сгустки данных\", изучим эту область подробнее. "
   ]
  },
  {
   "cell_type": "code",
   "execution_count": null,
   "metadata": {},
   "outputs": [],
   "source": [
    "df_clean_time.plot(kind='scatter', y='last_price', x='days_exposition', \n",
    "                   figsize=(15, 6), grid=True, alpha=0.07, xlim=(40,100), ylim=(0, 30000))\n",
    "plt.show()"
   ]
  },
  {
   "cell_type": "markdown",
   "metadata": {},
   "source": [
    "Действительно, существуют явные скопления объявлений, закрытых за 45, 60 и 90 дней. Оценим их объем и сравним, насколько количество закрытых объявлений за эти дни превышает аналогичный показатель за 44, 59 и 89 дни и за 46, 61 и 91 дни: "
   ]
  },
  {
   "cell_type": "code",
   "execution_count": null,
   "metadata": {},
   "outputs": [],
   "source": [
    "a = df_clean_time.query('days_exposition in (45, 60, 90)')['total_images'].count()\n",
    "b = df_clean_time.query('days_exposition in (44, 59, 89)')['total_images'].count()\n",
    "c = df_clean_time.query('days_exposition in (46, 61, 91)')['total_images'].count()\n",
    "print(f'45/60/90 дней: {a}')\n",
    "print(f'44/59/89 дней: {b}')\n",
    "print(f'46/61/91 день: {c}')\n",
    "print('Отношение 45/60/90 к 44/59/89: {:.1f}'.format(a / b))\n",
    "print('Отношение 45/60 к 46/61/91: {:.1f}'.format(a / c))"
   ]
  },
  {
   "cell_type": "markdown",
   "metadata": {},
   "source": [
    "Наличие артефакта очевидно: за 45, 60 и 90-е дни количество закрытых объявлений превышает аналогичный показатель \"соседей снизу\" и \"сверху\" в 4.8 и 6 раз соответственно.  \n",
    "__Возникновение данного артефакта__ связаны с работой сервиса Яндекс.Недвижимость. Снятие этих объявлений не связано с какой-либо незаконной деятельностью или системными сбоями: данные будут оставлены в выборке"
   ]
  },
  {
   "cell_type": "markdown",
   "metadata": {},
   "source": [
    "После обнаружения и исключения из рассмотрения упомянутого артефакта характер взаимного распределения изменился слабо.  \n",
    "С уверенностью можно сказать, что назначенная цена не имеет ожидаемого сильного влияния на время продажи: в выборке присутствует достаточно много \"дорогих\" объявлений, которые при этом быстро продались и напротив, в большом количестве присутствуют \"дешевые\" объявления, которые при этом продавались относительно долго.   "
   ]
  },
  {
   "cell_type": "markdown",
   "metadata": {},
   "source": [
    "Исследуем, как величина в колонке _days_exposition_ коррелирует с другими величинами в таблице. "
   ]
  },
  {
   "cell_type": "code",
   "execution_count": null,
   "metadata": {},
   "outputs": [],
   "source": [
    "df_clean_time.corr()['days_exposition']"
   ]
  },
  {
   "cell_type": "markdown",
   "metadata": {},
   "source": [
    "Из полученных значений следует, что наибольшим взаимным влиянием величина _days_exposition_ связана с величиной _year_ (к-т корреляции равен -0.49.  \n",
    "Значит с каждым годом объявления проводят на площадке все меньше времени.  \n",
    "Оценим медианные значения продолжительности продажи для каждого года. "
   ]
  },
  {
   "cell_type": "code",
   "execution_count": null,
   "metadata": {},
   "outputs": [],
   "source": [
    "(df_clean_time.pivot_table(index='year', values=['months_exposition'], \n",
    "                           aggfunc=['median', 'count'])\n",
    "              .rename(columns={'count': 'data_amount'}))"
   ]
  },
  {
   "cell_type": "markdown",
   "metadata": {},
   "source": [
    "Время продажи с годами значительно менялось, причем на протяжении первых четырех лет наблюдений резкими скачками (19 месяцев против 14 для 2014-2015 годов; и 14 месяцев против 6 для 2015-2016 годов. "
   ]
  },
  {
   "cell_type": "markdown",
   "metadata": {},
   "source": [
    "Вероятнее всего, с каждым годом площадка становится все популярнее, следовательно, квартиры раскупают гораздо быстрее. Также, это может быть связано с внутрироссийским кризисом 2014 года, когда курс рубля резко упал, а вслед за ним и покупательная способность населения.  \n",
    "__Вывод__: анализ следует делать отдельно для каждого года."
   ]
  },
  {
   "cell_type": "markdown",
   "metadata": {},
   "source": [
    "#### \"Слишком долгая\" продажа"
   ]
  },
  {
   "cell_type": "code",
   "execution_count": null,
   "metadata": {
    "scrolled": false
   },
   "outputs": [],
   "source": [
    "border = [500, 500, 500, 500, 300, 60]\n",
    "i = 0\n",
    "for year, group_data in df_clean_time.groupby('year'):\n",
    "    str_year = str(year)\n",
    "    data_amount = str(len(group_data))\n",
    "    str_bins = str(int(1 + group_data['days_exposition'].max() - group_data['days_exposition'].min()))\n",
    "    bins = int((group_data['days_exposition'].max() - group_data['days_exposition'].min())/30)\n",
    "    str_step = str(round((group_data['days_exposition'].max() - group_data['days_exposition'].min()) / bins))\n",
    "    if bins < 10: \n",
    "        bins = 10\n",
    "        str_bins = str(bins)\n",
    "    title = ('Распределение продолжительности продаж квартир за ' \n",
    "             + str_year + ' год. \\n Объем выборки: ' \n",
    "             + data_amount + ' объявлений(-я)\\n Количество корзин: ' + str_bins + ' \\n Шаг: ' + str_step \n",
    "             + ' дней. \\n Черный - медиана'\n",
    "             + '\\n Оранжевый - среднее \\n Красный - граница \"слишком долгих\" продаж \\n')\n",
    "    group_data.plot(kind='hist', y='days_exposition', title=title,\n",
    "                    figsize=(15, 4), grid=True, bins=bins)\n",
    "    plt.axvline(group_data['days_exposition'].median(), c='black')\n",
    "    plt.axvline(group_data['days_exposition'].mean(), c='orange')\n",
    "    plt.axvline(border[i], c='red')\n",
    "    plt.show()\n",
    "    i += 1"
   ]
  },
  {
   "cell_type": "markdown",
   "metadata": {},
   "source": [
    "При погодовом анализе стали очевидны следующие закономерности: \n",
    "1. С каждым годом функционирования площадка продает все быстрее (медиана на гистограммах смещается влево)\n",
    "2. Чем более \"свежие\" данные мы рассматриваем, тем ближе вид распределения к распределению Пуассона\n",
    "3. Данные за 2014 год явно не пригодны для анализа скорости продаж: имеем всего 22 объявления\n",
    "3. Для оставшихся лет примем индивидуальные границы \"слишком медленных продаж\" по следующему принципу: \n",
    "  1. Граница лежит правее медианы\n",
    "  2. Граница лежит правее среднего\n",
    "  3. Праве границы на гистаграмме нет корзин, наполненных больше любой корзины левее границы\n",
    "4. Полученные границы:\n",
    "  1. 2015 год: 500 дней\n",
    "  2. 2016 год: 500 дней\n",
    "  3. 2017 год: 500 дней\n",
    "  4. 2018 год: 300 дней\n",
    "  5. 2019 год: 60 дней\n",
    "5. Оценим процент \"слишком долгих\" продаж для каждого года: "
   ]
  },
  {
   "cell_type": "code",
   "execution_count": null,
   "metadata": {},
   "outputs": [],
   "source": [
    "slow_border = [500, 500, 500, 500, 300, 60]\n",
    "year = 2014\n",
    "for number in border:\n",
    "    current_cut = len(df_clean_time.query('year == @year'))\n",
    "    outlier = len(df_clean_time.query('year == @year and days_exposition > @number'))\n",
    "    outlier_percentage = outlier / current_cut\n",
    "    print('В ', year, ' году \"слишком долгие\" продажи составили: {:.1%} ('.format(outlier_percentage), outlier, ' случ.)',sep='')\n",
    "    year += 1"
   ]
  },
  {
   "cell_type": "markdown",
   "metadata": {},
   "source": [
    "#### \"Слишком быстрые\" продажи. "
   ]
  },
  {
   "cell_type": "markdown",
   "metadata": {},
   "source": [
    "\"Слишком быстрые\" продажи для каждого года будем искать либо в первых корзинах, либо в корзинах, расположеных до явного пика частоты.  \n",
    "Ниже - участки гистограмм времени продажи в днях, расположенные левее медианы для каждого года"
   ]
  },
  {
   "cell_type": "code",
   "execution_count": null,
   "metadata": {},
   "outputs": [],
   "source": [
    "fast_border = [8 * 30, 3 * 30, 29, 29 ,27]\n",
    "year = 2015\n",
    "for number in fast_border:\n",
    "    current_cut = df_clean_time.query('year == @year')\n",
    "    current_cut_min = current_cut['days_exposition'].min()\n",
    "    current_cut_max = current_cut['days_exposition'].median()\n",
    "    bins = int(current_cut_max - current_cut_min) + 1\n",
    "    (current_cut.plot(kind='hist', y='days_exposition', xlim=(current_cut_min, current_cut_max),\n",
    "                      figsize=(15, 4), grid=True, bins=100))\n",
    "    print(year)\n",
    "    plt.show()\n",
    "    year += 1"
   ]
  },
  {
   "cell_type": "markdown",
   "metadata": {},
   "source": [
    "\"Слишком быстрые\" продажи для каждого года определены по следующему алгоритму: \n",
    "1. Для каждого года данные распределены по ценовым категориям\n",
    "2. Для каждой ценовой категории определены медианные значения времени продажи\n",
    "3. \"Слишком быстрыми\" продажами признаны случаи, в которых время продажи составляет 20% от медианного (объявление было закрыто в 5 раз быстрее, чем это происходит для медианного объявления)"
   ]
  },
  {
   "cell_type": "code",
   "execution_count": null,
   "metadata": {},
   "outputs": [],
   "source": [
    "def price_group_median(df):\n",
    "    \"\"\"\n",
    "    Функция маркирует срез \"слишком быстрых\" продаж. \n",
    "    Принимает на вход датасет, прошедший предобработку, присваивает каждому объявлению группу стоимости, \n",
    "    группирует данные по году публикации и группе стоимости, вычисляет для каждой группы медианное значение. \n",
    "    После этого в датасет добавляется булев массив, в котором значение True соответствует объявлениям, \n",
    "    закрытым в 5 раз быстрее медианного.\n",
    "    \n",
    "    df: исследуемый датасет\n",
    "    df_grouped: результат группировки исследуемого датасета по году публикации и ценовой категории\n",
    "    return: исследуемый датасет с добавлением булева массива, помечающего \"слишком быстрые\" продажи\n",
    "    \"\"\"\n",
    "    \n",
    "    def price_group(row):\n",
    "        \"\"\"\n",
    "        Функция для строки датасета, определяющая принадлежность строки к одной из 5 ценовых категорий \n",
    "        (меньше 5 млн, 5-10 млн, 10-15 млн, 15-20 млн, свыше 20 млн.)\n",
    "        \n",
    "        row: строка исследуемого датасета\n",
    "        return: название ценовой категории\n",
    "        \"\"\"\n",
    "        \n",
    "        if row['last_price'] < 5000:\n",
    "            return 'до 5 млн.'\n",
    "        elif row['last_price'] < 10000:\n",
    "            return 'от 5 до 10 млн.'\n",
    "        elif row['last_price'] < 15000:\n",
    "            return 'от 10 до 15 млн.'\n",
    "        elif row['last_price'] < 20000:\n",
    "            return 'от 15 до 20 млн.'\n",
    "        else: \n",
    "            return 'свыше 20 млн.'\n",
    "    \n",
    "    df['price_group'] = df.apply(price_group, axis=1)\n",
    "    df_grouped = (df.groupby(['year', 'price_group'])\n",
    "                    .agg({'days_exposition': 'median'})\n",
    "                    .rename(columns={'days_exposition': 'days_exposition_median'}))\n",
    "    df = df.merge(df_grouped, on=['year', 'price_group'], how='left')\n",
    "    df['too_fast'] = df['days_exposition'] < 0.2 * df['days_exposition_median']\n",
    "    return df\n",
    "        \n",
    "\n",
    "df_clean_time = price_group_median(df_clean_time)\n",
    "years = [2015, 2016, 2017, 2018, 2019]\n",
    "for year in years:\n",
    "    current_cut = df_clean_time.query('year == @year')\n",
    "    total_amount = len(current_cut)\n",
    "    too_fast_amount = len(current_cut.query('too_fast == True'))\n",
    "    too_fast_border = round(0.2 * current_cut['days_exposition'].median(), 1)\n",
    "    too_fast_percentage = round(100 * too_fast_amount / total_amount, 1)\n",
    "    print(year, 'год: ')\n",
    "    print(f'Объем выборки: {total_amount} объявлений(-ия)')\n",
    "    print(f'Граница \"слишком быстрых продаж\" в днях: {too_fast_border}')\n",
    "    print(f'Количество \"слишком быстрых продаж\": {too_fast_amount}')\n",
    "    print(f'Процент слишком быстрых продаж: {too_fast_percentage}%')\n",
    "    print()"
   ]
  },
  {
   "cell_type": "markdown",
   "metadata": {},
   "source": [
    "Если считать данные из срезов по каждому году абсолютно репрезентативными, можно сделать следующие выводы: \n",
    "1. 2015 год - единственный год без \"слишком быстрых\" продаж\n",
    "2. Наибольший процент \"слишком быстрых\" продаж соответствует 2017 и 2018 годам\n",
    "3. Наибольшее количество \"слишком быстрых\" продаж соответствует 2017 году\n",
    "4. Граница, отсекающая \"слишком быстрые\" продажи, с годами смещается влево"
   ]
  },
  {
   "cell_type": "markdown",
   "metadata": {},
   "source": [
    "#### Вывод\n",
    "В ходе выполнения данного пункта: \n",
    "1. __Был обнаружен артефакт__, связанный с резким увеличением числа продаж в три определенных дня \n",
    "2. Было принято решение __анализировать время продажи отдельно для каждого года__\n",
    "3. Граница \"слишком долгих\" продаж была определена индивидуально для каждого года на основании визуального анализа соответствующих гистограмм. В результате анализа __из рассмотрения__ в полном объеме __были исключены данные за 2014 год__. \n",
    "4. __Граница \"слишком быстрых\" продаж__ была определена индивидуально для каждого года. Границей была назначена величина продолжительности, __в 5 раз ниже медианного для текущего года__ (иными словами, _если квартиру продали в пять раз быстрее, чем в медианном случае, значит, это \"слишком быстрая\" продажа_)."
   ]
  },
  {
   "cell_type": "markdown",
   "metadata": {},
   "source": [
    "### Стоимость квартиры."
   ]
  },
  {
   "cell_type": "markdown",
   "metadata": {},
   "source": [
    "Исследуется зависимость цены квадратного метра от: \n",
    "1. Числа комнат\n",
    "2. Этажа (первого или последнего) \n",
    "3. Удалённости от центра.\n",
    "4. Даты размещения  \n",
    "  \n",
    "Начнем с анализа \"в лоб\": расчитаем коэффициент корреляции Пирсона на случай, если между количественными параметрами есть явная и сильная линейная зависимость.  "
   ]
  },
  {
   "cell_type": "code",
   "execution_count": null,
   "metadata": {},
   "outputs": [],
   "source": [
    "print('Коэффициент корреляции Пирсона для \"square_meter_price\" и \"rooms\":', \n",
    "      df_clean['square_meter_price'].corr(df_clean['rooms']))\n",
    "print('Коэффициент корреляции Пирсона для \"square_meter_price\" и \"cityCenters_nearest\":', \n",
    "      df_clean.query('cityCenters_nearest > 0')['square_meter_price']\n",
    "              .corr(df_clean.query('cityCenters_nearest > 0')['cityCenters_nearest']))"
   ]
  },
  {
   "cell_type": "markdown",
   "metadata": {},
   "source": [
    "Судя по полученным значениям, цена квадратного метра не связана сильной линейной зависимостью ни с количеством комнат, ни с удаленностью от центра.  "
   ]
  },
  {
   "cell_type": "markdown",
   "metadata": {},
   "source": [
    "#### Зависимость от числа комнат.  "
   ]
  },
  {
   "cell_type": "markdown",
   "metadata": {},
   "source": [
    "Проверим данные на наличие объявлений с нулевым количеством комнат и установим, сколько из них - квартиры студии"
   ]
  },
  {
   "cell_type": "code",
   "execution_count": null,
   "metadata": {},
   "outputs": [],
   "source": [
    "print('Квартир с нулевым количеством комнат:', df_clean.query('rooms == 0')['studio'].count())\n",
    "print('Из них квартир-студий:', df_clean.query('rooms == 0 and studio == True')['studio'].count())"
   ]
  },
  {
   "cell_type": "markdown",
   "metadata": {},
   "source": [
    "Присутствие категории с нулем комнат обусловлено наличием в выборке квартир-студий и квартир, в которых число комнат не было указано"
   ]
  },
  {
   "cell_type": "markdown",
   "metadata": {},
   "source": [
    "Построим графики зависимости цены квадратного метра от числа комнат и от удаленности от центра. "
   ]
  },
  {
   "cell_type": "code",
   "execution_count": null,
   "metadata": {},
   "outputs": [],
   "source": [
    "(df_clean.pivot_table(index='rooms', values='square_meter_price', aggfunc='median')\n",
    "         .plot(grid=True, figsize=(15, 4), title='Зависимость цены кв. м. от числа комнат\\n'))\n",
    "plt.show()"
   ]
  },
  {
   "cell_type": "markdown",
   "metadata": {},
   "source": [
    "Видно, что __цена квадратного метра слабо зависит от числа комнат__ (разница между максимальным и минимальным значением цены составляет примерно 12%).  \n",
    "Интересным явлением можно назвать тот факт, что __наиболее низкой относительной стоимостью отличаются трехкомнатные квартиры, а наиболее дорогими являются однокомнатные.__"
   ]
  },
  {
   "cell_type": "code",
   "execution_count": null,
   "metadata": {},
   "outputs": [],
   "source": [
    "# КОД РЕВЬЮВЕРА\n",
    "\n",
    "df_clean[['total_area', 'rooms', 'last_price']].corr()\n",
    "\n",
    "# ВИДИМ: общая цена положительно коррелирует с этими показателями"
   ]
  },
  {
   "cell_type": "markdown",
   "metadata": {},
   "source": [
    "#### Зависимость от расстояния до центра.\n",
    "Для анализа зависимости цены кв. метра от расстояния до центра: \n",
    "1. Разобъем данные по \"группам удаленности\" с шагом в 1000 метров. __Важно__: разбиение по группам происходит кольцами - расстояние до центра округляется в большую сторону. Таким образом недвижимость, удаленная от центра на 3001 метр относится к кольцу 3-4 км, а само кольцо маркируется числом 4.\n",
    "2. Для каждой группы расчитаем медианное значение\n",
    "3. Построим график исследуемой зависимости."
   ]
  },
  {
   "cell_type": "code",
   "execution_count": null,
   "metadata": {},
   "outputs": [],
   "source": [
    "def cityCenter_nearest_group(df):\n",
    "    \"\"\"\n",
    "    Функция группирует данные по группам удаленности и расчитывает для каждой группы медианное значение стоимости квадратного\n",
    "    метра. \n",
    "    \n",
    "    df: исследуемый датасет\n",
    "    df_pivot: результат группировки исследуемого датасета по удаленности от центра с медианными значениями стоимости\n",
    "              квадратного метра\n",
    "    return: df_pivot\n",
    "    \"\"\"\n",
    "    \n",
    "    df['cityCenters_nearest_group'] = np.ceil(df['cityCenters_nearest'] / 1000)\n",
    "    df_pivot = (df.pivot_table(index='cityCenters_nearest_group', values='square_meter_price', aggfunc='median')\n",
    "                  .rename(columns={'square_meter_price': 'square_meter_price_median'}))\n",
    "    return df_pivot\n",
    "\n",
    "\n",
    "df_pivot = cityCenter_nearest_group(df_clean)"
   ]
  },
  {
   "cell_type": "code",
   "execution_count": null,
   "metadata": {},
   "outputs": [],
   "source": [
    "df_pivot.plot(y='square_meter_price_median', figsize=(15, 8), grid=True, xlim=1)\n",
    "plt.show()"
   ]
  },
  {
   "cell_type": "markdown",
   "metadata": {},
   "source": [
    "При анализе изменений медианной цены квадратного метра по мере удаления от центра населенного пункта очевидна закономерность: _после 7 километров от центра цена начинает стабильно падать до достижения скачка на расстоянии в 27 километров._  \n",
    "Однако на графике присутствуют \"странные\" точки - 27 километров 43 километра.  \n",
    "Их возникновение, вертоянее всего связано с тем, что на отметке в 27 километров и после - данные из крупных городов. Эти группы населенных пунктов значительно отличаются по показателям стоимости жилья (об этом ниже), что вызывает возникновение скачков.  \n",
    "Несмотря на обнаруженый артефакт, тренд очевиден: __там, где представлены данные из разных по размеру населенных пунктов, по мере удаления от центра, цена квадратного метра уменьшается.__ "
   ]
  },
  {
   "cell_type": "code",
   "execution_count": null,
   "metadata": {},
   "outputs": [],
   "source": [
    "(df_clean.query('cityCenters_nearest_group > 26')\n",
    "         .pivot_table(index='locality_name', values='total_images',\n",
    "                      aggfunc='count')\n",
    "         .rename(columns={'total_images': 'data_amount'})\n",
    "         .sort_values(by='data_amount', ascending=False))"
   ]
  },
  {
   "cell_type": "markdown",
   "metadata": {},
   "source": [
    "Гипотеза о причине скачкообразного поведения медианной цены кв. метра оправдалась: в срезе данных с указанным расстоянием свыше 27 км. первые три строчки по количеству объявлений занимают города с населением от 85 до 150 тыс. человек, в которых жилье стоит дороже, в то время как данных из населенных пунктов с небольшим населением значительно меньше. "
   ]
  },
  {
   "cell_type": "markdown",
   "metadata": {},
   "source": [
    "##### Промежуточный вывод\n",
    "__По мере увеличения расстояния до центра города цена квадратного метра для всей выборки ведет себя немонотонно__: присутствуют как участки последовательного уменьшения цены квадратного метра, так и скачки стоимости. Возникновение скачков связано с тем, что в выборке представлены города разного размера, для которых медианная стоимость кв. метра может кардинально отличаться от аналогичной недвижимости в малых населенных пунктах. "
   ]
  },
  {
   "cell_type": "code",
   "execution_count": null,
   "metadata": {},
   "outputs": [],
   "source": [
    "def total_area_group(df):\n",
    "    \n",
    "    def total_area_group_row(row):\n",
    "        groups = [30, 40, 50, 60, 70, 80, 90, 100, 110, 120, 130, 140, 150]\n",
    "        for group in groups:\n",
    "            if row['total_area'] <= group:\n",
    "                return group\n",
    "            else:\n",
    "                pass\n",
    "    \n",
    "    df['total_area_group'] = df.apply(total_area_group_row, axis=1)\n",
    "    return df\n",
    "\n",
    "df_clean = total_area_group(df_clean)\n",
    "(df_clean.pivot_table(index='rooms', values='last_price', aggfunc='median')\n",
    "         .rename(columns={'last_price': 'last_price_median'})\n",
    "         .plot(figsize=(15, 6), grid=1, title='Зависимость медианной общей стоимости от числа комнат\\n'))\n",
    "plt.show()\n",
    "(df_clean.pivot_table(index='total_area_group', values='last_price', \n",
    "                aggfunc='median')\n",
    "         .rename(columns={'last_price': 'last_price_median'})\n",
    "         .plot(figsize=(15, 6), grid=1, title='Зависимость медианной общей стоимости от общей площади\\n'))\n",
    "plt.show()\n",
    "(df_clean.pivot_table(index='total_area_group', values='square_meter_price', \n",
    "                aggfunc='median')\n",
    "         .rename(columns={'square_meter_price': 'square_meter_price_median'})\n",
    "         .plot(figsize=(15, 6), grid=1, title='Зависимость медианной цены квадратного метра от общей площади\\n'))\n",
    "plt.show()"
   ]
  },
  {
   "cell_type": "markdown",
   "metadata": {},
   "source": [
    "Полученные соотношения иллюстрируют следующие закономерности:\n",
    "1. Общая стоимость недвижимости монотонно возрастает при увеличении общей площади квартиры\n",
    "2. Цена квадратного метра изменяется немонотонно: \n",
    "  1. На участке 30 - 80 кв. метров медианная цена квадратного метра понижается от отметки в 102 тыс. руб до 90 тыс. руб\n",
    "  2. На участке 80 - 110 кв. метров этот же показатель возрастает до отметки в 101 тыс. руб. \n",
    "  3. Недвижимость площадью свыше 110 кв. метров цена снижается до минимума по выборке (84 тыс. руб). \n",
    "  4. Зависимость медианной общей стоимости от общей площади находится в строгой корреляции с зависимостью того же показателя от числа комнат"
   ]
  },
  {
   "cell_type": "markdown",
   "metadata": {},
   "source": [
    "#### Зависимость от этажа\n",
    "Для определения зависимости стоимости кв. метра от этажа (первого или последнего) определим медианное значение цены кв. метра для обеих групп."
   ]
  },
  {
   "cell_type": "code",
   "execution_count": null,
   "metadata": {},
   "outputs": [],
   "source": [
    "first_floor_median_price = df_clean.query('floor_type == \"первый\"')['square_meter_price'].median()\n",
    "last_floor_median_price = df_clean.query('floor_type == \"последний\"')['square_meter_price'].median()\n",
    "other_floor_median_price = df_clean.query('floor_type == \"другой\"')['square_meter_price'].median()\n",
    "print(f'Медианная цена кв. метра для квартир на первом этаже: {first_floor_median_price}')\n",
    "print(f'Медианная цена кв. метра для квартир на последнем этаже: {last_floor_median_price}')\n",
    "print(f'Медианная цена кв. метра для остальных случаев: {other_floor_median_price}')\n",
    "print('Разница между первым и последним этажами:', round(100 - 100 * (first_floor_median_price / last_floor_median_price), 1), '%')\n",
    "print('Разница между последним этажом и \"другим\":', round(100 - 100 * (last_floor_median_price / other_floor_median_price), 1), '%')"
   ]
  },
  {
   "cell_type": "markdown",
   "metadata": {},
   "source": [
    "##### Промежуточный вывод\n",
    "Анализ показал, что __квартиры на последних этажах__ по медиане __дороже__ квартир на первых этажах на 6.9%, однако __дороже всего стоят квартиры, расположенные на других этажах.__"
   ]
  },
  {
   "cell_type": "markdown",
   "metadata": {},
   "source": [
    "#### Зависимость от года, месяца и дня размещения\n",
    "В каждом случае данные будут разбиты на группы, для каждой из которой будет расчитано медианное значение. \n",
    "##### Год размещения"
   ]
  },
  {
   "cell_type": "code",
   "execution_count": null,
   "metadata": {},
   "outputs": [],
   "source": [
    "(df_clean.pivot_table(index='year', values='square_meter_price', aggfunc='median')\n",
    "         .rename(columns={'square_meter_price': 'square_meter_price_median'})\n",
    "         .plot(y='square_meter_price_median', figsize=(15, 5), grid=True, \n",
    "               title='Зависимость медианной цены квадратного метра от года размещения\\n'))\n",
    "plt.show()\n",
    "(df_clean.pivot_table(index='year', values='square_meter_price', aggfunc='mean')\n",
    "         .rename(columns={'square_meter_price': 'square_meter_price_mean'})\n",
    "         .plot(figsize=(15, 5), grid=True, \n",
    "               title='Зависимость средней цены квадратного метра от года размещения\\n'))\n",
    "plt.show()"
   ]
  },
  {
   "cell_type": "markdown",
   "metadata": {},
   "source": [
    "Согласно полученным графикам, медианная и средняя стоимости квадратного метра для всех населенных пунктов и всех типов жилья менялись параболообразно: максимум соответствует 2014 и 2019 годам, затем наблюдался монотонный спад до отметки в 90-91 тыс. рублей за кв. метр в 2016 году, после чего цена монотонно увеличивалась до конца наблюдений в 2019 году.  \n",
    "_Графики среднего и медианного значений подобны по форме и значениям на оси y, что указывает на равномерное распределение значений цены квадратного метра по группам._"
   ]
  },
  {
   "cell_type": "markdown",
   "metadata": {},
   "source": [
    "##### Месяц размещения\n",
    "Зависимость будет определена сначала для всего периода наблюдений, затем для 2014 и 2016 годов отдельно, это позволит получить как картину распределения для всего периода наблюдений, так и для лет, когда картина качественно менялась. Это следует сделать, так как выше было показано, что с течением лет цена меняется не монотонно и важно понимать, в какие месяцы \"переломных\" лет картина начинала меняться"
   ]
  },
  {
   "cell_type": "code",
   "execution_count": null,
   "metadata": {},
   "outputs": [],
   "source": [
    "(df_clean.pivot_table(index='month', values='square_meter_price', aggfunc='median')\n",
    "        .rename(columns={'square_meter_price': 'square_meter_price_median'})\n",
    "        .plot(y='square_meter_price_median', figsize=(15, 5), grid=True))\n",
    "plt.show()"
   ]
  },
  {
   "cell_type": "markdown",
   "metadata": {},
   "source": [
    "Для всех лет наблюдения график изменения медианной цены квадратного метра показывает: \n",
    "1. Пилообразное изменение цены\n",
    "2. Март, апрель и август - самые \"дорогие\" месяцы\n",
    "3. Июнь - \"месяц недорогого жилья\""
   ]
  },
  {
   "cell_type": "code",
   "execution_count": null,
   "metadata": {},
   "outputs": [],
   "source": [
    "(df_clean.query('year == 2014')\n",
    "         .pivot_table(index='month', values='square_meter_price', aggfunc='median')\n",
    "         .rename(columns={'square_meter_price': 'square_meter_price_median'})\n",
    "         .plot(y='square_meter_price_median', figsize=(15, 5), grid=True))\n",
    "plt.show()"
   ]
  },
  {
   "cell_type": "markdown",
   "metadata": {},
   "source": [
    "В данных присутствуют только сведения с ноября 2014 года. Единственное, что можно сказать уверенно: _снижение медианной цены квадратного метра не прекращалось с ноября по декабрь 2014 года_."
   ]
  },
  {
   "cell_type": "code",
   "execution_count": null,
   "metadata": {},
   "outputs": [],
   "source": [
    "(df_clean.query('year == 2016')\n",
    "         .pivot_table(index='month', values='square_meter_price', aggfunc='median')\n",
    "         .rename(columns={'square_meter_price': 'square_meter_price_median'})\n",
    "         .plot(y='square_meter_price_median', figsize=(15, 5), grid=True, \n",
    "               title='Изменение медианной цены квадратного метра по месяцам в 2016 году\\n'))\n",
    "plt.show()"
   ]
  },
  {
   "cell_type": "markdown",
   "metadata": {},
   "source": [
    "В 2016 году медианная цена кв. метра вела себя скачкообразно, достигла минимума в августе, максимума в октябре.  \n",
    "Как и ожидалось, год закончился \"на подъеме\": с ноября по декабрь цена возрастала, пока не достигла отметки в 89 тыс., однако пик стоимости соответствует январю"
   ]
  },
  {
   "cell_type": "markdown",
   "metadata": {},
   "source": [
    "##### День размещения\n",
    "Данные по этому параметру будут исследоваться для всего периода исследования, без каких-либо группировок."
   ]
  },
  {
   "cell_type": "code",
   "execution_count": null,
   "metadata": {},
   "outputs": [],
   "source": [
    "(df_clean.pivot_table(index='day_of_the_week', values=['square_meter_price'], \n",
    "                      aggfunc={'square_meter_price': 'median'})\n",
    "         .rename(columns={'square_meter_price': 'square_meter_price_median'})\n",
    "         .plot(y='square_meter_price_median', figsize=(15, 5), grid=True, \n",
    "               title='Зависимость медианной цены за кв. метр от дня размещения.\\n 0 - понедельник, 6 - воскресенье.\\n'))\n",
    "plt.show()"
   ]
  },
  {
   "cell_type": "markdown",
   "metadata": {},
   "source": [
    "Медианная цена квадратного метра жилья распределена по дням недели неравномерно: \n",
    "1. Пик цены в среду\n",
    "2. Падение до минимума по выборке в четверг, пятницу и субботу\n",
    "3. Начало подъема в воскресенье"
   ]
  },
  {
   "cell_type": "markdown",
   "metadata": {},
   "source": [
    "### Крупнейшие города-источники объявлений. \n",
    "Выделим 10 крупнейших по численности объялений населенных пунктов."
   ]
  },
  {
   "cell_type": "code",
   "execution_count": null,
   "metadata": {},
   "outputs": [],
   "source": [
    "df_locality_name = (df_clean.pivot_table(index='locality_name', values='total_images', aggfunc='count')\n",
    "                            .rename(columns={'total_images': 'data_amount'})\n",
    "                            .sort_values(by='data_amount', ascending=False)\n",
    "                            .head(10))\n",
    "top_ten_data = df_clean.query('locality_name in @df_locality_name.index')\n",
    "top_ten_data_pivot = (top_ten_data.pivot_table(index='locality_name', values='square_meter_price',\n",
    "                         aggfunc='mean')\n",
    "             .rename(columns={'square_meter_price': 'square_meter_price_mean'})\n",
    "             .sort_values(by='square_meter_price_mean', ascending=False))\n",
    "top_ten_data_pivot"
   ]
  },
  {
   "cell_type": "markdown",
   "metadata": {},
   "source": [
    "Населенный пункт с самой высокой ценой квадратного метра"
   ]
  },
  {
   "cell_type": "code",
   "execution_count": null,
   "metadata": {},
   "outputs": [],
   "source": [
    "top_ten_data_pivot.head(1)"
   ]
  },
  {
   "cell_type": "markdown",
   "metadata": {},
   "source": [
    "Населенный пункт с самой низкой средней ценой квадратного метра"
   ]
  },
  {
   "cell_type": "code",
   "execution_count": null,
   "metadata": {},
   "outputs": [],
   "source": [
    "top_ten_data_pivot.tail(1)"
   ]
  },
  {
   "cell_type": "code",
   "execution_count": null,
   "metadata": {},
   "outputs": [],
   "source": [
    "print('Отношение максимальной средней цены кв. метра к минимальной в первой десятке городов равно:', round(107.06 / 58.68, 1))"
   ]
  },
  {
   "cell_type": "markdown",
   "metadata": {},
   "source": [
    "#### Вывод\n",
    "__Цена квадратного метра в Санкт-Петербурге__ - крупнейшем городе-источнике объявлений - __превышает аналогичный показатель для Выборга__ - наименее значимом источнике объявлений в первой десятке - __в 1.8 раз.__ "
   ]
  },
  {
   "cell_type": "markdown",
   "metadata": {},
   "source": [
    "### Сегмент квартир в центре для Санкт-Петербурга. "
   ]
  },
  {
   "cell_type": "markdown",
   "metadata": {},
   "source": [
    "Для сегмента квартир в центре Санкт-Петербурга будет проведено отдельное исследование."
   ]
  },
  {
   "cell_type": "markdown",
   "metadata": {},
   "source": [
    "Определим границу центра Санкт-Петербурга основываясь на средней цене квадратного метра."
   ]
  },
  {
   "cell_type": "code",
   "execution_count": null,
   "metadata": {},
   "outputs": [],
   "source": [
    "spb_data = df_clean.query('locality_name == \"Санкт-Петербург\"')\n",
    "(spb_data.pivot_table(index='cityCenters_nearest_group', values='square_meter_price',\n",
    "                     aggfunc='mean')\n",
    "         .rename(columns={'square_meter_price': 'square_meter_price_mean'})\n",
    "         .plot(y='square_meter_price_mean', figsize=(15, 5), grid=True))\n",
    "plt.show()"
   ]
  },
  {
   "cell_type": "markdown",
   "metadata": {},
   "source": [
    "Согласно полученному графику, __граница центра для Санкт-Петербурга - 7 километров.__  \n",
    "Средняя цена квадратного метра недвижимости за кольцом 6-7 км снижается без экстримальных скачков с отметки в 123 тыс. за кв. метр до отметки 75 тыс. в кольце 26-27 км.  \n",
    "Единственный заметный пик средней цены наблюдается в кольце 27-28 км, где показатель \"взлетает\" до отметки в 132 тыс. руб. за кв. метр. Возможно, в этой области на продажу выставлена элитная недвижимость, цена которой превышает среднерыночную для города. "
   ]
  },
  {
   "cell_type": "markdown",
   "metadata": {},
   "source": [
    "### Исследование сегмента квартир в центре Санкт-Петербурга."
   ]
  },
  {
   "cell_type": "markdown",
   "metadata": {},
   "source": [
    "Выделим объяления, относящиеся к центральному району Санкт-Петербурга и изучим их объем."
   ]
  },
  {
   "cell_type": "code",
   "execution_count": null,
   "metadata": {},
   "outputs": [],
   "source": [
    "spb_data_center = spb_data.query('cityCenters_nearest_group <= 7').reset_index(drop=True)\n",
    "spb_data_center_amount = len(spb_data_center)\n",
    "spb_data_center.info()"
   ]
  },
  {
   "cell_type": "markdown",
   "metadata": {},
   "source": [
    "Дальнейшее исследование будет проводится на выборке из 2212 объявлений."
   ]
  },
  {
   "cell_type": "markdown",
   "metadata": {},
   "source": [
    "#### Исследование ключевых характеристик жилья для выделенного центрального сегмента квартир. "
   ]
  },
  {
   "cell_type": "markdown",
   "metadata": {},
   "source": [
    "Будут исследованы следующие параметры: \n",
    "1. Площадь\n",
    "2. Цена\n",
    "3. Число комнат\n",
    "4. Высота потолков"
   ]
  },
  {
   "cell_type": "markdown",
   "metadata": {},
   "source": [
    "##### Площадь"
   ]
  },
  {
   "cell_type": "code",
   "execution_count": null,
   "metadata": {
    "scrolled": false
   },
   "outputs": [],
   "source": [
    "spb_data_center['total_area'].plot(kind='hist', figsize=(15, 5), grid=True, bins=50)\n",
    "plt.show()"
   ]
  },
  {
   "cell_type": "code",
   "execution_count": null,
   "metadata": {},
   "outputs": [],
   "source": [
    "data_below_100_percent = round(100 * len(spb_data_center.query('30 < total_area <= 100')) / spb_data_center_amount, 1)\n",
    "print(f'Процент объявлений с заявленной площадью более 30 и менее 100 кв.м: {data_below_100_percent}%')"
   ]
  },
  {
   "cell_type": "markdown",
   "metadata": {},
   "source": [
    "Согласно гистограмме и расчетам, абсолютное большинство объявлений (85%) \"продает\" недвижимость площадью от 35 до 100 кв. м."
   ]
  },
  {
   "cell_type": "markdown",
   "metadata": {},
   "source": [
    "##### Цена"
   ]
  },
  {
   "cell_type": "code",
   "execution_count": null,
   "metadata": {},
   "outputs": [],
   "source": [
    "spb_data_center['last_price'].plot(kind='hist', figsize=(15, 5), grid=True, bins=50, \n",
    "                                   title='Распределение стоимости жилья в центре Санкт-Петербурга')\n",
    "plt.show()"
   ]
  },
  {
   "cell_type": "code",
   "execution_count": null,
   "metadata": {},
   "outputs": [],
   "source": [
    "up_to_4_mil = len(spb_data_center.query('last_price <= 4000'))\n",
    "from_4_to_12_mil = len(spb_data_center.query('4000 < last_price <= 12000'))\n",
    "more_than_12_mil = len(spb_data_center.query('last_price > 12000'))\n",
    "up_to_4_mil_percent = round(100 * up_to_4_mil / spb_data_center_amount, 2)\n",
    "from_4_to_12_mil_percent = round(100 * from_4_to_12_mil / spb_data_center_amount, 2)\n",
    "more_than_12_mil_percent = round(100 * more_than_12_mil / spb_data_center_amount, 2)\n",
    "\n",
    "print(f'Процент объявлений до 4 млн. руб: {up_to_4_mil_percent}%')\n",
    "print(f'Процент объявлений от 4 до 12 млн. руб: {from_4_to_12_mil_percent}%')\n",
    "print(f'Процент объявлений \"дороже\" 12 млн. руб: {more_than_12_mil_percent}%')"
   ]
  },
  {
   "cell_type": "markdown",
   "metadata": {},
   "source": [
    "Согласно гистограмме и расчетам, абсолютное большинство объявлений принадлежат к ценовой категории от 4 до 12 млн. рублей."
   ]
  },
  {
   "cell_type": "code",
   "execution_count": null,
   "metadata": {},
   "outputs": [],
   "source": [
    "spb_data_center['square_meter_price'].plot(kind='hist', figsize=(15, 5), grid=True, bins=50, \n",
    "                                           title='Распределение цены квадратного метра в центре Санкт-Петербурга')\n",
    "plt.show()"
   ]
  },
  {
   "cell_type": "code",
   "execution_count": null,
   "metadata": {},
   "outputs": [],
   "source": [
    "from_60_to_160_th = len(spb_data_center.query('60 < square_meter_price <= 160'))\n",
    "from_60_to_160_th_percent = round(100 * from_60_to_160_th / spb_data_center_amount, 2)\n",
    "\n",
    "print(f'Процент объявлений от 60 до 160 тыс. руб за кв. м: {from_60_to_160_th_percent}%')"
   ]
  },
  {
   "cell_type": "markdown",
   "metadata": {},
   "source": [
    "Согласно гистограмме и расчетам, абсолютное большинство объявлений (89%) принадлежат к ценовой категории от 60 до 160 тыс. рублей за кв. метр."
   ]
  },
  {
   "cell_type": "markdown",
   "metadata": {},
   "source": [
    "##### Число комнат"
   ]
  },
  {
   "cell_type": "code",
   "execution_count": null,
   "metadata": {},
   "outputs": [],
   "source": [
    "spb_data_center['rooms'].plot(kind='hist', figsize=(15, 5), grid=True, bins=7, \n",
    "                              title='Распределение числа комнат для недвижимости в центре Санкт-Петербурга')\n",
    "plt.show()"
   ]
  },
  {
   "cell_type": "code",
   "execution_count": null,
   "metadata": {},
   "outputs": [],
   "source": [
    "from_2_to_3_rooms = len(spb_data_center.query('2 <= rooms <= 3'))\n",
    "one_or_four_rooms = len(spb_data_center.query('rooms in [1, 4]'))\n",
    "five_or_six_rooms = len(spb_data_center.query('rooms in [0, 5, 6]'))\n",
    "from_2_to_3_rooms_percent = round(100 * from_2_to_3_rooms / spb_data_center_amount, 2)\n",
    "one_or_four_rooms_percent = round(100 * one_or_four_rooms / spb_data_center_amount, 2)\n",
    "five_or_six_rooms_percent = round(100 * five_or_six_rooms / spb_data_center_amount, 2)\n",
    "\n",
    "print(f'Процент объявлений с 2 или 3 комнатами: {from_2_to_3_rooms_percent}%')\n",
    "print(f'Процент объявлений с 1 или 4 комнатами: {one_or_four_rooms_percent}%')\n",
    "print(f'Процент объявлений с 5, 6 комнатами и квартирами-студиями: {five_or_six_rooms_percent}%')"
   ]
  },
  {
   "cell_type": "markdown",
   "metadata": {},
   "source": [
    "Согласно полученному распределению и расчетам, самая многочисленная группа объявлений для центра Санкт-Петербурга \"продает\" квартиры с 2-3 комнатами.  \n",
    "Самая малочисленная группа \"продает\" квартиры студии, или квартиры с 5-6 комнатами"
   ]
  },
  {
   "cell_type": "markdown",
   "metadata": {},
   "source": [
    "##### Высота потолков"
   ]
  },
  {
   "cell_type": "code",
   "execution_count": null,
   "metadata": {},
   "outputs": [],
   "source": [
    "spb_data_center['ceiling_height'].plot(kind='hist', figsize=(15, 5), grid=True, bins=15, \n",
    "                                       title='Распределение числа комнат для недвижимости в центре Санкт-Петербурга')\n",
    "plt.show()"
   ]
  },
  {
   "cell_type": "code",
   "execution_count": null,
   "metadata": {},
   "outputs": [],
   "source": [
    "below_3_m_ceiling = len(spb_data_center.query('ceiling_height <= 3.1'))\n",
    "above_3_m_ceiling = len(spb_data_center.query('ceiling_height > 3.1'))\n",
    "below_3_m_ceiling_percent = round(100 * below_3_m_ceiling / spb_data_center_amount, 2)\n",
    "above_3_m_ceiling_percent = round(100 * above_3_m_ceiling / spb_data_center_amount, 2)\n",
    "\n",
    "print(f'Процент квартир с высотой потолков менее 3.1 метра включительно: {below_3_m_ceiling_percent}%')\n",
    "print(f'Процент квартир с высотой потолков выше 3.1 метра: {above_3_m_ceiling_percent}%')"
   ]
  },
  {
   "cell_type": "markdown",
   "metadata": {},
   "source": [
    "Согласно полученному распределению и расчетам, лишь каждая третья квартира в центре Санкт-Петербурга имеет потолки ниже трех метров.  \n",
    "Налицо пик частоты на уровне высоты потолков 3.1 метра, что выше наиболее часто всчтречаемых значений для всей выборки (2.7 метра)"
   ]
  },
  {
   "cell_type": "markdown",
   "metadata": {},
   "source": [
    "##### Вывод"
   ]
  },
  {
   "cell_type": "markdown",
   "metadata": {},
   "source": [
    "Из проведенного выше анализа следует, что наиболее чаще всего в центре Петербурга продают _2-3-комнатные квартиры площадью менее 100 квадратных метров и высотой потолков не более 3.1 метра. Цена квадратного метра чаще составляет от 60 до 160 тыс. руб. за кв. метр, а суммарная стоимость квартиры чаще всего останавливается между 4 и 12 млн. рублей._ "
   ]
  },
  {
   "cell_type": "code",
   "execution_count": null,
   "metadata": {
    "scrolled": false
   },
   "outputs": [],
   "source": [
    "# КОД РЕВЬЮВЕРА\n",
    "\n",
    "import plotly.express as px\n",
    "\n",
    "spb_data = df_clean.query('locality_name == \"Санкт-Петербург\"')\n",
    "\n",
    "\n",
    "spb_data['type_center']= spb_data.loc[spb_data['cityCenters_nearest'] <= 7000, 'type_center']='сenter'\n",
    "spb_data.loc[spb_data['cityCenters_nearest'] > 7000, 'type_center']='outside_center'\n",
    "\n",
    "features = ['last_price', 'rooms', 'total_area', 'ceiling_height']\n",
    "\n",
    "for col in features:\n",
    "    \n",
    "    fig = px.histogram(spb_data, x = col, color = 'type_center', marginal = 'box', title = 'Распределение '+col)\n",
    "    fig.show()"
   ]
  },
  {
   "cell_type": "markdown",
   "metadata": {},
   "source": [
    "### Ценообразование для квартир в центре Санкт-Петербурга"
   ]
  },
  {
   "cell_type": "markdown",
   "metadata": {},
   "source": [
    "В данном пункте будет исследование будет проведено по сценарию, аналогичному сценарию из пункта 1.5.2"
   ]
  },
  {
   "cell_type": "markdown",
   "metadata": {},
   "source": [
    "Зависимость цены квадратного метра от: \n",
    "1. Числа комнат\n",
    "2. Этажа (первого или последнего) \n",
    "3. Удалённости от центра.\n",
    "4. Даты размещения  \n",
    "  \n",
    "Начнем с анализа \"в лоб\": расчитаем коэффициент корреляции Пирсона на случай, если между количественными параметрами есть явная и сильная линейная зависимость.  "
   ]
  },
  {
   "cell_type": "code",
   "execution_count": null,
   "metadata": {},
   "outputs": [],
   "source": [
    "print('Коэффициент корреляции Пирсона для \"square_meter_price\" и \"rooms\":', \n",
    "      spb_data_center['square_meter_price'].corr(spb_data_center['rooms']))\n",
    "print('Коэффициент корреляции Пирсона для \"square_meter_price\" и \"cityCenters_nearest\":', \n",
    "      spb_data_center.query('cityCenters_nearest > 0')['square_meter_price']\n",
    "                     .corr(spb_data_center.query('cityCenters_nearest > 0')['cityCenters_nearest']))"
   ]
  },
  {
   "cell_type": "markdown",
   "metadata": {},
   "source": [
    "Хотя приведенные величины все так же слабо линейно-связаны, налицо явные отличия:  \n",
    "1. __Стоимость квадратного метра жилья падает при увеличении количества комнат__ (к-т корреляции Пирсона меньше нуля)\n",
    "2. Расстояние до центра города практически не влияет на цену квадратного метра.  \n",
    "\n",
    "Вероятнее всего, второе качество обусловлено тем, что все эти квартиры принимаются \"равноудаленными от центра\" в вопросах цены. "
   ]
  },
  {
   "cell_type": "markdown",
   "metadata": {},
   "source": [
    "#### Зависимость от числа комнат для центра Санкт-Петербурга"
   ]
  },
  {
   "cell_type": "code",
   "execution_count": null,
   "metadata": {},
   "outputs": [],
   "source": [
    "ax = (spb_data_center.pivot_table(index='rooms', values='square_meter_price', aggfunc='median')\n",
    "                     .plot(y='square_meter_price', grid=True, figsize=(15, 5), label='SPb_square_meter_price'))\n",
    "\n",
    "(df_clean.pivot_table(index='rooms', values='square_meter_price', aggfunc='median')\n",
    "         .plot(y='square_meter_price', grid=True, figsize=(15, 5), label='square_meter_price', ax=ax))\n",
    "\n",
    "plt.show()"
   ]
  },
  {
   "cell_type": "markdown",
   "metadata": {},
   "source": [
    "Вывод, сделанный в предыдущем пункте подтвержден: __цена квадратного метра непрерывно снижется по мере увеличения числа комнат__.   \n",
    "Примечательным является наличие в выборке недвижимости с нулем комнат, проверим, что за данные оказались в выборке. "
   ]
  },
  {
   "cell_type": "code",
   "execution_count": null,
   "metadata": {},
   "outputs": [],
   "source": [
    "spb_center_studio = spb_data_center.query('rooms == 0')['studio'].sum()\n",
    "spb_center_no_rooms = len(spb_data_center.query('rooms == 0'))\n",
    "\n",
    "print(f'Общее число объявлений с 0 комнат: {spb_center_no_rooms}')\n",
    "print(f'Из них квартир-студий: {spb_center_studio}')"
   ]
  },
  {
   "cell_type": "markdown",
   "metadata": {},
   "source": [
    "Следовательно, если считать выборку абсолютно репрезентативной, __в центре Петербурга квадратный метр жилья дороже всего в квартирах студиях__ (свыше 150 тыс. рублей за метр) и __дешевле всего в шестикомнатных квартирах__ (чуть меньше 100 тыс. рублей за квадрат)"
   ]
  },
  {
   "cell_type": "code",
   "execution_count": null,
   "metadata": {},
   "outputs": [],
   "source": [
    "(spb_data_center.pivot_table(index='total_area_group', values='square_meter_price', aggfunc='median')\n",
    "                .plot(grid=1, figsize=(15, 6), title='Зависимость медианной цены квадратного метра от общей площади\\n'))\n",
    "plt.show()"
   ]
  },
  {
   "cell_type": "markdown",
   "metadata": {},
   "source": [
    "При повышении общей площади квартиры цена квадратного метра монотонно убывает. "
   ]
  },
  {
   "cell_type": "code",
   "execution_count": null,
   "metadata": {},
   "outputs": [],
   "source": [
    "(spb_data_center.pivot_table(index='rooms', values='last_price', aggfunc='median')\n",
    "                .plot(grid=1, figsize=(15, 6), title='Зависимость медианной стоимости квартиры от числа комнат\\n'))\n",
    "plt.show()"
   ]
  },
  {
   "cell_type": "markdown",
   "metadata": {},
   "source": [
    "При повышении числа комнат общая стоимость квартиры монотонно возрастает. "
   ]
  },
  {
   "cell_type": "code",
   "execution_count": null,
   "metadata": {},
   "outputs": [],
   "source": [
    "(spb_data_center.pivot_table(index='total_area_group', values='last_price', aggfunc='median')\n",
    "                .plot(grid=1, figsize=(15, 6), title='Зависимость медианной стоимости квартиры от числа комнат\\n'))\n",
    "plt.show()"
   ]
  },
  {
   "cell_type": "markdown",
   "metadata": {},
   "source": [
    "При повышении общей площади квартиры ее общая стоимость возрастает."
   ]
  },
  {
   "cell_type": "markdown",
   "metadata": {},
   "source": [
    "#### Зависимость от расстояния до центра для центра Санкт-Петербурга.\n",
    "Для анализа зависимости цены кв. метра от расстояния до центра: \n",
    "1. Разобъем данные по \"группам удаленности\" с шагом в 1000 метров\n",
    "2. Для каждой группы расчитаем медианное значение\n",
    "3. Построим график исследуемой зависимости."
   ]
  },
  {
   "cell_type": "code",
   "execution_count": null,
   "metadata": {},
   "outputs": [],
   "source": [
    "(spb_data_center.pivot_table(index='cityCenters_nearest_group', values='square_meter_price', \n",
    "                            aggfunc='median')\n",
    "                .rename(columns={'square_meter_price': 'square_meter_price_median'})\n",
    "                .plot(figsize=(15, 5), grid=True, \n",
    "                      title='Зависимость медианной цены квадратного метра от расстояния до центра.\\n'))\n",
    "plt.show()"
   ]
  },
  {
   "cell_type": "markdown",
   "metadata": {},
   "source": [
    "Полученное распределение опровергает утверждение, сделаенное двумя пунктами выше.  \n",
    "Согласно полученому распределению, __наиболее низкая цена за квадратный метр соответствует кольцу 3-4 км от центра__, а __наиболее высокая, окраине центрального района - кольцу 6-7 км__ (увеличение на 16 процентов со 110 тыс рублей до 132 тыс. рублей за квадрат)"
   ]
  },
  {
   "cell_type": "markdown",
   "metadata": {},
   "source": [
    "#### Зависимость от этажа для центра Санкт-Петербурга\n",
    "Для определения зависимости стоимости кв. метра от этажа (первого или последнего) определим медианное значение цены кв. метра для обеих групп."
   ]
  },
  {
   "cell_type": "code",
   "execution_count": null,
   "metadata": {},
   "outputs": [],
   "source": [
    "first_floor_median_price = spb_data_center.query('floor_type == \"первый\"')['square_meter_price'].median()\n",
    "last_floor_median_price = spb_data_center.query('floor_type == \"последний\"')['square_meter_price'].median()\n",
    "other_floor_median_price = spb_data_center.query('floor_type == \"другой\"')['square_meter_price'].median()\n",
    "print(f'Медианная цена кв. метра для квартир на первом этаже: {first_floor_median_price}')\n",
    "print(f'Медианная цена кв. метра для квартир на последнем этаже: {last_floor_median_price}')\n",
    "print(f'Медианная цена кв. метра для квартир на других этажах: {other_floor_median_price}')"
   ]
  },
  {
   "cell_type": "markdown",
   "metadata": {},
   "source": [
    "Согласно полученным значениям, общий тренд описывает и распределение медианной стоимости квадратного метра для центра Санкт-Петербурга: квартиры на последних этажах дороже квартир на первых. Порядок разницы также совпадает (6.9% для всей выборки, 7.8% для центра Петербурга).   \n",
    "Аналогично всей выборке, медианная цена квадратного метра для других этажей также выше. "
   ]
  },
  {
   "cell_type": "markdown",
   "metadata": {},
   "source": [
    "#### Зависимость от года, месяца и дня размещения для центра Санкт-Петербурга. "
   ]
  },
  {
   "cell_type": "markdown",
   "metadata": {},
   "source": [
    "##### Год размещения"
   ]
  },
  {
   "cell_type": "code",
   "execution_count": null,
   "metadata": {},
   "outputs": [],
   "source": [
    "ax = (spb_data_center.pivot_table(index='year', values='square_meter_price', aggfunc='median')\n",
    "                .rename(columns={'square_meter_price': 'square_meter_price_median'})\n",
    "                .plot(y='square_meter_price_median', figsize=(15, 5), grid=True, label='SPb_square_meter_price_median'))\n",
    "(df_clean.pivot_table(index='year', values='square_meter_price', aggfunc='median')\n",
    "                .rename(columns={'square_meter_price': 'square_meter_price_median'})\n",
    "                .plot(y='square_meter_price_median', figsize=(15, 5), grid=True, \n",
    "                      title='Зависимость медианной цены квадратного метра от года публикации \\n', ax=ax))\n",
    "plt.show()\n"
   ]
  },
  {
   "cell_type": "markdown",
   "metadata": {},
   "source": [
    "Распределение цены квадратного метра по годам для центра Санкт-Петербурга практически точно повторяет аналогичное распределение для всей выборки с поправкой на повышенную медианную цену квадратного метра.  \n",
    "Стоит также обратить внимание, что на протяжении всех лет наблюдений, за исключением 2014, медианная цена квадрата в центре Петербурга превышала аналогичный показатель для всей выборки на практически одинаковое значение (ок. 30 тыс. руб за кв. метр)"
   ]
  },
  {
   "cell_type": "markdown",
   "metadata": {},
   "source": [
    "##### Месяц размещения"
   ]
  },
  {
   "cell_type": "code",
   "execution_count": null,
   "metadata": {},
   "outputs": [],
   "source": [
    "ax = (spb_data_center.pivot_table(index='month', values='square_meter_price', \n",
    "                                  aggfunc='median')\n",
    "                     .rename(columns={'square_meter_price': 'square_meter_price_median'})\n",
    "                     .plot(y='square_meter_price_median', figsize=(15, 5), grid=True, label='SPb_square_meter_price_median'))\n",
    "\n",
    "(df_clean.pivot_table(index='month', values='square_meter_price', aggfunc='median')\n",
    "        .rename(columns={'square_meter_price': 'square_meter_price_median'})\n",
    "        .plot(y='square_meter_price_median', figsize=(15, 5), grid=True, label='square_meter_price_median', \n",
    "              title='Изменение медианной цены квадратного метра по месяцам публикации', ax=ax))\n",
    "plt.show()"
   ]
  },
  {
   "cell_type": "markdown",
   "metadata": {},
   "source": [
    "Согласно полученной картине, амплитуда колебаний медианной цены квадратного метра для центра Петербурга выше аналогичного показателя для всей выборки (15 тыс. руб. за квадрат против 4 тыс. руб. за квадрат).  \n",
    "Примечательно то, что с января по март во всей выборке колебания цены отсутствуют, в то время как в центре Петербурга цена сначала падает, а затем увеличивается.  \n",
    "Ключевой вывод: изменение цен для квартир по месяцам в центре Петербурга не отражает изменений аналогичного параметра в масштабах всей выборки. "
   ]
  },
  {
   "cell_type": "code",
   "execution_count": null,
   "metadata": {},
   "outputs": [],
   "source": [
    "ax = (spb_data_center.pivot_table(index='year', values='square_meter_price', aggfunc='mean')\n",
    "                .rename(columns={'square_meter_price': 'square_meter_price_mean'})\n",
    "                .plot(y='square_meter_price_mean', figsize=(15, 5), grid=True, label='SPb_square_meter_price_mean'))\n",
    "(df_clean.pivot_table(index='year', values='square_meter_price', aggfunc='mean')\n",
    "                .rename(columns={'square_meter_price': 'square_meter_price_mean'})\n",
    "                .plot(y='square_meter_price_mean', figsize=(15, 5), grid=True, \n",
    "                      title='Зависимость средней цены квадратного метра от года публикации \\n', ax=ax))\n",
    "plt.show()\n"
   ]
  },
  {
   "cell_type": "code",
   "execution_count": null,
   "metadata": {},
   "outputs": [],
   "source": [
    "ax = (spb_data_center.pivot_table(index='month', values='square_meter_price', \n",
    "                                  aggfunc='mean')\n",
    "                     .rename(columns={'square_meter_price': 'square_meter_price_mean'})\n",
    "                     .plot(y='square_meter_price_mean', figsize=(15, 5), grid=True, label='SPb_square_meter_price_mean'))\n",
    "\n",
    "(df_clean.pivot_table(index='month', values='square_meter_price', aggfunc='mean')\n",
    "        .rename(columns={'square_meter_price': 'square_meter_price_mean'})\n",
    "        .plot(y='square_meter_price_mean', figsize=(15, 5), grid=True, label='square_meter_price_mean', \n",
    "              title='Изменение средней цены квадратного метра по месяцам публикации', ax=ax))\n",
    "plt.show()"
   ]
  },
  {
   "cell_type": "markdown",
   "metadata": {},
   "source": [
    "##### День размещения. "
   ]
  },
  {
   "cell_type": "code",
   "execution_count": null,
   "metadata": {},
   "outputs": [],
   "source": [
    "ax = (spb_data_center.pivot_table(index='day_of_the_week', values=['square_meter_price'], \n",
    "                                  aggfunc={'square_meter_price': 'median'})\n",
    "                     .rename(columns={'square_meter_price': 'square_meter_price_median'})\n",
    "                     .plot(y='square_meter_price_median', figsize=(15, 5), grid=True, label='SPb_square_meter_price_median'))\n",
    "\n",
    "(df_clean.pivot_table(index='day_of_the_week', values=['square_meter_price'], \n",
    "                      aggfunc={'square_meter_price': 'median'})\n",
    "         .rename(columns={'square_meter_price': 'square_meter_price_median'})\n",
    "         .plot(y='square_meter_price_median', figsize=(15, 5), grid=True, label='square_meter_price_median',\n",
    "               title='Зависимость медианной цены за кв. метр от дня размещения.\\n 0 - понедельник, 6 - воскресенье.\\n', ax=ax))\n",
    "plt.show()"
   ]
  },
  {
   "cell_type": "code",
   "execution_count": null,
   "metadata": {},
   "outputs": [],
   "source": [
    "ax = (spb_data_center.pivot_table(index='day_of_the_week', values=['square_meter_price'], \n",
    "                                  aggfunc={'square_meter_price': 'mean'})\n",
    "                     .rename(columns={'square_meter_price': 'square_meter_price_mean'})\n",
    "                     .plot(y='square_meter_price_mean', figsize=(15, 5), grid=True, label='SPb_square_meter_price_mean'))\n",
    "\n",
    "(df_clean.pivot_table(index='day_of_the_week', values=['square_meter_price'], \n",
    "                      aggfunc={'square_meter_price': 'mean'})\n",
    "         .rename(columns={'square_meter_price': 'square_meter_price_mean'})\n",
    "         .plot(y='square_meter_price_mean', figsize=(15, 5), grid=True, label='square_meter_price_mean',\n",
    "               title='Зависимость  средней цены за кв. метр от дня размещения.\\n 0 - понедельник, 6 - воскресенье.\\n', ax=ax))\n",
    "plt.show()"
   ]
  },
  {
   "cell_type": "markdown",
   "metadata": {},
   "source": [
    "Распределение цен по дням недели для центра Петербурга также не имеет почти ничего общего с аналогичным распределением для всей выборки: \n",
    "1. В центре Петербурга отсутствует монотонный участок с понедельника по четверг, вместо этого - осцилляция показателя в пределах от 126 до 118 тыс. руб. \n",
    "2. \"Самый недорогой\" день для центра Петербурга - вторник, для всей выборки - суббота  \n",
    "  \n",
    "Единственное, в чем распределения совпали - это _воскресный пик цен_. Именно в воскресенье публикуются \"самые дорогие\" объявления (объявления с максимальной медианной ценой кв. метра жилья)."
   ]
  },
  {
   "cell_type": "markdown",
   "metadata": {},
   "source": [
    "### Вывод\n",
    "Центральный район Санкт-Петербурга в сравнении со всей выборкой имеет ряд отличий: \n",
    "1. Порог типичной стоимости жилья выше в два раза (20 млн. для Петербурга против 10 млн. для всей выборки)\n",
    "2. Чаще всего встречаются потолки высотой в 2.9 - 3.1 метра\n",
    "3. Рост количества комнат монотонно снижает цену квадратного метра (во всей выборке цена меняется слабо)\n",
    "4. Распределение стоимости объявлений имеет пики в разные дни (\"самый недорогой\" день для центра Петербурга - вторник, для всей выборки - суббота)\n",
    "  \n",
    "Присутствует также и ряд сходств: \n",
    "1. Изменение цены по годам имеет схожий характер\n",
    "2. Распределения цен для обеих выборок визуально соответствуют распределению Пуассона. "
   ]
  },
  {
   "cell_type": "markdown",
   "metadata": {},
   "source": [
    "## Шаг 5. Общий вывод"
   ]
  },
  {
   "cell_type": "markdown",
   "metadata": {},
   "source": [
    "В ходе выполнения проекта: \n",
    "1. Были __определены пропущенные значения__ в колонках с категориальными и количественными данными. Сделаны предположения о причине их возникновения\n",
    "2. __Было проведено обогащение данных__, благодаря которому удалось избежать серьезного сокращения объема датасета\n",
    "3. __Типы данных и__, в некоторых случаях, __их формат были изменены__ для повышения эффективности расчетов и повышения читаемости результатов (форматирование данных в столбце с информацие о дате и времени, приведение цен к тысячам рублей, округление высот потолков и данных о площадях и пр.)\n",
    "4. В датасет __были добавлены столбцы__ с новыми характеристиками\n",
    "5. Был __проведен исследовательский анализ__ некоторых количественных переменных\n",
    "6. Были определены __границы \"слишком быстрых\" и \"слишком медленных\"__ продаж. Также на данном этапе __был обнаружен артефакт__ в исходных данных\n",
    "7. Было оценено __влияние различных факторов на цену квадратного метра__ для всей выборки\n",
    "8. Были выделены __10 крупнейших городов-источников__ объявлений, для каждого были расчитаны средние цены квадратного метра\n",
    "9. __Для Санкт-Петербурга__ на основании распределения средней стоимости __был выделен сегмент квартир в центре__\n",
    "10. Пункты 5 и 7 были повторены для среза данных, соответствующих центру Петербурга\n",
    "  \n",
    "По каждому из пунктов были сделаны выводы, подкрепленные графиками и расчетами. "
   ]
  }
 ],
 "metadata": {
  "kernelspec": {
   "display_name": "Python 3",
   "language": "python",
   "name": "python3"
  },
  "language_info": {
   "codemirror_mode": {
    "name": "ipython",
    "version": 3
   },
   "file_extension": ".py",
   "mimetype": "text/x-python",
   "name": "python",
   "nbconvert_exporter": "python",
   "pygments_lexer": "ipython3",
   "version": "3.8.5"
  },
  "toc": {
   "base_numbering": 1,
   "nav_menu": {
    "height": "479px",
    "width": "429px"
   },
   "number_sections": true,
   "sideBar": true,
   "skip_h1_title": false,
   "title_cell": "Table of Contents",
   "title_sidebar": "Contents",
   "toc_cell": false,
   "toc_position": {},
   "toc_section_display": true,
   "toc_window_display": false
  }
 },
 "nbformat": 4,
 "nbformat_minor": 2
}
